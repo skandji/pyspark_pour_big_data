{
 "cells": [
  {
   "cell_type": "code",
   "execution_count": 1,
   "id": "cf6b6771-cb66-48ce-b898-93249e15393c",
   "metadata": {},
   "outputs": [],
   "source": [
    "from pyspark.sql import SparkSession\n",
    "spark = SparkSession.builder.appName('deep_learning').getOrCreate()\n",
    "import os\n",
    "import numpy as np\n",
    "import pandas as pd\n",
    "from pyspark.sql.types import *"
   ]
  },
  {
   "cell_type": "code",
   "execution_count": 2,
   "id": "eaf7464d-b53f-472b-bd58-a862f82eec8e",
   "metadata": {},
   "outputs": [
    {
     "name": "stdout",
     "output_type": "stream",
     "text": [
      "root\n",
      " |-- Visit_Number_Bucket: string (nullable = true)\n",
      " |-- Page_Views_Normalized: double (nullable = true)\n",
      " |-- Orders_Normalized: integer (nullable = true)\n",
      " |-- Internal_Search_Successful_Normalized: double (nullable = true)\n",
      " |-- Internal_Search_Null_Normalized: double (nullable = true)\n",
      " |-- Email_Signup_Normalized: double (nullable = true)\n",
      " |-- Total_Seconds_Spent_Normalized: double (nullable = true)\n",
      " |-- Store_Locator_Search_Normalized: double (nullable = true)\n",
      " |-- Mapped_Last_Touch_Channel: string (nullable = true)\n",
      " |-- Mapped_Mobile_Device_Type: string (nullable = true)\n",
      " |-- Mapped_Browser_Type: string (nullable = true)\n",
      " |-- Mapped_Entry_Pages: string (nullable = true)\n",
      " |-- Mapped_Site_Section: string (nullable = true)\n",
      " |-- Mapped_Promo_Code: string (nullable = true)\n",
      " |-- Maped_Product_Name: string (nullable = true)\n",
      " |-- Mapped_Search_Term: string (nullable = true)\n",
      " |-- Mapped_Product_Collection: string (nullable = true)\n",
      "\n"
     ]
    }
   ],
   "source": [
    "# Loading Dataset\n",
    "data = spark.read.csv('dl_data.csv',inferSchema=True,header=True)\n",
    "data.printSchema()"
   ]
  },
  {
   "cell_type": "code",
   "execution_count": 3,
   "id": "fe250574-0712-4672-947a-dd101ae51512",
   "metadata": {},
   "outputs": [
    {
     "name": "stdout",
     "output_type": "stream",
     "text": [
      "root\n",
      " |-- Visit_Number_Bucket: string (nullable = true)\n",
      " |-- Page_Views_Normalized: double (nullable = true)\n",
      " |-- label: integer (nullable = true)\n",
      " |-- Internal_Search_Successful_Normalized: double (nullable = true)\n",
      " |-- Internal_Search_Null_Normalized: double (nullable = true)\n",
      " |-- Email_Signup_Normalized: double (nullable = true)\n",
      " |-- Total_Seconds_Spent_Normalized: double (nullable = true)\n",
      " |-- Store_Locator_Search_Normalized: double (nullable = true)\n",
      " |-- Mapped_Last_Touch_Channel: string (nullable = true)\n",
      " |-- Mapped_Mobile_Device_Type: string (nullable = true)\n",
      " |-- Mapped_Browser_Type: string (nullable = true)\n",
      " |-- Mapped_Entry_Pages: string (nullable = true)\n",
      " |-- Mapped_Site_Section: string (nullable = true)\n",
      " |-- Mapped_Promo_Code: string (nullable = true)\n",
      " |-- Maped_Product_Name: string (nullable = true)\n",
      " |-- Mapped_Search_Term: string (nullable = true)\n",
      " |-- Mapped_Product_Collection: string (nullable = true)\n",
      "\n"
     ]
    }
   ],
   "source": [
    "data = data.withColumnRenamed('Orders_Normalized','label')\n",
    "data.printSchema()"
   ]
  },
  {
   "cell_type": "code",
   "execution_count": 4,
   "id": "6f9d8cf2-3e54-4dba-9188-a632f622030b",
   "metadata": {},
   "outputs": [],
   "source": [
    "from pyspark.ml.feature import OneHotEncoder, VectorAssembler, StringIndexer\n",
    "from pyspark.ml import Pipeline\n",
    "from pyspark.sql.functions import udf, StringType\n",
    "from pyspark.ml.evaluation import MulticlassClassificationEvaluator\n",
    "from pyspark.ml.classification import MultilayerPerceptronClassifier"
   ]
  },
  {
   "cell_type": "code",
   "execution_count": 6,
   "id": "d441c0db-eb45-403b-9d86-fcca67ef728f",
   "metadata": {},
   "outputs": [],
   "source": [
    "train, validation, test = data.randomSplit([0.7, 0.2, 0.1], 1234)"
   ]
  },
  {
   "cell_type": "code",
   "execution_count": 11,
   "id": "81f48d9f-e23f-466b-81e9-e63a12c7f96f",
   "metadata": {},
   "outputs": [],
   "source": [
    "categorical_columns = [item[0] for item in data.dtypes if item[1].startswith('string')]\n",
    "numeric_columns = [item[0] for item in data.dtypes if item[1].startswith('double')]\n",
    "indexers = [StringIndexer(inputCol=column, outputCol='{0}_index'.format(column)) for column in categorical_columns]"
   ]
  },
  {
   "cell_type": "code",
   "execution_count": 12,
   "id": "d770ae5a-78ba-49dc-aea9-dd3a97feff9c",
   "metadata": {},
   "outputs": [],
   "source": [
    "featuresCreator = VectorAssembler(inputCols=[indexer.getOutputCol() for indexer in indexers] + numeric_columns, outputCol='features')\n",
    "layers = [len(featuresCreator.getInputCols()), 4, 2, 2]"
   ]
  },
  {
   "cell_type": "code",
   "execution_count": 13,
   "id": "63fb72f0-caf7-4f93-826b-6531dfd3c7da",
   "metadata": {},
   "outputs": [],
   "source": [
    "classifier = MultilayerPerceptronClassifier(labelCol='label', featuresCol='features', maxIter=100, layers=layers, blockSize= 128, seed=1234)"
   ]
  },
  {
   "cell_type": "code",
   "execution_count": 14,
   "id": "a2a51064-4d21-4fc6-a0de-f12139948b4f",
   "metadata": {},
   "outputs": [],
   "source": [
    "pipeline = Pipeline(stages=indexers + [featuresCreator, classifier])\n",
    "model = pipeline.fit(train)"
   ]
  },
  {
   "cell_type": "code",
   "execution_count": 15,
   "id": "1ac70e03-312d-42e6-8a8e-49ed5b482e5d",
   "metadata": {},
   "outputs": [],
   "source": [
    "train_output_df = model.transform(train)\n",
    "validation_output_df = model.transform(validation)\n",
    "test_output_df = model.transform(test)\n",
    "train_predictionAndLabels = train_output_df.select(['prediction','label'])\n",
    "validation_predictionAndLabels = validation_output_df.select(['prediction', 'label'])\n",
    "test_predictionAndLabels = test_output_df.select(['prediction', 'label'])"
   ]
  },
  {
   "cell_type": "code",
   "execution_count": 16,
   "id": "61e63626-256f-4492-82a2-1c3907ad6ade",
   "metadata": {},
   "outputs": [
    {
     "name": "stdout",
     "output_type": "stream",
     "text": [
      "Train weightedPrecision = 0.978147011016796\n",
      "Validation weightedPrecision = 0.9788347813448328\n",
      "Test weightedPrecision = 0.9794463516482865\n",
      "Train weightedRecall = 0.9779247301371196\n",
      "Validation weightedRecall = 0.9786681252563927\n",
      "Test weightedRecall = 0.9793177544990599\n",
      "Train accuracy = 0.9779247301371196\n",
      "Validation accuracy = 0.9786681252563927\n",
      "Test accuracy = 0.9793177544990599\n"
     ]
    }
   ],
   "source": [
    "metrics = ['weightedPrecision','weightedRecall','accuracy']\n",
    "for metric in metrics:\n",
    "    evaluator = MulticlassClassificationEvaluator(metricName=metric)\n",
    "    print('Train ' + metric + ' = ' + str(evaluator.evaluate(train_predictionAndLabels)))\n",
    "    print('Validation ' + metric + ' = ' + str(evaluator.evaluate(validation_predictionAndLabels)))\n",
    "    print('Test ' + metric + ' = ' + str(evaluator.evaluate(test_predictionAndLabels)))"
   ]
  },
  {
   "cell_type": "code",
   "execution_count": null,
   "id": "80d097cf-a59b-4ad5-8294-e5571abc0856",
   "metadata": {},
   "outputs": [],
   "source": []
  }
 ],
 "metadata": {
  "kernelspec": {
   "display_name": "Python 3 (ipykernel)",
   "language": "python",
   "name": "python3"
  },
  "language_info": {
   "codemirror_mode": {
    "name": "ipython",
    "version": 3
   },
   "file_extension": ".py",
   "mimetype": "text/x-python",
   "name": "python",
   "nbconvert_exporter": "python",
   "pygments_lexer": "ipython3",
   "version": "3.10.6"
  }
 },
 "nbformat": 4,
 "nbformat_minor": 5
}
