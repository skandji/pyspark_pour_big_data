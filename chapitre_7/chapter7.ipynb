{
 "cells": [
  {
   "cell_type": "code",
   "execution_count": 1,
   "id": "ba4011af-b97b-4b1b-8295-1a1d13b68875",
   "metadata": {},
   "outputs": [],
   "source": [
    "# Importing SparkSession and Creating an Object\n",
    "from pyspark.sql import SparkSession\n",
    "spark = SparkSession.builder.appName('unsupervised_learning').getOrCreate()"
   ]
  },
  {
   "cell_type": "code",
   "execution_count": 3,
   "id": "eb6cd17f-f968-4937-80c1-b9cc83bf6417",
   "metadata": {},
   "outputs": [],
   "source": [
    "# Several libraries\n",
    "import pyspark\n",
    "import pandas as pd\n",
    "import numpy as np\n",
    "import matplotlib.pyplot as plt\n",
    "from pyspark.sql.functions import *\n",
    "from pyspark.sql.types import *\n",
    "from pyspark.ml.clustering import KMeans"
   ]
  },
  {
   "cell_type": "code",
   "execution_count": 4,
   "id": "d3761265-0843-4b17-bba8-d136b64ffd0f",
   "metadata": {},
   "outputs": [
    {
     "data": {
      "text/plain": [
       "429023"
      ]
     },
     "execution_count": 4,
     "metadata": {},
     "output_type": "execute_result"
    }
   ],
   "source": [
    "df = spark.read.csv('music_data.csv',inferSchema=True,header=True)\n",
    "df.count()"
   ]
  },
  {
   "cell_type": "code",
   "execution_count": 5,
   "id": "37d91069-af09-4049-a718-d67bb612f95c",
   "metadata": {},
   "outputs": [
    {
     "name": "stdout",
     "output_type": "stream",
     "text": [
      "root\n",
      " |-- user_id: string (nullable = true)\n",
      " |-- music category: string (nullable = true)\n",
      "\n"
     ]
    }
   ],
   "source": [
    "df.printSchema()"
   ]
  },
  {
   "cell_type": "code",
   "execution_count": 6,
   "id": "a1fe1a33-add4-4625-beeb-5dda094d2b36",
   "metadata": {},
   "outputs": [
    {
     "data": {
      "text/plain": [
       "21"
      ]
     },
     "execution_count": 6,
     "metadata": {},
     "output_type": "execute_result"
    }
   ],
   "source": [
    "df.select('music category').distinct().count()"
   ]
  },
  {
   "cell_type": "code",
   "execution_count": 8,
   "id": "0b2bb03e-8b10-482a-ac73-85f5194c2fc4",
   "metadata": {},
   "outputs": [
    {
     "name": "stdout",
     "output_type": "stream",
     "text": [
      "+-----------------+-----+\n",
      "|music category   |count|\n",
      "+-----------------+-----+\n",
      "|Alternative Music|64227|\n",
      "|Blues            |54647|\n",
      "|Classical Music  |43117|\n",
      "|Country Music    |39891|\n",
      "|Dance Music      |35779|\n",
      "|Easy Listening   |34356|\n",
      "|Electronic Music |30985|\n",
      "|Rap              |29569|\n",
      "|Hip Hop          |16895|\n",
      "|Indie Pop        |16244|\n",
      "|Motivational     |10118|\n",
      "|Asian Pop        |8444 |\n",
      "|Jazz             |7685 |\n",
      "|Latin Music      |7302 |\n",
      "|New Age          |7053 |\n",
      "|Opera            |6188 |\n",
      "|Hindi Music      |5689 |\n",
      "|Popular          |4729 |\n",
      "|Soulful          |2403 |\n",
      "|Reggae           |1970 |\n",
      "|Rock             |1732 |\n",
      "+-----------------+-----+\n",
      "\n"
     ]
    }
   ],
   "source": [
    "df.groupBy('music category').count().orderBy('count',ascending=False).show(100,False)"
   ]
  },
  {
   "cell_type": "code",
   "execution_count": 9,
   "id": "fc527e34-7b30-4450-8d02-493028521491",
   "metadata": {},
   "outputs": [
    {
     "data": {
      "text/plain": [
       "775"
      ]
     },
     "execution_count": 9,
     "metadata": {},
     "output_type": "execute_result"
    }
   ],
   "source": [
    "df.select('user_id').distinct().count()"
   ]
  },
  {
   "cell_type": "code",
   "execution_count": 11,
   "id": "2eebbc0a-ac13-4c4e-8cc6-e9ccc8a15df6",
   "metadata": {},
   "outputs": [
    {
     "name": "stdout",
     "output_type": "stream",
     "text": [
      "+----------------------------------------------------------------+-----+\n",
      "|user_id                                                         |count|\n",
      "+----------------------------------------------------------------+-----+\n",
      "|628119a73b9725466e6c309f803d30cfc3b11d2a426cdd5f0d62a496e105c914|14257|\n",
      "|179dd34be075e729f14dadc28a34459226c4f62797af5f186bddbb7428b8fc78|11804|\n",
      "|2d765ea4ffc6554c95a1c703afcd3470bc118a65c2f0728871f4d0f40628f41b|11001|\n",
      "|ca60aad85306a7fdd51a469ca6a5d27109dfd5f5781d7da985c70574d2520d23|10479|\n",
      "|03bfd7e24d3a7ce9e3973f9d42ad89e4c1710b89bec59b2b08712ba73372dcbc|10075|\n",
      "|7660ca8a4f5df748976aac001d5f0c5b7c8806f5c08197542d26c2eac4b20f85|9932 |\n",
      "|b6eb8ef9cacc79b6779a7e065c3b0fb5174397ea983d70453bc978b6e46f95e2|7694 |\n",
      "|e92f348b4a29089c9d7b82095d0bd49422153b60bbde08527015121e44699990|7210 |\n",
      "|da03e0ef521fecb209f01410eefff11c115fda2d217dde51fd870761b31bb968|7182 |\n",
      "|04cd1fc5c925a8a702607d6c1a047b8e0cbe170bdaed5270369d321f73254b53|6853 |\n",
      "|a2374ccb47b0af60aafabeed11b979acf0d72e1afe7f96b671302aaa51592531|6730 |\n",
      "|1ed20907b0eb013b6d2b8097671c5faaaae884ac9ae4b77753ee7d640036e080|6612 |\n",
      "|19152e9dc36bd8fdded0be20e1a371cc5a57edd5a248973c9fa5b8ed4c8bdb0c|5378 |\n",
      "|dd69f69a8df66f0d79c8a2ce41ace204dbb74e1a5a3ae36c511b8cd9ef9000a5|5255 |\n",
      "|1b2dfdebfa64564c8eb7785c77b9f1cdaee6059b63b30a59c2701fee6c20407c|4928 |\n",
      "|7cc577809aedea3d9423fccf6091258b9a7a0b66089d6aa86689548139c36e4b|4450 |\n",
      "|0d5b7fbb167130690b8a7149d81529a2048242945a64b46c427915e8fded9e75|4371 |\n",
      "|7a39568d24f3b1a953c2bc98d638cdc2b7eb02f0e6ddcee29bbc5034ec9ad76e|4324 |\n",
      "|e6f90a69588f335223ac774391f7a1835d9225dc8f2090fd59265d9836783f25|4301 |\n",
      "|4ab70e2a682304ce1b4b3b292b015ae343f255aca18863a4fe47a69ffd3470f8|4277 |\n",
      "+----------------------------------------------------------------+-----+\n",
      "only showing top 20 rows\n",
      "\n"
     ]
    }
   ],
   "source": [
    "df.groupBy('user_id').count().orderBy('count',ascending=False).show(20,False)"
   ]
  },
  {
   "cell_type": "code",
   "execution_count": 12,
   "id": "0f909d0f-f09a-4b22-93d7-04c4fe0109f4",
   "metadata": {},
   "outputs": [
    {
     "name": "stdout",
     "output_type": "stream",
     "text": [
      "+----------------------------------------------------------------+-----+\n",
      "|user_id                                                         |count|\n",
      "+----------------------------------------------------------------+-----+\n",
      "|a09074b27cd4ab61654c0f4e21bc5e97dc86a611743a1f8b37db3a76df8e306e|1    |\n",
      "|54f2e60bd31a775aca7fb60816c6990a415fe66694098d1ee64cc9e13f831a64|1    |\n",
      "|e6e6ceb674b7ca53391ac404558a3f8d222db82c643b8c21070db4f029a50095|1    |\n",
      "|1e3e7153bf1aa5f43b1d1f27c940087587a50d40d399f4cf31b58546a39b9f26|1    |\n",
      "|4d5920f000b000d60fdc63043886f47cc056d2835d3a73e50f389a5694b19115|1    |\n",
      "|402c7aac3776a3758ca143819a0653c6cd33c6c35dd831d9ba5aad1dff43a888|1    |\n",
      "|8691b41f5ae65644c8aca0ec9d738eb3b5537b106f0fdcb3f652cc77b7ab7dd6|1    |\n",
      "|ba35ab150a757e0b3abf9c5f11b7686e5394f6cdcb59d257f9fd2e1dd7cf23c2|1    |\n",
      "|597affc56ba81274561da2b3541a8e1a30f7bbcf75cb54a9f9c1a885d88f7f7b|1    |\n",
      "|8aced64c96741dbeab4659f102f34c157189b3f7a63807d87bad5d8c663005cb|1    |\n",
      "|1e6fb89e6aca7641dba8bbd87e97badb8306f1ce50c02c2b0a6f36457e843221|1    |\n",
      "|d631ffaf7f6731b146cecbf16c02fc543d02f5a8377561e5dd60a9eba603e001|1    |\n",
      "|760430c89527a8b503dd02bada46926938c5ad036b7ca08a21d685fe5a89f01e|1    |\n",
      "|7ba2fabcbbd4705128a8966d4d5fcf9d3e284c77fada7752da397f479ad4a12e|1    |\n",
      "|8caf42bf00baea90141dec822bece26fc54bf9884c7dbf0439b445fb98b50152|1    |\n",
      "|ecb27d9bf54e751018cd6c1cc5a0f2d812ff08585271acfc980bdacb742a7a02|1    |\n",
      "|55efc631da61b192de874d5e2b05ea1e04ec08bd2e3009ebcd0053a84bbd4341|1    |\n",
      "|bdb448f271ec83b324acd32248f1401964cb1f5f716e94eebed508f02e889e14|1    |\n",
      "|6ec9ec386cacd1af3c828e989f3a0cb9872973eaa977dfcaa857f00ee5fa0138|2    |\n",
      "|964c0029f932feb9c7ecea499317d9e0c40020d3276e9956d71a7887321369ee|2    |\n",
      "+----------------------------------------------------------------+-----+\n",
      "only showing top 20 rows\n",
      "\n"
     ]
    }
   ],
   "source": [
    "df.groupBy('user_id').count().orderBy('count',acsending=True).show(20,False)"
   ]
  },
  {
   "cell_type": "code",
   "execution_count": 13,
   "id": "c8e6f891-df08-41c9-b52f-2dfdef5190d9",
   "metadata": {},
   "outputs": [
    {
     "name": "stdout",
     "output_type": "stream",
     "text": [
      "root\n",
      " |-- user_id_music category: string (nullable = true)\n",
      " |-- Alternative Music: long (nullable = true)\n",
      " |-- Asian Pop: long (nullable = true)\n",
      " |-- Blues: long (nullable = true)\n",
      " |-- Classical Music: long (nullable = true)\n",
      " |-- Country Music: long (nullable = true)\n",
      " |-- Dance Music: long (nullable = true)\n",
      " |-- Easy Listening: long (nullable = true)\n",
      " |-- Electronic Music: long (nullable = true)\n",
      " |-- Hindi Music: long (nullable = true)\n",
      " |-- Hip Hop: long (nullable = true)\n",
      " |-- Indie Pop: long (nullable = true)\n",
      " |-- Jazz: long (nullable = true)\n",
      " |-- Latin Music: long (nullable = true)\n",
      " |-- Motivational: long (nullable = true)\n",
      " |-- New Age: long (nullable = true)\n",
      " |-- Opera: long (nullable = true)\n",
      " |-- Popular: long (nullable = true)\n",
      " |-- Rap: long (nullable = true)\n",
      " |-- Reggae: long (nullable = true)\n",
      " |-- Rock: long (nullable = true)\n",
      " |-- Soulful: long (nullable = true)\n",
      "\n"
     ]
    }
   ],
   "source": [
    "# Reshaping a Dataframe for Clustering\n",
    "feature_df = df.stat.crosstab('user_id','music category')\n",
    "feature_df.printSchema()"
   ]
  },
  {
   "cell_type": "code",
   "execution_count": 14,
   "id": "d6344ec1-3567-4de6-829a-6d7a081fe4f3",
   "metadata": {},
   "outputs": [
    {
     "name": "stdout",
     "output_type": "stream",
     "text": [
      "+----------------------------------------------------------------+-----------------+---------+-----+---------------+-------------+-----------+--------------+----------------+-----------+-------+---------+----+-----------+------------+-------+-----+-------+---+------+----+-------+\n",
      "|user_id_music category                                          |Alternative Music|Asian Pop|Blues|Classical Music|Country Music|Dance Music|Easy Listening|Electronic Music|Hindi Music|Hip Hop|Indie Pop|Jazz|Latin Music|Motivational|New Age|Opera|Popular|Rap|Reggae|Rock|Soulful|\n",
      "+----------------------------------------------------------------+-----------------+---------+-----+---------------+-------------+-----------+--------------+----------------+-----------+-------+---------+----+-----------+------------+-------+-----+-------+---+------+----+-------+\n",
      "|ca3c4285512798abe7d81fa2d0588549211be9516d9b2050e5564f8e912312c7|65               |0        |7    |8              |7            |12         |7             |2               |12         |7      |0        |15  |0          |2           |0      |3    |0      |3  |0     |1   |0      |\n",
      "|b457919ae168ac12ec7e0303ae0d5fe292b63c9d04eb54e039942e7f46552ec4|80               |0        |65   |135            |16           |55         |7             |34              |0          |12     |6        |7   |3          |2           |1      |2    |0      |5  |0     |0   |0      |\n",
      "|a87bb168ba6e5a8da5eccce18c95565d843b40c1833b0f6c3089eb083f0fe3d3|0                |0        |11   |0              |9            |3          |0             |3               |3          |0      |5        |0   |0          |1           |0      |0    |4      |0  |0     |0   |5      |\n",
      "+----------------------------------------------------------------+-----------------+---------+-----+---------------+-------------+-----------+--------------+----------------+-----------+-------+---------+----+-----------+------------+-------+-----+-------+---+------+----+-------+\n",
      "only showing top 3 rows\n",
      "\n"
     ]
    }
   ],
   "source": [
    "feature_df.show(3,False)"
   ]
  },
  {
   "cell_type": "code",
   "execution_count": 15,
   "id": "8c0a68df-7ac6-48b0-a7de-e63247b8b0a3",
   "metadata": {},
   "outputs": [],
   "source": [
    "from pyspark.ml.linalg import Vectors\n",
    "from pyspark.ml.feature import VectorAssembler"
   ]
  },
  {
   "cell_type": "code",
   "execution_count": 16,
   "id": "f65df9f4-4d46-46d4-ac32-ea99d1243b9a",
   "metadata": {},
   "outputs": [
    {
     "name": "stdout",
     "output_type": "stream",
     "text": [
      "['user_id_music category', 'Alternative Music', 'Asian Pop', 'Blues', 'Classical Music', 'Country Music', 'Dance Music', 'Easy Listening', 'Electronic Music', 'Hindi Music', 'Hip Hop', 'Indie Pop', 'Jazz', 'Latin Music', 'Motivational', 'New Age', 'Opera', 'Popular', 'Rap', 'Reggae', 'Rock', 'Soulful']\n"
     ]
    }
   ],
   "source": [
    "print(feature_df.columns)"
   ]
  },
  {
   "cell_type": "code",
   "execution_count": 18,
   "id": "c7bb1508-29ad-4638-a5b1-4f62e1897392",
   "metadata": {},
   "outputs": [
    {
     "name": "stdout",
     "output_type": "stream",
     "text": [
      "['Alternative Music', 'Asian Pop', 'Blues', 'Classical Music', 'Country Music', 'Dance Music', 'Easy Listening', 'Electronic Music', 'Hindi Music', 'Hip Hop', 'Indie Pop', 'Jazz', 'Latin Music', 'Motivational', 'New Age', 'Opera', 'Popular', 'Rap', 'Reggae', 'Rock', 'Soulful']\n"
     ]
    }
   ],
   "source": [
    "feat_cols = [col for col in feature_df.columns if col != 'user_id_music category']\n",
    "print(feat_cols)"
   ]
  },
  {
   "cell_type": "code",
   "execution_count": 19,
   "id": "c4b92772-8cee-400c-bd8d-0d2d7cda6741",
   "metadata": {},
   "outputs": [
    {
     "name": "stdout",
     "output_type": "stream",
     "text": [
      "root\n",
      " |-- user_id_music category: string (nullable = true)\n",
      " |-- Alternative Music: long (nullable = true)\n",
      " |-- Asian Pop: long (nullable = true)\n",
      " |-- Blues: long (nullable = true)\n",
      " |-- Classical Music: long (nullable = true)\n",
      " |-- Country Music: long (nullable = true)\n",
      " |-- Dance Music: long (nullable = true)\n",
      " |-- Easy Listening: long (nullable = true)\n",
      " |-- Electronic Music: long (nullable = true)\n",
      " |-- Hindi Music: long (nullable = true)\n",
      " |-- Hip Hop: long (nullable = true)\n",
      " |-- Indie Pop: long (nullable = true)\n",
      " |-- Jazz: long (nullable = true)\n",
      " |-- Latin Music: long (nullable = true)\n",
      " |-- Motivational: long (nullable = true)\n",
      " |-- New Age: long (nullable = true)\n",
      " |-- Opera: long (nullable = true)\n",
      " |-- Popular: long (nullable = true)\n",
      " |-- Rap: long (nullable = true)\n",
      " |-- Reggae: long (nullable = true)\n",
      " |-- Rock: long (nullable = true)\n",
      " |-- Soulful: long (nullable = true)\n",
      " |-- features: vector (nullable = true)\n",
      "\n"
     ]
    }
   ],
   "source": [
    "vec_assembler = VectorAssembler(inputCols=feat_cols,outputCol='features')\n",
    "final_data = vec_assembler.transform(feature_df)\n",
    "final_data.printSchema()"
   ]
  },
  {
   "cell_type": "code",
   "execution_count": 20,
   "id": "5c36793e-c4e9-4eff-a774-303129efc3e5",
   "metadata": {},
   "outputs": [
    {
     "data": {
      "text/plain": [
       "['user_id_music category',\n",
       " 'Alternative Music',\n",
       " 'Asian Pop',\n",
       " 'Blues',\n",
       " 'Classical Music',\n",
       " 'Country Music',\n",
       " 'Dance Music',\n",
       " 'Easy Listening',\n",
       " 'Electronic Music',\n",
       " 'Hindi Music',\n",
       " 'Hip Hop',\n",
       " 'Indie Pop',\n",
       " 'Jazz',\n",
       " 'Latin Music',\n",
       " 'Motivational',\n",
       " 'New Age',\n",
       " 'Opera',\n",
       " 'Popular',\n",
       " 'Rap',\n",
       " 'Reggae',\n",
       " 'Rock',\n",
       " 'Soulful',\n",
       " 'features',\n",
       " 'scaledFeatures']"
      ]
     },
     "execution_count": 20,
     "metadata": {},
     "output_type": "execute_result"
    }
   ],
   "source": [
    "from pyspark.ml.feature import StandardScaler\n",
    "scaler = StandardScaler(inputCol=\"features\",outputCol=\"scaledFeatures\",withStd=True,withMean=False)\n",
    "scalerModel = scaler.fit(final_data)\n",
    "cluster_final_data = scalerModel.transform(final_data)\n",
    "cluster_final_data.columns"
   ]
  },
  {
   "cell_type": "code",
   "execution_count": 22,
   "id": "50949d50-f084-49a7-b320-4063eae25a79",
   "metadata": {},
   "outputs": [
    {
     "name": "stdout",
     "output_type": "stream",
     "text": [
      "With K=2\n",
      "Silhouette with Squared Euclidean Distance = 0.9304216402327824\n",
      "------------------------------------------------------------\n",
      "With K=3\n",
      "Silhouette with Squared Euclidean Distance = 0.9574194776012076\n",
      "------------------------------------------------------------\n",
      "With K=4\n",
      "Silhouette with Squared Euclidean Distance = 0.8667447250029943\n",
      "------------------------------------------------------------\n",
      "With K=5\n",
      "Silhouette with Squared Euclidean Distance = 0.761303997702623\n",
      "------------------------------------------------------------\n",
      "With K=6\n",
      "Silhouette with Squared Euclidean Distance = 0.7307178657389923\n",
      "------------------------------------------------------------\n",
      "With K=7\n",
      "Silhouette with Squared Euclidean Distance = 0.8024799205519666\n",
      "------------------------------------------------------------\n",
      "With K=8\n",
      "Silhouette with Squared Euclidean Distance = 0.8055931181709692\n",
      "------------------------------------------------------------\n",
      "With K=9\n",
      "Silhouette with Squared Euclidean Distance = 0.7716704834436744\n",
      "------------------------------------------------------------\n"
     ]
    }
   ],
   "source": [
    "from pyspark.ml.evaluation import ClusteringEvaluator\n",
    "errors = []\n",
    "for k in range(2,10):\n",
    "    kmeans = KMeans(featuresCol='scaledFeatures',k=k)\n",
    "    model = kmeans.fit(cluster_final_data)\n",
    "    predictions = model.transform(cluster_final_data)\n",
    "    evaluator = ClusteringEvaluator()\n",
    "    # wssse = model.computeCost(cluster_final_data) ComputeCost deprecated in this version\n",
    "    silhouette = evaluator.evaluate(predictions)\n",
    "    errors.append(silhouette)\n",
    "    print('With K={}'.format(k))\n",
    "    print('Silhouette with Squared Euclidean Distance = ' + str(silhouette))\n",
    "    print('--'* 30)"
   ]
  },
  {
   "cell_type": "code",
   "execution_count": 23,
   "id": "bb6ad6d3-2d1c-41a6-9b6e-122bca6037a2",
   "metadata": {},
   "outputs": [
    {
     "data": {
      "image/png": "[encoded data removed]",
      "text/plain": [
       "<Figure size 640x480 with 1 Axes>"
      ]
     },
     "metadata": {},
     "output_type": "display_data"
    }
   ],
   "source": [
    "cluster_number = range(2,10)\n",
    "plt.scatter(cluster_number,errors)\n",
    "plt.xlabel('clusters')\n",
    "plt.ylabel('silhouette')\n",
    "plt.show()"
   ]
  },
  {
   "cell_type": "code",
   "execution_count": 24,
   "id": "fd2bb335-f26a-4ea7-9b05-ce843ce1e04c",
   "metadata": {},
   "outputs": [
    {
     "name": "stdout",
     "output_type": "stream",
     "text": [
      "+----------+-----+\n",
      "|prediction|count|\n",
      "+----------+-----+\n",
      "|         1|    1|\n",
      "|         3|    7|\n",
      "|         4|  672|\n",
      "|         2|    8|\n",
      "|         0|   86|\n",
      "|         5|    1|\n",
      "+----------+-----+\n",
      "\n"
     ]
    }
   ],
   "source": [
    "kmeans6 = KMeans(featuresCol='scaledFeatures',k=6)\n",
    "model_k6 = kmeans6.fit(cluster_final_data)\n",
    "model_k6.transform(cluster_final_data).groupBy('prediction').count().show()"
   ]
  },
  {
   "cell_type": "code",
   "execution_count": 25,
   "id": "faec8811-b473-46cd-a85b-213227fb79ca",
   "metadata": {},
   "outputs": [
    {
     "name": "stdout",
     "output_type": "stream",
     "text": [
      "+----------------------+-----------------+---------+-----+---------------+-------------+-----------+--------------+----------------+-----------+-------+---------+----+-----------+------------+-------+-----+-------+---+------+----+-------+--------------------+--------------------+----------+\n",
      "|user_id_music category|Alternative Music|Asian Pop|Blues|Classical Music|Country Music|Dance Music|Easy Listening|Electronic Music|Hindi Music|Hip Hop|Indie Pop|Jazz|Latin Music|Motivational|New Age|Opera|Popular|Rap|Reggae|Rock|Soulful|            features|      scaledFeatures|prediction|\n",
      "+----------------------+-----------------+---------+-----+---------------+-------------+-----------+--------------+----------------+-----------+-------+---------+----+-----------+------------+-------+-----+-------+---+------+----+-------+--------------------+--------------------+----------+\n",
      "|  ca3c4285512798abe...|               65|        0|    7|              8|            7|         12|             7|               2|         12|      7|        0|  15|          0|           2|      0|    3|      0|  3|     0|   1|      0|[65.0,0.0,7.0,8.0...|[0.23836018560172...|         4|\n",
      "|  b457919ae168ac12e...|               80|        0|   65|            135|           16|         55|             7|              34|          0|     12|        6|   7|          3|           2|      1|    2|      0|  5|     0|   0|      0|[80.0,0.0,65.0,13...|[0.29336638227904...|         4|\n",
      "|  a87bb168ba6e5a8da...|                0|        0|   11|              0|            9|          3|             0|               3|          3|      0|        5|   0|          0|           1|      0|    0|      4|  0|     0|   0|      5|(21,[2,4,5,7,8,10...|(21,[2,4,5,7,8,10...|         4|\n",
      "|  cf60c9b1a0444261c...|              119|      268|  340|             63|           85|         48|           498|              82|          0|     34|        1|  14|          0|          14|      3|   57|      0| 67|     3|   6|      1|[119.0,268.0,340....|[0.43638249364008...|         0|\n",
      "|  8ab21c1b361d5c4aa...|               23|        7|   81|             22|           30|        197|            11|               8|          0|      7|        6|   0|          0|          12|      7|    2|      9|  7|     0|   1|      0|[23.0,7.0,81.0,22...|[0.08434283490522...|         4|\n",
      "|  34e22754ffec4a0d4...|              192|        1|  158|             40|           83|        110|           126|              39|          1|     33|       68|   1|          0|           4|      2|    0|     11| 13|     0|  28|      7|[192.0,1.0,158.0,...|[0.70407931746971...|         0|\n",
      "|  ad3ea6999df3120cc...|                5|        0|    1|              0|            9|        254|            15|               1|          2|      0|        4|   0|          1|           0|      0|    4|      0|  1|     0|   0|      0|(21,[0,2,4,5,6,7,...|(21,[0,2,4,5,6,7,...|         4|\n",
      "|  3d2ea50eeeb98d4a7...|               31|        2|   17|             22|           21|         66|            90|               8|          2|     26|       42|  10|          0|           4|      6|   12|      0| 14|     0|   1|      9|[31.0,2.0,17.0,22...|[0.11367947313313...|         4|\n",
      "|  334533d21eeed37dd...|                7|        0|    5|              0|            4|          4|             1|               0|          2|      4|        3|   0|          0|           0|      0|    3|      2|  0|     0|   0|      2|(21,[0,2,4,5,6,8,...|(21,[0,2,4,5,6,8,...|         4|\n",
      "|  bad9c123790cfd0b1...|               19|        3|    7|             19|           13|         33|             7|               4|         49|     20|        5|   0|          0|           0|     99|    3|      0| 15|     0|   0|      0|[19.0,3.0,7.0,19....|[0.06967451579127...|         4|\n",
      "|  dd8b41323bbef6d40...|               12|        0|   20|              4|           19|          5|             0|              10|          1|      5|        1|   5|          0|           0|      0|    7|      3|  0|     0|   0|      0|(21,[0,2,3,4,5,7,...|(21,[0,2,3,4,5,7,...|         4|\n",
      "|  ac40c16b3c6248ceb...|                2|        1|    1|             49|            2|         11|            12|               8|          1|      5|        0|   0|          0|           6|      1|   11|      3|  0|     0|   0|      2|[2.0,1.0,1.0,49.0...|[0.00733415955697...|         4|\n",
      "|  57c20a25da427c79b...|                2|        0|    1|              8|            2|          6|             1|               9|          0|     14|        0|   0|          0|           1|      0|    0|      0|  4|     0|   2|      0|(21,[0,2,3,4,5,6,...|(21,[0,2,3,4,5,6,...|         4|\n",
      "|  b5773ac4aa0d07926...|              127|        0|   25|             89|           24|         16|             3|              17|          0|      6|        3|   7|          0|           1|     21|    3|      0|  4|     0|   0|      4|[127.0,0.0,25.0,8...|[0.46571913186798...|         4|\n",
      "|  793c0773daa478bf3...|                0|        0|    7|              0|            2|          0|             0|               0|          0|      0|        0|   0|          0|           0|      0|    0|      0|  0|     0|   3|      0|(21,[2,4,19],[7.0...|(21,[2,4,19],[0.0...|         4|\n",
      "|  4c52a409ecbf4c78b...|               43|        0|   60|             10|            6|         44|             7|               3|        285|      0|        0|   0|          0|           0|     41|    7|      2|  0|     0|   0|      0|(21,[0,2,3,4,5,6,...|(21,[0,2,3,4,5,6,...|         0|\n",
      "|  fadebf953475576be...|               70|        2|   77|             15|           71|         11|            37|              45|          0|      1|        7|   5|          0|          18|      0|    1|      0|  0|     0|   5|      1|[70.0,2.0,77.0,15...|[0.25669558449416...|         4|\n",
      "|  86f98ea95c8b3333b...|               48|       19|  234|             60|          172|         62|            77|              63|          0|    127|       69|   1|          4|           7|     18|   45|      2|280|     3|   0|      0|[48.0,19.0,234.0,...|[0.17601982936742...|         0|\n",
      "|  1a9da82f18b16577b...|              496|        1|  427|             76|          421|        221|           247|              70|          2|     66|       89|   5|          2|          37|     24|   29|     13|173|     2|  14|      9|[496.0,1.0,427.0,...|[1.81887157013008...|         0|\n",
      "|  9e528e07d7deddba5...|              153|        0|   48|             10|           10|         22|            51|              19|          1|     12|       28|   0|          0|          49|      0|    3|      7|  7|     0|   0|      0|[153.0,0.0,48.0,1...|[0.56106320610867...|         4|\n",
      "+----------------------+-----------------+---------+-----+---------------+-------------+-----------+--------------+----------------+-----------+-------+---------+----+-----------+------------+-------+-----+-------+---+------+----+-------+--------------------+--------------------+----------+\n",
      "only showing top 20 rows\n",
      "\n"
     ]
    }
   ],
   "source": [
    "model_k6.transform(cluster_final_data).show()"
   ]
  },
  {
   "cell_type": "code",
   "execution_count": 26,
   "id": "d9591523-ddee-483a-9c70-e9fae67f5dc1",
   "metadata": {},
   "outputs": [
    {
     "name": "stdout",
     "output_type": "stream",
     "text": [
      "root\n",
      " |-- user_id_music category: string (nullable = true)\n",
      " |-- Alternative Music: long (nullable = true)\n",
      " |-- Asian Pop: long (nullable = true)\n",
      " |-- Blues: long (nullable = true)\n",
      " |-- Classical Music: long (nullable = true)\n",
      " |-- Country Music: long (nullable = true)\n",
      " |-- Dance Music: long (nullable = true)\n",
      " |-- Easy Listening: long (nullable = true)\n",
      " |-- Electronic Music: long (nullable = true)\n",
      " |-- Hindi Music: long (nullable = true)\n",
      " |-- Hip Hop: long (nullable = true)\n",
      " |-- Indie Pop: long (nullable = true)\n",
      " |-- Jazz: long (nullable = true)\n",
      " |-- Latin Music: long (nullable = true)\n",
      " |-- Motivational: long (nullable = true)\n",
      " |-- New Age: long (nullable = true)\n",
      " |-- Opera: long (nullable = true)\n",
      " |-- Popular: long (nullable = true)\n",
      " |-- Rap: long (nullable = true)\n",
      " |-- Reggae: long (nullable = true)\n",
      " |-- Rock: long (nullable = true)\n",
      " |-- Soulful: long (nullable = true)\n",
      " |-- features: vector (nullable = true)\n",
      " |-- scaledFeatures: vector (nullable = true)\n",
      " |-- prediction: integer (nullable = false)\n",
      "\n"
     ]
    }
   ],
   "source": [
    "cluster_prediction = model_k6.transform(cluster_final_data)\n",
    "cluster_prediction.printSchema()"
   ]
  },
  {
   "cell_type": "code",
   "execution_count": 27,
   "id": "140dd58d-bc73-4315-8ca3-d41fb2acd7ec",
   "metadata": {},
   "outputs": [
    {
     "name": "stdout",
     "output_type": "stream",
     "text": [
      "+----------------------------------------------------------------+---------------------------------------------------------------+----------+\n",
      "|user_id_music category                                          |pca_features                                                   |prediction|\n",
      "+----------------------------------------------------------------+---------------------------------------------------------------+----------+\n",
      "|ca3c4285512798abe7d81fa2d0588549211be9516d9b2050e5564f8e912312c7|[-0.22507350265162823,0.15082893636632247,-0.13922132997808484]|4         |\n",
      "|b457919ae168ac12ec7e0303ae0d5fe292b63c9d04eb54e039942e7f46552ec4|[-0.5273003162834192,0.10206886950980026,-0.014971360310926114]|4         |\n",
      "|a87bb168ba6e5a8da5eccce18c95565d843b40c1833b0f6c3089eb083f0fe3d3|[-0.23968261020295822,0.2801153618243119,-0.17382194436381881] |4         |\n",
      "|cf60c9b1a0444261c3a4687677f5336686b96756df5e33c11f6016f16fb38372|[-3.512051591993016,0.3272943318957352,1.1017302617933127]     |0         |\n",
      "|8ab21c1b361d5c4aa1ed01893305febf1c6659bd342217eece1225d789ba57da|[-0.6796385576703682,0.3960805354648381,0.11474085857053673]   |4         |\n",
      "|34e22754ffec4a0d434edfa0f3b10c0e1ab14c632cee37514076d211cf1e7017|[-2.0964050329364157,0.9121320035474159,0.9912613846332553]    |0         |\n",
      "|ad3ea6999df3120ccb557d34cf75e17dfdd3febe445e9e1bc36514642fcd3bdb|[-0.2944449488892162,0.3839780472651297,0.07758752095209072]   |4         |\n",
      "|3d2ea50eeeb98d4a79259ee057955696ec9dc46e1b72e8d8eff099feb3362e1f|[-0.9356027216181406,0.5958240577216141,-0.17524154004372638]  |4         |\n",
      "|334533d21eeed37dd2b686022857f9f42eef9fa6192a8653040af844be8d15ef|[-0.138861582778022,0.1578422249327619,-0.1126062414436721]    |4         |\n",
      "|bad9c123790cfd0b1106190de5623afbb70de0e71f5d48dc05ee6d743a2f50a8|[-0.5824585609741292,0.6698195803354232,-0.8684054960184646]   |4         |\n",
      "|dd8b41323bbef6d4093879c63966b025d9dd3dbdab1b372ec3c09ee9e40e277c|[-0.19613038529370597,0.12812984441339156,-0.09549024406090176]|4         |\n",
      "|ac40c16b3c6248cebdfb8cb9e2dee4575862ef1223ece1b393b45b6b2561e8fc|[-0.285488976439697,0.15074842985347517,-0.25560359089599044]  |4         |\n",
      "|57c20a25da427c79b41690be1b895110bbae9fb583a32a2d27c310e9caa1a395|[-0.112987546229444,-0.02683169465747661,0.012421222276786416] |4         |\n",
      "|b5773ac4aa0d079266ecc3f02d0a16a0f7fd0789b7c0553782dd0588d57298b4|[-0.4918021450678276,0.3841542970784486,-0.10281962873038605]  |4         |\n",
      "|793c0773daa478bf340a4c6f63fad3beedef69aaa0a8f503995450c8a75cd2bd|[-0.05930380568903513,0.037565969496687245,0.08260181325446983]|4         |\n",
      "|4c52a409ecbf4c78bf6aa73611615d7c68090162250aeed3118d57177e291e63|[-1.4580702292222276,1.8999456814098996,-3.771501157950993]    |0         |\n",
      "|fadebf953475576be81797433f0d28278858f93eee0cefcc95b5b03dd787c327|[-0.7083739895738094,0.2150791294660946,0.3575382191220811]    |4         |\n",
      "|86f98ea95c8b3333b947bf9a1a305150633df37e6aac807cddcbbe3463bfd53d|[-2.465870896553219,0.6606526791365803,0.32230865842213086]    |0         |\n",
      "|1a9da82f18b16577b872a71cefdeae63a7725eac5547820182ba82d8845b02ee|[-4.316559639888828,2.1119157004751234,1.549348692111252]      |0         |\n",
      "|9e528e07d7deddba5dcafd78c60059c7a91a7233350b2dcad109ae3b413d6aaf|[-0.8673164731150796,0.02574850968955616,0.22457984151934143]  |4         |\n",
      "+----------------------------------------------------------------+---------------------------------------------------------------+----------+\n",
      "only showing top 20 rows\n",
      "\n"
     ]
    }
   ],
   "source": [
    "from pyspark.ml.feature import PCA\n",
    "pca = PCA(k=3,inputCol='scaledFeatures',outputCol='pca_features')\n",
    "pca_model = pca.fit(cluster_prediction)\n",
    "result = pca_model.transform(cluster_prediction).select('user_id_music category','pca_features','prediction')\n",
    "result.show(truncate=False)"
   ]
  },
  {
   "cell_type": "code",
   "execution_count": 28,
   "id": "1b8ee2d9-624f-4793-b71d-7b55e92e7754",
   "metadata": {},
   "outputs": [
    {
     "data": {
      "text/html": [
       "<div>\n",
       "<style scoped>\n",
       "    .dataframe tbody tr th:only-of-type {\n",
       "        vertical-align: middle;\n",
       "    }\n",
       "\n",
       "    .dataframe tbody tr th {\n",
       "        vertical-align: top;\n",
       "    }\n",
       "\n",
       "    .dataframe thead th {\n",
       "        text-align: right;\n",
       "    }\n",
       "</style>\n",
       "<table border=\"1\" class=\"dataframe\">\n",
       "  <thead>\n",
       "    <tr style=\"text-align: right;\">\n",
       "      <th></th>\n",
       "      <th>pca_features</th>\n",
       "      <th>prediction</th>\n",
       "    </tr>\n",
       "    <tr>\n",
       "      <th>user_id_music category</th>\n",
       "      <th></th>\n",
       "      <th></th>\n",
       "    </tr>\n",
       "  </thead>\n",
       "  <tbody>\n",
       "    <tr>\n",
       "      <th>ca3c4285512798abe7d81fa2d0588549211be9516d9b2050e5564f8e912312c7</th>\n",
       "      <td>[-0.22507350265162823, 0.15082893636632247, -0...</td>\n",
       "      <td>4</td>\n",
       "    </tr>\n",
       "    <tr>\n",
       "      <th>b457919ae168ac12ec7e0303ae0d5fe292b63c9d04eb54e039942e7f46552ec4</th>\n",
       "      <td>[-0.5273003162834192, 0.10206886950980026, -0....</td>\n",
       "      <td>4</td>\n",
       "    </tr>\n",
       "    <tr>\n",
       "      <th>a87bb168ba6e5a8da5eccce18c95565d843b40c1833b0f6c3089eb083f0fe3d3</th>\n",
       "      <td>[-0.23968261020295822, 0.2801153618243119, -0....</td>\n",
       "      <td>4</td>\n",
       "    </tr>\n",
       "    <tr>\n",
       "      <th>cf60c9b1a0444261c3a4687677f5336686b96756df5e33c11f6016f16fb38372</th>\n",
       "      <td>[-3.512051591993016, 0.3272943318957352, 1.101...</td>\n",
       "      <td>0</td>\n",
       "    </tr>\n",
       "    <tr>\n",
       "      <th>8ab21c1b361d5c4aa1ed01893305febf1c6659bd342217eece1225d789ba57da</th>\n",
       "      <td>[-0.6796385576703682, 0.3960805354648381, 0.11...</td>\n",
       "      <td>4</td>\n",
       "    </tr>\n",
       "    <tr>\n",
       "      <th>34e22754ffec4a0d434edfa0f3b10c0e1ab14c632cee37514076d211cf1e7017</th>\n",
       "      <td>[-2.0964050329364157, 0.9121320035474159, 0.99...</td>\n",
       "      <td>0</td>\n",
       "    </tr>\n",
       "    <tr>\n",
       "      <th>ad3ea6999df3120ccb557d34cf75e17dfdd3febe445e9e1bc36514642fcd3bdb</th>\n",
       "      <td>[-0.2944449488892162, 0.3839780472651297, 0.07...</td>\n",
       "      <td>4</td>\n",
       "    </tr>\n",
       "    <tr>\n",
       "      <th>3d2ea50eeeb98d4a79259ee057955696ec9dc46e1b72e8d8eff099feb3362e1f</th>\n",
       "      <td>[-0.9356027216181406, 0.5958240577216141, -0.1...</td>\n",
       "      <td>4</td>\n",
       "    </tr>\n",
       "    <tr>\n",
       "      <th>334533d21eeed37dd2b686022857f9f42eef9fa6192a8653040af844be8d15ef</th>\n",
       "      <td>[-0.138861582778022, 0.1578422249327619, -0.11...</td>\n",
       "      <td>4</td>\n",
       "    </tr>\n",
       "    <tr>\n",
       "      <th>bad9c123790cfd0b1106190de5623afbb70de0e71f5d48dc05ee6d743a2f50a8</th>\n",
       "      <td>[-0.5824585609741292, 0.6698195803354232, -0.8...</td>\n",
       "      <td>4</td>\n",
       "    </tr>\n",
       "  </tbody>\n",
       "</table>\n",
       "</div>"
      ],
      "text/plain": [
       "                                                                                         pca_features  \\\n",
       "user_id_music category                                                                                  \n",
       "ca3c4285512798abe7d81fa2d0588549211be9516d9b205...  [-0.22507350265162823, 0.15082893636632247, -0...   \n",
       "b457919ae168ac12ec7e0303ae0d5fe292b63c9d04eb54e...  [-0.5273003162834192, 0.10206886950980026, -0....   \n",
       "a87bb168ba6e5a8da5eccce18c95565d843b40c1833b0f6...  [-0.23968261020295822, 0.2801153618243119, -0....   \n",
       "cf60c9b1a0444261c3a4687677f5336686b96756df5e33c...  [-3.512051591993016, 0.3272943318957352, 1.101...   \n",
       "8ab21c1b361d5c4aa1ed01893305febf1c6659bd342217e...  [-0.6796385576703682, 0.3960805354648381, 0.11...   \n",
       "34e22754ffec4a0d434edfa0f3b10c0e1ab14c632cee375...  [-2.0964050329364157, 0.9121320035474159, 0.99...   \n",
       "ad3ea6999df3120ccb557d34cf75e17dfdd3febe445e9e1...  [-0.2944449488892162, 0.3839780472651297, 0.07...   \n",
       "3d2ea50eeeb98d4a79259ee057955696ec9dc46e1b72e8d...  [-0.9356027216181406, 0.5958240577216141, -0.1...   \n",
       "334533d21eeed37dd2b686022857f9f42eef9fa6192a865...  [-0.138861582778022, 0.1578422249327619, -0.11...   \n",
       "bad9c123790cfd0b1106190de5623afbb70de0e71f5d48d...  [-0.5824585609741292, 0.6698195803354232, -0.8...   \n",
       "\n",
       "                                                    prediction  \n",
       "user_id_music category                                          \n",
       "ca3c4285512798abe7d81fa2d0588549211be9516d9b205...           4  \n",
       "b457919ae168ac12ec7e0303ae0d5fe292b63c9d04eb54e...           4  \n",
       "a87bb168ba6e5a8da5eccce18c95565d843b40c1833b0f6...           4  \n",
       "cf60c9b1a0444261c3a4687677f5336686b96756df5e33c...           0  \n",
       "8ab21c1b361d5c4aa1ed01893305febf1c6659bd342217e...           4  \n",
       "34e22754ffec4a0d434edfa0f3b10c0e1ab14c632cee375...           0  \n",
       "ad3ea6999df3120ccb557d34cf75e17dfdd3febe445e9e1...           4  \n",
       "3d2ea50eeeb98d4a79259ee057955696ec9dc46e1b72e8d...           4  \n",
       "334533d21eeed37dd2b686022857f9f42eef9fa6192a865...           4  \n",
       "bad9c123790cfd0b1106190de5623afbb70de0e71f5d48d...           4  "
      ]
     },
     "execution_count": 28,
     "metadata": {},
     "output_type": "execute_result"
    }
   ],
   "source": [
    "clusters = result.toPandas().set_index('user_id_music category')\n",
    "clusters.head(10)"
   ]
  },
  {
   "cell_type": "code",
   "execution_count": 29,
   "id": "d7d491d2-9b28-44b4-8ae4-d38d66c933cb",
   "metadata": {},
   "outputs": [
    {
     "data": {
      "text/html": [
       "<div>\n",
       "<style scoped>\n",
       "    .dataframe tbody tr th:only-of-type {\n",
       "        vertical-align: middle;\n",
       "    }\n",
       "\n",
       "    .dataframe tbody tr th {\n",
       "        vertical-align: top;\n",
       "    }\n",
       "\n",
       "    .dataframe thead th {\n",
       "        text-align: right;\n",
       "    }\n",
       "</style>\n",
       "<table border=\"1\" class=\"dataframe\">\n",
       "  <thead>\n",
       "    <tr style=\"text-align: right;\">\n",
       "      <th></th>\n",
       "      <th>pca_features</th>\n",
       "      <th>prediction</th>\n",
       "      <th>x</th>\n",
       "      <th>y</th>\n",
       "      <th>z</th>\n",
       "    </tr>\n",
       "    <tr>\n",
       "      <th>user_id_music category</th>\n",
       "      <th></th>\n",
       "      <th></th>\n",
       "      <th></th>\n",
       "      <th></th>\n",
       "      <th></th>\n",
       "    </tr>\n",
       "  </thead>\n",
       "  <tbody>\n",
       "    <tr>\n",
       "      <th>ca3c4285512798abe7d81fa2d0588549211be9516d9b2050e5564f8e912312c7</th>\n",
       "      <td>[-0.22507350265162823, 0.15082893636632247, -0...</td>\n",
       "      <td>4</td>\n",
       "      <td>-0.225074</td>\n",
       "      <td>0.150829</td>\n",
       "      <td>-0.139221</td>\n",
       "    </tr>\n",
       "    <tr>\n",
       "      <th>b457919ae168ac12ec7e0303ae0d5fe292b63c9d04eb54e039942e7f46552ec4</th>\n",
       "      <td>[-0.5273003162834192, 0.10206886950980026, -0....</td>\n",
       "      <td>4</td>\n",
       "      <td>-0.527300</td>\n",
       "      <td>0.102069</td>\n",
       "      <td>-0.014971</td>\n",
       "    </tr>\n",
       "    <tr>\n",
       "      <th>a87bb168ba6e5a8da5eccce18c95565d843b40c1833b0f6c3089eb083f0fe3d3</th>\n",
       "      <td>[-0.23968261020295822, 0.2801153618243119, -0....</td>\n",
       "      <td>4</td>\n",
       "      <td>-0.239683</td>\n",
       "      <td>0.280115</td>\n",
       "      <td>-0.173822</td>\n",
       "    </tr>\n",
       "    <tr>\n",
       "      <th>cf60c9b1a0444261c3a4687677f5336686b96756df5e33c11f6016f16fb38372</th>\n",
       "      <td>[-3.512051591993016, 0.3272943318957352, 1.101...</td>\n",
       "      <td>0</td>\n",
       "      <td>-3.512052</td>\n",
       "      <td>0.327294</td>\n",
       "      <td>1.101730</td>\n",
       "    </tr>\n",
       "    <tr>\n",
       "      <th>8ab21c1b361d5c4aa1ed01893305febf1c6659bd342217eece1225d789ba57da</th>\n",
       "      <td>[-0.6796385576703682, 0.3960805354648381, 0.11...</td>\n",
       "      <td>4</td>\n",
       "      <td>-0.679639</td>\n",
       "      <td>0.396081</td>\n",
       "      <td>0.114741</td>\n",
       "    </tr>\n",
       "    <tr>\n",
       "      <th>34e22754ffec4a0d434edfa0f3b10c0e1ab14c632cee37514076d211cf1e7017</th>\n",
       "      <td>[-2.0964050329364157, 0.9121320035474159, 0.99...</td>\n",
       "      <td>0</td>\n",
       "      <td>-2.096405</td>\n",
       "      <td>0.912132</td>\n",
       "      <td>0.991261</td>\n",
       "    </tr>\n",
       "    <tr>\n",
       "      <th>ad3ea6999df3120ccb557d34cf75e17dfdd3febe445e9e1bc36514642fcd3bdb</th>\n",
       "      <td>[-0.2944449488892162, 0.3839780472651297, 0.07...</td>\n",
       "      <td>4</td>\n",
       "      <td>-0.294445</td>\n",
       "      <td>0.383978</td>\n",
       "      <td>0.077588</td>\n",
       "    </tr>\n",
       "    <tr>\n",
       "      <th>3d2ea50eeeb98d4a79259ee057955696ec9dc46e1b72e8d8eff099feb3362e1f</th>\n",
       "      <td>[-0.9356027216181406, 0.5958240577216141, -0.1...</td>\n",
       "      <td>4</td>\n",
       "      <td>-0.935603</td>\n",
       "      <td>0.595824</td>\n",
       "      <td>-0.175242</td>\n",
       "    </tr>\n",
       "    <tr>\n",
       "      <th>334533d21eeed37dd2b686022857f9f42eef9fa6192a8653040af844be8d15ef</th>\n",
       "      <td>[-0.138861582778022, 0.1578422249327619, -0.11...</td>\n",
       "      <td>4</td>\n",
       "      <td>-0.138862</td>\n",
       "      <td>0.157842</td>\n",
       "      <td>-0.112606</td>\n",
       "    </tr>\n",
       "    <tr>\n",
       "      <th>bad9c123790cfd0b1106190de5623afbb70de0e71f5d48dc05ee6d743a2f50a8</th>\n",
       "      <td>[-0.5824585609741292, 0.6698195803354232, -0.8...</td>\n",
       "      <td>4</td>\n",
       "      <td>-0.582459</td>\n",
       "      <td>0.669820</td>\n",
       "      <td>-0.868405</td>\n",
       "    </tr>\n",
       "  </tbody>\n",
       "</table>\n",
       "</div>"
      ],
      "text/plain": [
       "                                                                                         pca_features  \\\n",
       "user_id_music category                                                                                  \n",
       "ca3c4285512798abe7d81fa2d0588549211be9516d9b205...  [-0.22507350265162823, 0.15082893636632247, -0...   \n",
       "b457919ae168ac12ec7e0303ae0d5fe292b63c9d04eb54e...  [-0.5273003162834192, 0.10206886950980026, -0....   \n",
       "a87bb168ba6e5a8da5eccce18c95565d843b40c1833b0f6...  [-0.23968261020295822, 0.2801153618243119, -0....   \n",
       "cf60c9b1a0444261c3a4687677f5336686b96756df5e33c...  [-3.512051591993016, 0.3272943318957352, 1.101...   \n",
       "8ab21c1b361d5c4aa1ed01893305febf1c6659bd342217e...  [-0.6796385576703682, 0.3960805354648381, 0.11...   \n",
       "34e22754ffec4a0d434edfa0f3b10c0e1ab14c632cee375...  [-2.0964050329364157, 0.9121320035474159, 0.99...   \n",
       "ad3ea6999df3120ccb557d34cf75e17dfdd3febe445e9e1...  [-0.2944449488892162, 0.3839780472651297, 0.07...   \n",
       "3d2ea50eeeb98d4a79259ee057955696ec9dc46e1b72e8d...  [-0.9356027216181406, 0.5958240577216141, -0.1...   \n",
       "334533d21eeed37dd2b686022857f9f42eef9fa6192a865...  [-0.138861582778022, 0.1578422249327619, -0.11...   \n",
       "bad9c123790cfd0b1106190de5623afbb70de0e71f5d48d...  [-0.5824585609741292, 0.6698195803354232, -0.8...   \n",
       "\n",
       "                                                    prediction         x  \\\n",
       "user_id_music category                                                     \n",
       "ca3c4285512798abe7d81fa2d0588549211be9516d9b205...           4 -0.225074   \n",
       "b457919ae168ac12ec7e0303ae0d5fe292b63c9d04eb54e...           4 -0.527300   \n",
       "a87bb168ba6e5a8da5eccce18c95565d843b40c1833b0f6...           4 -0.239683   \n",
       "cf60c9b1a0444261c3a4687677f5336686b96756df5e33c...           0 -3.512052   \n",
       "8ab21c1b361d5c4aa1ed01893305febf1c6659bd342217e...           4 -0.679639   \n",
       "34e22754ffec4a0d434edfa0f3b10c0e1ab14c632cee375...           0 -2.096405   \n",
       "ad3ea6999df3120ccb557d34cf75e17dfdd3febe445e9e1...           4 -0.294445   \n",
       "3d2ea50eeeb98d4a79259ee057955696ec9dc46e1b72e8d...           4 -0.935603   \n",
       "334533d21eeed37dd2b686022857f9f42eef9fa6192a865...           4 -0.138862   \n",
       "bad9c123790cfd0b1106190de5623afbb70de0e71f5d48d...           4 -0.582459   \n",
       "\n",
       "                                                           y         z  \n",
       "user_id_music category                                                  \n",
       "ca3c4285512798abe7d81fa2d0588549211be9516d9b205...  0.150829 -0.139221  \n",
       "b457919ae168ac12ec7e0303ae0d5fe292b63c9d04eb54e...  0.102069 -0.014971  \n",
       "a87bb168ba6e5a8da5eccce18c95565d843b40c1833b0f6...  0.280115 -0.173822  \n",
       "cf60c9b1a0444261c3a4687677f5336686b96756df5e33c...  0.327294  1.101730  \n",
       "8ab21c1b361d5c4aa1ed01893305febf1c6659bd342217e...  0.396081  0.114741  \n",
       "34e22754ffec4a0d434edfa0f3b10c0e1ab14c632cee375...  0.912132  0.991261  \n",
       "ad3ea6999df3120ccb557d34cf75e17dfdd3febe445e9e1...  0.383978  0.077588  \n",
       "3d2ea50eeeb98d4a79259ee057955696ec9dc46e1b72e8d...  0.595824 -0.175242  \n",
       "334533d21eeed37dd2b686022857f9f42eef9fa6192a865...  0.157842 -0.112606  \n",
       "bad9c123790cfd0b1106190de5623afbb70de0e71f5d48d...  0.669820 -0.868405  "
      ]
     },
     "execution_count": 29,
     "metadata": {},
     "output_type": "execute_result"
    }
   ],
   "source": [
    "clusters[['x','y','z']] = pd.DataFrame(clusters.pca_features.values.tolist(),index=clusters.index)\n",
    "clusters.head(10)"
   ]
  },
  {
   "cell_type": "code",
   "execution_count": 34,
   "id": "3b159c81-7471-49dd-b8cb-af896a08fd6b",
   "metadata": {},
   "outputs": [
    {
     "data": {
      "image/png": "[encoded data removed]",
      "text/plain": [
       "<Figure size 640x480 with 1 Axes>"
      ]
     },
     "metadata": {},
     "output_type": "display_data"
    }
   ],
   "source": [
    "from mpl_toolkits.mplot3d import Axes3D\n",
    "cluster_vis = plt.figure().add_subplot(projection='3d')\n",
    "cluster_vis.scatter(clusters.x,clusters.y,clusters.z,c=clusters.prediction)\n",
    "cluster_vis.set_xlabel('x')\n",
    "cluster_vis.set_ylabel('y')\n",
    "cluster_vis.set_zlabel('z')\n",
    "plt.show()"
   ]
  },
  {
   "cell_type": "code",
   "execution_count": null,
   "id": "dce20b62-3fcf-441d-b4fc-f6e342910610",
   "metadata": {},
   "outputs": [],
   "source": []
  }
 ],
 "metadata": {
  "kernelspec": {
   "display_name": "Python 3 (ipykernel)",
   "language": "python",
   "name": "python3"
  },
  "language_info": {
   "codemirror_mode": {
    "name": "ipython",
    "version": 3
   },
   "file_extension": ".py",
   "mimetype": "text/x-python",
   "name": "python",
   "nbconvert_exporter": "python",
   "pygments_lexer": "ipython3",
   "version": "3.10.6"
  }
 },
 "nbformat": 4,
 "nbformat_minor": 5
}
