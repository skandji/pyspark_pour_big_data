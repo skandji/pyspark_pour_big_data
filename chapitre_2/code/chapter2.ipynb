{
 "cells": [
  {
   "cell_type": "code",
   "execution_count": 4,
   "id": "e933c67a-be1c-4f31-941b-2c3e2ca2b731",
   "metadata": {},
   "outputs": [
    {
     "name": "stdout",
     "output_type": "stream",
     "text": [
      "root\n",
      " |-- user_id: string (nullable = true)\n",
      " |-- country: string (nullable = true)\n",
      " |-- browser: string (nullable = true)\n",
      " |-- OS: string (nullable = true)\n",
      " |-- age: integer (nullable = true)\n",
      "\n"
     ]
    }
   ],
   "source": [
    "# START CREATING A SPARKSESSION OBJECT\n",
    "from pyspark.sql import SparkSession\n",
    "spark = SparkSession.builder.appName('data_processing').getOrCreate()\n",
    "import pyspark.sql.functions as F\n",
    "from pyspark.sql.types import *\n",
    "#END CREATING A SPARKSESSION OBJECT\n",
    "#CREATING DATAFRAMES\n",
    "schema = StructType().add(\"user_id\",\"string\").add(\"country\",\"string\").add(\"browser\",\"string\").add(\"OS\",\"string\").add(\"age\",\"integer\")\n",
    "df = spark.createDataFrame([(\"A203\",'India',\"Chrome\",\"WIN\",33),(\"A201\",'China',\"Safari\",\"MacOS\",35),(\"A205\",'UK',\"Mozilla\",\"Linux\",25)], schema=schema)\n",
    "df.printSchema()"
   ]
  },
  {
   "cell_type": "code",
   "execution_count": 5,
   "id": "467bc3dc-82b5-4b4e-a822-01d2ac52065c",
   "metadata": {},
   "outputs": [
    {
     "name": "stdout",
     "output_type": "stream",
     "text": [
      "+-------+-------+-------+-----+---+\n",
      "|user_id|country|browser|   OS|age|\n",
      "+-------+-------+-------+-----+---+\n",
      "|   A203|  India| Chrome|  WIN| 33|\n",
      "|   A201|  China| Safari|MacOS| 35|\n",
      "|   A205|     UK|Mozilla|Linux| 25|\n",
      "+-------+-------+-------+-----+---+\n",
      "\n"
     ]
    }
   ],
   "source": [
    "df.show()"
   ]
  },
  {
   "cell_type": "code",
   "execution_count": 7,
   "id": "f30d7b9d-0cd9-4e9b-ae55-5ebbd55868d3",
   "metadata": {},
   "outputs": [
    {
     "name": "stdout",
     "output_type": "stream",
     "text": [
      "+-------+-------+-------+-----+---+\n",
      "|user_id|country|browser|   OS|age|\n",
      "+-------+-------+-------+-----+---+\n",
      "|   A203|   null| Chrome|  WIN| 33|\n",
      "|   A201|  China|   null|MacOS| 35|\n",
      "|   A205|     UK|Mozilla|Linux| 25|\n",
      "+-------+-------+-------+-----+---+\n",
      "\n"
     ]
    }
   ],
   "source": [
    "#NULL VALUES\n",
    "df_na = spark.createDataFrame([(\"A203\",None,\"Chrome\",\"WIN\",33),(\"A201\",'China',None,\"MacOS\",35),(\"A205\",'UK',\"Mozilla\",\"Linux\",25)], schema=schema)\n",
    "df_na.show()"
   ]
  },
  {
   "cell_type": "code",
   "execution_count": 8,
   "id": "20fcef2e-cd56-4624-9f2d-3d87c488b4c1",
   "metadata": {},
   "outputs": [
    {
     "name": "stdout",
     "output_type": "stream",
     "text": [
      "+-------+-------+-------+-----+---+\n",
      "|user_id|country|browser|   OS|age|\n",
      "+-------+-------+-------+-----+---+\n",
      "|   A203|      0| Chrome|  WIN| 33|\n",
      "|   A201|  China|      0|MacOS| 35|\n",
      "|   A205|     UK|Mozilla|Linux| 25|\n",
      "+-------+-------+-------+-----+---+\n",
      "\n"
     ]
    }
   ],
   "source": [
    "# Fill all null value with the value 0\n",
    "df_na.fillna('0').show()"
   ]
  },
  {
   "cell_type": "code",
   "execution_count": 11,
   "id": "03edc7cf-99d9-4243-88de-708166381b0a",
   "metadata": {},
   "outputs": [
    {
     "name": "stdout",
     "output_type": "stream",
     "text": [
      "+-------+-------+-------+-----+---+\n",
      "|user_id|country|browser|   OS|age|\n",
      "+-------+-------+-------+-----+---+\n",
      "|   A203|    USA| Chrome|  WIN| 33|\n",
      "|   A201|  China| Safari|MacOS| 35|\n",
      "|   A205|     UK|Mozilla|Linux| 25|\n",
      "+-------+-------+-------+-----+---+\n",
      "\n"
     ]
    }
   ],
   "source": [
    "#Replace the null values in specific columns\n",
    "df_na.fillna({'country':'USA','browser':'Safari'}).show()"
   ]
  },
  {
   "cell_type": "code",
   "execution_count": 12,
   "id": "3a9a8849-ad47-4d0e-bbe5-aa1e3e1a6bf3",
   "metadata": {},
   "outputs": [
    {
     "name": "stdout",
     "output_type": "stream",
     "text": [
      "+-------+-------+-------+-----+---+\n",
      "|user_id|country|browser|   OS|age|\n",
      "+-------+-------+-------+-----+---+\n",
      "|   A205|     UK|Mozilla|Linux| 25|\n",
      "+-------+-------+-------+-----+---+\n",
      "\n"
     ]
    }
   ],
   "source": [
    "#Drop the rows with any null values\n",
    "df_na.na.drop().show()"
   ]
  },
  {
   "cell_type": "code",
   "execution_count": 13,
   "id": "9e9af539-e926-49da-b0eb-b096831223db",
   "metadata": {},
   "outputs": [
    {
     "name": "stdout",
     "output_type": "stream",
     "text": [
      "+-------+-------+-------+-----+---+\n",
      "|user_id|country|browser|   OS|age|\n",
      "+-------+-------+-------+-----+---+\n",
      "|   A201|  China|   null|MacOS| 35|\n",
      "|   A205|     UK|Mozilla|Linux| 25|\n",
      "+-------+-------+-------+-----+---+\n",
      "\n"
     ]
    }
   ],
   "source": [
    "# Drop the row with null values for a specific column\n",
    "df_na.na.drop(subset='country').show()"
   ]
  },
  {
   "cell_type": "code",
   "execution_count": 16,
   "id": "362f2265-1042-406f-a6cc-f67eb734aef8",
   "metadata": {},
   "outputs": [
    {
     "name": "stdout",
     "output_type": "stream",
     "text": [
      "+-------+-------+-------------+-----+---+\n",
      "|user_id|country|      browser|   OS|age|\n",
      "+-------+-------+-------------+-----+---+\n",
      "|   A203|   null|Google Chrome|  WIN| 33|\n",
      "|   A201|  China|         null|MacOS| 35|\n",
      "|   A205|     UK|      Mozilla|Linux| 25|\n",
      "+-------+-------+-------------+-----+---+\n",
      "\n"
     ]
    }
   ],
   "source": [
    "# Replace a value with another value\n",
    "df_na.replace(\"Chrome\",\"Google Chrome\").show()"
   ]
  },
  {
   "cell_type": "code",
   "execution_count": 18,
   "id": "508f1704-525b-4f89-8295-5e9010756bb5",
   "metadata": {},
   "outputs": [
    {
     "name": "stdout",
     "output_type": "stream",
     "text": [
      "+-------+-------+-----+---+\n",
      "|country|browser|   OS|age|\n",
      "+-------+-------+-----+---+\n",
      "|   null| Chrome|  WIN| 33|\n",
      "|  China|   null|MacOS| 35|\n",
      "|     UK|Mozilla|Linux| 25|\n",
      "+-------+-------+-----+---+\n",
      "\n"
     ]
    }
   ],
   "source": [
    "# Drop a column of a dataframe\n",
    "df_na.drop('user_id').show()"
   ]
  },
  {
   "cell_type": "code",
   "execution_count": 22,
   "id": "e3959fde-e891-436a-ae2e-f6cfef4a30e4",
   "metadata": {},
   "outputs": [],
   "source": [
    "# Create a dataframe by passing value from CSV file\n",
    "df_csv=spark.read.csv(\"customer_data.csv\",header=True,inferSchema=True)"
   ]
  },
  {
   "cell_type": "code",
   "execution_count": 23,
   "id": "2e2abdc0-b481-4383-a323-6a0db7970676",
   "metadata": {},
   "outputs": [
    {
     "data": {
      "text/plain": [
       "2000"
      ]
     },
     "execution_count": 23,
     "metadata": {},
     "output_type": "execute_result"
    }
   ],
   "source": [
    "# Total rows\n",
    "df_csv.count()"
   ]
  },
  {
   "cell_type": "code",
   "execution_count": 24,
   "id": "a2356735-04cc-4e5a-a728-4dcf4e21fba1",
   "metadata": {},
   "outputs": [
    {
     "data": {
      "text/plain": [
       "7"
      ]
     },
     "execution_count": 24,
     "metadata": {},
     "output_type": "execute_result"
    }
   ],
   "source": [
    "len(df_csv.columns)"
   ]
  },
  {
   "cell_type": "code",
   "execution_count": 25,
   "id": "29dbf74d-23bd-4b7f-ad13-5ebc9cc0a645",
   "metadata": {},
   "outputs": [
    {
     "name": "stdout",
     "output_type": "stream",
     "text": [
      "root\n",
      " |-- Customer_subtype: string (nullable = true)\n",
      " |-- Number_of_houses: integer (nullable = true)\n",
      " |-- Avg_size_household: integer (nullable = true)\n",
      " |-- Avg_age: string (nullable = true)\n",
      " |-- Customer_main_type: string (nullable = true)\n",
      " |-- Avg_Salary: integer (nullable = true)\n",
      " |-- label: integer (nullable = true)\n",
      "\n"
     ]
    }
   ],
   "source": [
    "df_csv.printSchema()"
   ]
  },
  {
   "cell_type": "code",
   "execution_count": 26,
   "id": "8e32387c-5ba3-4106-8876-dca889deacaa",
   "metadata": {},
   "outputs": [
    {
     "name": "stdout",
     "output_type": "stream",
     "text": [
      "+--------------------+----------------+------------------+-----------+--------------------+----------+-----+\n",
      "|    Customer_subtype|Number_of_houses|Avg_size_household|    Avg_age|  Customer_main_type|Avg_Salary|label|\n",
      "+--------------------+----------------+------------------+-----------+--------------------+----------+-----+\n",
      "|Lower class large...|               1|                 3|30-40 years|Family with grown...|     44905|    0|\n",
      "|Mixed small town ...|               1|                 2|30-40 years|Family with grown...|     37575|    0|\n",
      "|Mixed small town ...|               1|                 2|30-40 years|Family with grown...|     27915|    0|\n",
      "+--------------------+----------------+------------------+-----------+--------------------+----------+-----+\n",
      "only showing top 3 rows\n",
      "\n"
     ]
    }
   ],
   "source": [
    "# Showing three rows\n",
    "df_csv.show(3)"
   ]
  },
  {
   "cell_type": "code",
   "execution_count": 27,
   "id": "c3ed2d5f-9cae-478c-b694-d8dce899466e",
   "metadata": {},
   "outputs": [
    {
     "name": "stdout",
     "output_type": "stream",
     "text": [
      "+-------+--------------------+------------------+------------------+-----------+--------------------+-----------------+------------------+\n",
      "|summary|    Customer_subtype|  Number_of_houses|Avg_size_household|    Avg_age|  Customer_main_type|       Avg_Salary|             label|\n",
      "+-------+--------------------+------------------+------------------+-----------+--------------------+-----------------+------------------+\n",
      "|  count|                2000|              2000|              2000|       2000|                2000|             2000|              2000|\n",
      "|   mean|                null|            1.1075|            2.6895|       null|                null|     1616908.0835|            0.0605|\n",
      "| stddev|                null|0.3873225521186316|0.7914562220841646|       null|                null|6822647.757312146|0.2384705099001677|\n",
      "|    min|Affluent senior a...|                 1|                 1|20-30 years|      Average Family|             1361|                 0|\n",
      "|    25%|                null|                 1|                 2|       null|                null|            20315|                 0|\n",
      "|    50%|                null|                 1|                 3|       null|                null|            31421|                 0|\n",
      "|    75%|                null|                 1|                 3|       null|                null|            42949|                 0|\n",
      "|    max| Young, low educated|                10|                 5|70-80 years|Successful hedonists|         48919896|                 1|\n",
      "+-------+--------------------+------------------+------------------+-----------+--------------------+-----------------+------------------+\n",
      "\n"
     ]
    }
   ],
   "source": [
    "df_csv.summary().show()"
   ]
  },
  {
   "cell_type": "code",
   "execution_count": 29,
   "id": "c4874d5f-8f89-4858-8644-ba60545d61fa",
   "metadata": {},
   "outputs": [
    {
     "name": "stdout",
     "output_type": "stream",
     "text": [
      "+--------------------+----------+\n",
      "|    Customer_subtype|Avg_Salary|\n",
      "+--------------------+----------+\n",
      "|Lower class large...|     44905|\n",
      "|Mixed small town ...|     37575|\n",
      "|Mixed small town ...|     27915|\n",
      "|Modern, complete ...|     19504|\n",
      "|  Large family farms|     34943|\n",
      "|    Young and rising|     13064|\n",
      "|Large religious f...|     29090|\n",
      "|Lower class large...|      6895|\n",
      "|Lower class large...|     35497|\n",
      "|     Family starters|     30800|\n",
      "|       Stable family|     39157|\n",
      "|Modern, complete ...|     40839|\n",
      "|Lower class large...|     30008|\n",
      "|        Mixed rurals|     37209|\n",
      "|    Young and rising|     45361|\n",
      "|Lower class large...|     45650|\n",
      "|Traditional families|     18982|\n",
      "|Mixed apartment d...|     30093|\n",
      "|Young all america...|     27097|\n",
      "|Low income catholics|     23511|\n",
      "+--------------------+----------+\n",
      "only showing top 20 rows\n",
      "\n"
     ]
    }
   ],
   "source": [
    "# Select rows\n",
    "df_csv.select(['Customer_subtype','Avg_Salary']).show()"
   ]
  },
  {
   "cell_type": "code",
   "execution_count": 31,
   "id": "fef5abd4-3ffe-4440-a640-f4aa8b00660b",
   "metadata": {},
   "outputs": [
    {
     "data": {
      "text/plain": [
       "128"
      ]
     },
     "execution_count": 31,
     "metadata": {},
     "output_type": "execute_result"
    }
   ],
   "source": [
    "# Filter rows and count\n",
    "df_csv.filter(df_csv['Avg_Salary'] > 1000000).count()"
   ]
  },
  {
   "cell_type": "code",
   "execution_count": 32,
   "id": "d1ffaccb-900f-49a6-b6e6-d9124b0ad31a",
   "metadata": {},
   "outputs": [
    {
     "name": "stdout",
     "output_type": "stream",
     "text": [
      "+--------------------+----------------+------------------+-----------+--------------------+----------+-----+\n",
      "|    Customer_subtype|Number_of_houses|Avg_size_household|    Avg_age|  Customer_main_type|Avg_Salary|label|\n",
      "+--------------------+----------------+------------------+-----------+--------------------+----------+-----+\n",
      "| High status seniors|               1|                 3|40-50 years|Successful hedonists|   4670288|    0|\n",
      "| High status seniors|               1|                 3|50-60 years|Successful hedonists|   9561873|    0|\n",
      "| High status seniors|               1|                 2|40-50 years|Successful hedonists|  18687005|    0|\n",
      "| High status seniors|               1|                 2|40-50 years|Successful hedonists|  24139960|    0|\n",
      "| High status seniors|               1|                 2|50-60 years|Successful hedonists|   6718606|    0|\n",
      "|High Income, expe...|               1|                 3|40-50 years|Successful hedonists|  19347139|    0|\n",
      "|High Income, expe...|               1|                 3|40-50 years|Successful hedonists|   5243902|    0|\n",
      "| High status seniors|               2|                 3|40-50 years|Successful hedonists|   6138618|    0|\n",
      "|High Income, expe...|               1|                 3|50-60 years|Successful hedonists|  24930053|    0|\n",
      "| High status seniors|               1|                 2|50-60 years|Successful hedonists|  12545905|    1|\n",
      "|High Income, expe...|               1|                 3|40-50 years|Successful hedonists|  29976435|    0|\n",
      "| High status seniors|               1|                 2|50-60 years|Successful hedonists|  24639614|    0|\n",
      "| High status seniors|               1|                 2|40-50 years|Successful hedonists|  16073966|    0|\n",
      "|High Income, expe...|               1|                 4|40-50 years|Successful hedonists|  35032441|    1|\n",
      "|High Income, expe...|               1|                 2|50-60 years|Successful hedonists|   8354410|    0|\n",
      "| High status seniors|               1|                 1|60-70 years|Successful hedonists|  20241068|    0|\n",
      "| High status seniors|               1|                 1|50-60 years|Successful hedonists|  45592572|    0|\n",
      "| High status seniors|               1|                 2|50-60 years|Successful hedonists|  10289449|    0|\n",
      "|High Income, expe...|               1|                 2|50-60 years|Successful hedonists|   5586401|    0|\n",
      "| High status seniors|               1|                 2|50-60 years|Successful hedonists|  41699271|    0|\n",
      "+--------------------+----------------+------------------+-----------+--------------------+----------+-----+\n",
      "only showing top 20 rows\n",
      "\n"
     ]
    }
   ],
   "source": [
    "# Filter rows and show\n",
    "df_csv.filter(df_csv['Avg_Salary'] > 1000000).show()"
   ]
  },
  {
   "cell_type": "code",
   "execution_count": 34,
   "id": "ca84627c-1561-4dd5-93a9-d716a93078d7",
   "metadata": {},
   "outputs": [
    {
     "name": "stdout",
     "output_type": "stream",
     "text": [
      "+--------------------+----------------+------------------+-----------+--------------------+----------+-----+\n",
      "|    Customer_subtype|Number_of_houses|Avg_size_household|    Avg_age|  Customer_main_type|Avg_Salary|label|\n",
      "+--------------------+----------------+------------------+-----------+--------------------+----------+-----+\n",
      "|Affluent senior a...|               3|                 2|50-60 years|Successful hedonists|    596723|    0|\n",
      "|Affluent senior a...|               3|                 2|50-60 years|Successful hedonists|    944444|    0|\n",
      "|Affluent senior a...|               3|                 2|50-60 years|Successful hedonists|    788477|    0|\n",
      "|Affluent senior a...|               3|                 2|50-60 years|Successful hedonists|    994077|    0|\n",
      "+--------------------+----------------+------------------+-----------+--------------------+----------+-----+\n",
      "\n"
     ]
    }
   ],
   "source": [
    "df_csv.filter(df_csv['Avg_Salary'] > 500000).filter(df_csv['Number_of_Houses'] > 2).show()"
   ]
  },
  {
   "cell_type": "code",
   "execution_count": 36,
   "id": "577b9c1a-80ae-4490-9f9a-2fa91e3f7d6d",
   "metadata": {},
   "outputs": [
    {
     "name": "stdout",
     "output_type": "stream",
     "text": [
      "+--------------------+----------------+------------------+-----------+--------------------+----------+-----+\n",
      "|    Customer_subtype|Number_of_houses|Avg_size_household|    Avg_age|  Customer_main_type|Avg_Salary|label|\n",
      "+--------------------+----------------+------------------+-----------+--------------------+----------+-----+\n",
      "|Affluent senior a...|               3|                 2|50-60 years|Successful hedonists|    596723|    0|\n",
      "|Affluent senior a...|               3|                 2|50-60 years|Successful hedonists|    944444|    0|\n",
      "|Affluent senior a...|               3|                 2|50-60 years|Successful hedonists|    788477|    0|\n",
      "|Affluent senior a...|               3|                 2|50-60 years|Successful hedonists|    994077|    0|\n",
      "+--------------------+----------------+------------------+-----------+--------------------+----------+-----+\n",
      "\n"
     ]
    }
   ],
   "source": [
    "df_csv.where((df_csv['Avg_Salary'] > 500000) & (df_csv['Number_of_Houses'] > 2)).show()"
   ]
  },
  {
   "cell_type": "code",
   "execution_count": 37,
   "id": "a8c46803-6c72-4ba0-b57c-9328e73a4b13",
   "metadata": {},
   "outputs": [
    {
     "name": "stdout",
     "output_type": "stream",
     "text": [
      "+--------------------+-----+\n",
      "|    Customer_subtype|count|\n",
      "+--------------------+-----+\n",
      "|Large family, emp...|   56|\n",
      "|Religious elderly...|   47|\n",
      "|Large religious f...|  107|\n",
      "|Modern, complete ...|   93|\n",
      "|    Village families|   68|\n",
      "|Young all america...|   62|\n",
      "|Young urban have-...|    4|\n",
      "|Young seniors in ...|   22|\n",
      "|Fresh masters in ...|    2|\n",
      "|High Income, expe...|   52|\n",
      "|Lower class large...|  288|\n",
      "| Residential elderly|    6|\n",
      "|Senior cosmopolitans|    1|\n",
      "|        Mixed rurals|   67|\n",
      "|Career and childcare|   33|\n",
      "|Low income catholics|   72|\n",
      "|Mixed apartment d...|   34|\n",
      "|Seniors in apartm...|   17|\n",
      "|Middle class fami...|  122|\n",
      "|Traditional families|  129|\n",
      "+--------------------+-----+\n",
      "only showing top 20 rows\n",
      "\n"
     ]
    }
   ],
   "source": [
    "# Groupe By\n",
    "df_csv.groupBy('Customer_subtype').count().show()"
   ]
  },
  {
   "cell_type": "code",
   "execution_count": 39,
   "id": "8fa5f332-037a-46f8-bcfa-988ae2e3b3fb",
   "metadata": {},
   "outputs": [
    {
     "name": "stdout",
     "output_type": "stream",
     "text": [
      "Aggregation for Customer_subtype\n",
      "+------------------------------------------+-----+\n",
      "|Customer_subtype                          |count|\n",
      "+------------------------------------------+-----+\n",
      "|Lower class large families                |288  |\n",
      "|Traditional families                      |129  |\n",
      "|Middle class families                     |122  |\n",
      "|Large religious families                  |107  |\n",
      "|Modern, complete families                 |93   |\n",
      "|Couples with teens 'Married with children'|83   |\n",
      "|Young and rising                          |78   |\n",
      "|High status seniors                       |76   |\n",
      "|Low income catholics                      |72   |\n",
      "|Mixed seniors                             |71   |\n",
      "|Village families                          |68   |\n",
      "|Mixed rurals                              |67   |\n",
      "|Young all american family                 |62   |\n",
      "|Stable family                             |62   |\n",
      "|Large family, employed child              |56   |\n",
      "|Young, low educated                       |56   |\n",
      "|Family starters                           |55   |\n",
      "|High Income, expensive child              |52   |\n",
      "|Religious elderly singles                 |47   |\n",
      "|Mixed small town dwellers                 |47   |\n",
      "+------------------------------------------+-----+\n",
      "only showing top 20 rows\n",
      "\n",
      "Aggregation for Number_of_houses\n",
      "+----------------+-----+\n",
      "|Number_of_houses|count|\n",
      "+----------------+-----+\n",
      "|1               |1808 |\n",
      "|2               |178  |\n",
      "|3               |12   |\n",
      "|5               |1    |\n",
      "|10              |1    |\n",
      "+----------------+-----+\n",
      "\n",
      "Aggregation for Avg_size_household\n",
      "+------------------+-----+\n",
      "|Avg_size_household|count|\n",
      "+------------------+-----+\n",
      "|3                 |900  |\n",
      "|2                 |730  |\n",
      "|4                 |255  |\n",
      "|1                 |94   |\n",
      "|5                 |21   |\n",
      "+------------------+-----+\n",
      "\n",
      "Aggregation for Avg_age\n",
      "+-----------+-----+\n",
      "|Avg_age    |count|\n",
      "+-----------+-----+\n",
      "|40-50 years|1028 |\n",
      "|30-40 years|496  |\n",
      "|50-60 years|373  |\n",
      "|60-70 years|64   |\n",
      "|20-30 years|31   |\n",
      "|70-80 years|8    |\n",
      "+-----------+-----+\n",
      "\n",
      "Aggregation for Customer_main_type\n",
      "+---------------------+-----+\n",
      "|Customer_main_type   |count|\n",
      "+---------------------+-----+\n",
      "|Family with grown ups|542  |\n",
      "|Average Family       |308  |\n",
      "|Conservative families|236  |\n",
      "|Retired and Religious|202  |\n",
      "|Successful hedonists |194  |\n",
      "|Living well          |178  |\n",
      "|Driven Growers       |172  |\n",
      "|Farmers              |93   |\n",
      "|Cruising Seniors     |60   |\n",
      "|Career Loners        |15   |\n",
      "+---------------------+-----+\n",
      "\n",
      "Aggregation for label\n",
      "+-----+-----+\n",
      "|label|count|\n",
      "+-----+-----+\n",
      "|0    |1879 |\n",
      "|1    |121  |\n",
      "+-----+-----+\n",
      "\n"
     ]
    }
   ],
   "source": [
    "for col in df_csv.columns:\n",
    "    if col != 'Avg_Salary':\n",
    "        print(f\"Aggregation for {col}\")\n",
    "        df_csv.groupBy(col).count().orderBy('count',ascending=False).show(truncate=False)"
   ]
  },
  {
   "cell_type": "code",
   "execution_count": 40,
   "id": "4baea2a0-988e-41f3-9f3b-f9499a66cd74",
   "metadata": {},
   "outputs": [
    {
     "name": "stdout",
     "output_type": "stream",
     "text": [
      "+--------------------+--------------------+\n",
      "|  Customer_main_type|     avg(Avg_Salary)|\n",
      "+--------------------+--------------------+\n",
      "|             Farmers|  30209.333333333332|\n",
      "|       Career Loners|             32272.6|\n",
      "|Retired and Relig...|   27338.80693069307|\n",
      "|Successful hedonists|1.6278923510309279E7|\n",
      "|         Living well|  31194.044943820223|\n",
      "|      Average Family|  104256.62337662338|\n",
      "|    Cruising Seniors|  28870.333333333332|\n",
      "|Conservative fami...|  29504.419491525423|\n",
      "|      Driven Growers|   30769.04069767442|\n",
      "|Family with grown...|  28114.191881918818|\n",
      "+--------------------+--------------------+\n",
      "\n"
     ]
    }
   ],
   "source": [
    "df_csv.groupBy('Customer_main_type').agg(F.mean('Avg_Salary')).show()"
   ]
  },
  {
   "cell_type": "code",
   "execution_count": 41,
   "id": "5aecbc19-3499-4cf7-94b7-f034e469798f",
   "metadata": {},
   "outputs": [
    {
     "name": "stdout",
     "output_type": "stream",
     "text": [
      "+--------------------+---------------+\n",
      "|  Customer_main_type|max(Avg_Salary)|\n",
      "+--------------------+---------------+\n",
      "|             Farmers|          49965|\n",
      "|       Career Loners|          49903|\n",
      "|Retired and Relig...|          49564|\n",
      "|Successful hedonists|       48919896|\n",
      "|         Living well|          49816|\n",
      "|      Average Family|         991838|\n",
      "|    Cruising Seniors|          49526|\n",
      "|Conservative fami...|          49965|\n",
      "|      Driven Growers|          49932|\n",
      "|Family with grown...|          49901|\n",
      "+--------------------+---------------+\n",
      "\n"
     ]
    }
   ],
   "source": [
    "df_csv.groupBy('Customer_main_type').agg(F.max('Avg_Salary')).show()"
   ]
  },
  {
   "cell_type": "code",
   "execution_count": 42,
   "id": "a3e59ced-f238-4a3a-a84b-b85b4d714db1",
   "metadata": {},
   "outputs": [
    {
     "name": "stdout",
     "output_type": "stream",
     "text": [
      "+--------------------+---------------+\n",
      "|  Customer_main_type|min(Avg_Salary)|\n",
      "+--------------------+---------------+\n",
      "|             Farmers|          10469|\n",
      "|       Career Loners|          13246|\n",
      "|Retired and Relig...|           1361|\n",
      "|Successful hedonists|          12705|\n",
      "|         Living well|          10418|\n",
      "|      Average Family|          10506|\n",
      "|    Cruising Seniors|          10100|\n",
      "|Conservative fami...|          10179|\n",
      "|      Driven Growers|          10257|\n",
      "|Family with grown...|           1502|\n",
      "+--------------------+---------------+\n",
      "\n"
     ]
    }
   ],
   "source": [
    "df_csv.groupBy('Customer_main_type').agg(F.min('Avg_Salary')).show()"
   ]
  },
  {
   "cell_type": "code",
   "execution_count": 43,
   "id": "3aa70429-dc21-4fa6-ac44-55cc03e1e238",
   "metadata": {},
   "outputs": [
    {
     "name": "stdout",
     "output_type": "stream",
     "text": [
      "+--------------------+---------------+\n",
      "|  Customer_main_type|sum(Avg_Salary)|\n",
      "+--------------------+---------------+\n",
      "|             Farmers|        2809468|\n",
      "|       Career Loners|         484089|\n",
      "|Retired and Relig...|        5522439|\n",
      "|Successful hedonists|     3158111161|\n",
      "|         Living well|        5552540|\n",
      "|      Average Family|       32111040|\n",
      "|    Cruising Seniors|        1732220|\n",
      "|Conservative fami...|        6963043|\n",
      "|      Driven Growers|        5292275|\n",
      "|Family with grown...|       15237892|\n",
      "+--------------------+---------------+\n",
      "\n"
     ]
    }
   ],
   "source": [
    "df_csv.groupBy('Customer_main_type').agg(F.sum('Avg_Salary')).show()"
   ]
  },
  {
   "cell_type": "code",
   "execution_count": 44,
   "id": "b6a09fcb-d8d9-4bf2-9cb4-8c4d6cc04865",
   "metadata": {},
   "outputs": [
    {
     "name": "stdout",
     "output_type": "stream",
     "text": [
      "+--------------------+----------------+------------------+-----------+--------------------+----------+-----+\n",
      "|    Customer_subtype|Number_of_houses|Avg_size_household|    Avg_age|  Customer_main_type|Avg_Salary|label|\n",
      "+--------------------+----------------+------------------+-----------+--------------------+----------+-----+\n",
      "| High status seniors|               1|                 2|60-70 years|Successful hedonists|  48919896|    0|\n",
      "|High Income, expe...|               1|                 2|50-60 years|Successful hedonists|  48177970|    0|\n",
      "|High Income, expe...|               1|                 2|50-60 years|Successful hedonists|  48069548|    1|\n",
      "|High Income, expe...|               1|                 3|40-50 years|Successful hedonists|  46911924|    0|\n",
      "| High status seniors|               1|                 3|40-50 years|Successful hedonists|  46614009|    0|\n",
      "|High Income, expe...|               1|                 3|30-40 years|Successful hedonists|  45952441|    0|\n",
      "|High Income, expe...|               1|                 3|40-50 years|Successful hedonists|  45864609|    1|\n",
      "| High status seniors|               1|                 1|50-60 years|Successful hedonists|  45592572|    0|\n",
      "| High status seniors|               1|                 2|50-60 years|Successful hedonists|  45170899|    0|\n",
      "|High Income, expe...|               1|                 3|50-60 years|Successful hedonists|  44843830|    0|\n",
      "| High status seniors|               1|                 2|50-60 years|Successful hedonists|  43230349|    0|\n",
      "| High status seniors|               1|                 5|40-50 years|Successful hedonists|  43181830|    0|\n",
      "| High status seniors|               1|                 1|30-40 years|Successful hedonists|  42631926|    0|\n",
      "| High status seniors|               1|                 2|50-60 years|Successful hedonists|  41919020|    0|\n",
      "| High status seniors|               1|                 2|50-60 years|Successful hedonists|  41699271|    0|\n",
      "| High status seniors|               1|                 2|40-50 years|Successful hedonists|  41398953|    0|\n",
      "|High Income, expe...|               1|                 3|40-50 years|Successful hedonists|  41269615|    1|\n",
      "| High status seniors|               1|                 2|50-60 years|Successful hedonists|  41192397|    1|\n",
      "| High status seniors|               1|                 2|40-50 years|Successful hedonists|  40564335|    0|\n",
      "| High status seniors|               1|                 2|50-60 years|Successful hedonists|  40453887|    0|\n",
      "+--------------------+----------------+------------------+-----------+--------------------+----------+-----+\n",
      "only showing top 20 rows\n",
      "\n"
     ]
    }
   ],
   "source": [
    "df_csv.sort(\"Avg_Salary\", ascending=False).show()"
   ]
  },
  {
   "cell_type": "code",
   "execution_count": 45,
   "id": "6dd32f5c-b112-4294-ab62-231463953230",
   "metadata": {},
   "outputs": [
    {
     "name": "stdout",
     "output_type": "stream",
     "text": [
      "+------------------------------------------+--------------------+\n",
      "|Customer_subtype                          |mean_salary         |\n",
      "+------------------------------------------+--------------------+\n",
      "|High status seniors                       |2.507677857894737E7 |\n",
      "|High Income, expensive child              |2.3839817807692308E7|\n",
      "|Affluent young families                   |662068.7777777778   |\n",
      "|Affluent senior apartments                |653638.8235294118   |\n",
      "|Senior cosmopolitans                      |49903.0             |\n",
      "|Students in apartments                    |35532.142857142855  |\n",
      "|Large family farms                        |33135.61538461538   |\n",
      "|Young, low educated                       |33072.21428571428   |\n",
      "|Large family, employed child              |32867.857142857145  |\n",
      "|Suburban youth                            |32558.0             |\n",
      "|Village families                          |32449.470588235294  |\n",
      "|Middle class families                     |31579.385245901638  |\n",
      "|Modern, complete families                 |31576.0             |\n",
      "|Etnically diverse                         |31572.0             |\n",
      "|Young and rising                          |30795.897435897437  |\n",
      "|Mixed seniors                             |30759.267605633802  |\n",
      "|Very Important Provincials                |30548.40625         |\n",
      "|Religious elderly singles                 |30540.59574468085   |\n",
      "|Family starters                           |30376.2             |\n",
      "|Career and childcare                      |30110.939393939392  |\n",
      "|Young seniors in the city                 |30105.136363636364  |\n",
      "|Seniors in apartments                     |30090.882352941175  |\n",
      "|Large religious families                  |29652.196261682242  |\n",
      "|Stable family                             |29619.032258064515  |\n",
      "|Mixed apartment dwellers                  |29587.647058823528  |\n",
      "|Young all american family                 |29563.3064516129    |\n",
      "|Porchless seniors: no front yard          |29509.827586206895  |\n",
      "|Traditional families                      |29381.84496124031   |\n",
      "|Mixed rurals                              |29073.761194029852  |\n",
      "|Mixed small town dwellers                 |28982.106382978724  |\n",
      "|Residential elderly                       |28866.166666666668  |\n",
      "|Couples with teens 'Married with children'|28155.807228915663  |\n",
      "|Fresh masters in the city                 |27645.0             |\n",
      "|Dinki's (double income no kids)           |26231.117647058825  |\n",
      "|Lower class large families                |26012.628472222223  |\n",
      "|Young urban have-nots                     |25751.0             |\n",
      "|Own home elderly                          |25677.666666666668  |\n",
      "|Single youth                              |24403.25            |\n",
      "|Low income catholics                      |21713.777777777777  |\n",
      "+------------------------------------------+--------------------+\n",
      "\n"
     ]
    }
   ],
   "source": [
    "df_csv.groupBy('Customer_subtype').agg(F.avg('Avg_Salary').alias('mean_salary')).orderBy('mean_salary',ascending=False).show(50,False)"
   ]
  },
  {
   "cell_type": "code",
   "execution_count": 46,
   "id": "677d1026-6aed-4d23-b64c-9a8b0e349f14",
   "metadata": {},
   "outputs": [
    {
     "name": "stdout",
     "output_type": "stream",
     "text": [
      "+------------------------------------------+--------------------+\n",
      "|Customer_subtype                          |max_salary          |\n",
      "+------------------------------------------+--------------------+\n",
      "|High status seniors                       |2.507677857894737E7 |\n",
      "|High Income, expensive child              |2.3839817807692308E7|\n",
      "|Affluent young families                   |662068.7777777778   |\n",
      "|Affluent senior apartments                |653638.8235294118   |\n",
      "|Senior cosmopolitans                      |49903.0             |\n",
      "|Students in apartments                    |35532.142857142855  |\n",
      "|Large family farms                        |33135.61538461538   |\n",
      "|Young, low educated                       |33072.21428571428   |\n",
      "|Large family, employed child              |32867.857142857145  |\n",
      "|Suburban youth                            |32558.0             |\n",
      "|Village families                          |32449.470588235294  |\n",
      "|Middle class families                     |31579.385245901638  |\n",
      "|Modern, complete families                 |31576.0             |\n",
      "|Etnically diverse                         |31572.0             |\n",
      "|Young and rising                          |30795.897435897437  |\n",
      "|Mixed seniors                             |30759.267605633802  |\n",
      "|Very Important Provincials                |30548.40625         |\n",
      "|Religious elderly singles                 |30540.59574468085   |\n",
      "|Family starters                           |30376.2             |\n",
      "|Career and childcare                      |30110.939393939392  |\n",
      "|Young seniors in the city                 |30105.136363636364  |\n",
      "|Seniors in apartments                     |30090.882352941175  |\n",
      "|Large religious families                  |29652.196261682242  |\n",
      "|Stable family                             |29619.032258064515  |\n",
      "|Mixed apartment dwellers                  |29587.647058823528  |\n",
      "|Young all american family                 |29563.3064516129    |\n",
      "|Porchless seniors: no front yard          |29509.827586206895  |\n",
      "|Traditional families                      |29381.84496124031   |\n",
      "|Mixed rurals                              |29073.761194029852  |\n",
      "|Mixed small town dwellers                 |28982.106382978724  |\n",
      "|Residential elderly                       |28866.166666666668  |\n",
      "|Couples with teens 'Married with children'|28155.807228915663  |\n",
      "|Fresh masters in the city                 |27645.0             |\n",
      "|Dinki's (double income no kids)           |26231.117647058825  |\n",
      "|Lower class large families                |26012.628472222223  |\n",
      "|Young urban have-nots                     |25751.0             |\n",
      "|Own home elderly                          |25677.666666666668  |\n",
      "|Single youth                              |24403.25            |\n",
      "|Low income catholics                      |21713.777777777777  |\n",
      "+------------------------------------------+--------------------+\n",
      "\n"
     ]
    }
   ],
   "source": [
    "df_csv.groupBy('Customer_subtype').agg(F.avg('Avg_Salary').alias('max_salary')).orderBy('max_salary',ascending=False).show(50,False)"
   ]
  },
  {
   "cell_type": "code",
   "execution_count": 47,
   "id": "c92c088d-0c95-425d-a434-0a44df3da91f",
   "metadata": {},
   "outputs": [
    {
     "name": "stdout",
     "output_type": "stream",
     "text": [
      "+--------------------+-----------------------------+\n",
      "|    Customer_subtype|collect_set(Number_of_houses)|\n",
      "+--------------------+-----------------------------+\n",
      "|Large family, emp...|                       [1, 2]|\n",
      "|Religious elderly...|                       [1, 2]|\n",
      "|Large religious f...|                       [1, 2]|\n",
      "|Modern, complete ...|                       [1, 2]|\n",
      "|    Village families|                       [1, 2]|\n",
      "|Young all america...|                       [1, 2]|\n",
      "|Young urban have-...|                       [1, 2]|\n",
      "|Young seniors in ...|                    [1, 2, 3]|\n",
      "|Fresh masters in ...|                          [1]|\n",
      "|High Income, expe...|                          [1]|\n",
      "|Lower class large...|                       [1, 2]|\n",
      "| Residential elderly|                    [1, 2, 3]|\n",
      "|Senior cosmopolitans|                          [3]|\n",
      "|        Mixed rurals|                          [1]|\n",
      "|Career and childcare|                       [1, 2]|\n",
      "|Low income catholics|                          [1]|\n",
      "|Mixed apartment d...|                    [1, 2, 3]|\n",
      "|Seniors in apartm...|                       [1, 2]|\n",
      "|Middle class fami...|                       [1, 2]|\n",
      "|Traditional families|                       [1, 2]|\n",
      "+--------------------+-----------------------------+\n",
      "only showing top 20 rows\n",
      "\n"
     ]
    }
   ],
   "source": [
    "df_csv.groupBy(\"Customer_subtype\").agg(F.collect_set(\"Number_of_houses\")).show()"
   ]
  },
  {
   "cell_type": "code",
   "execution_count": 48,
   "id": "6576ce47-abc7-4810-9fff-02c6ffde0c16",
   "metadata": {
    "tags": []
   },
   "outputs": [
    {
     "name": "stdout",
     "output_type": "stream",
     "text": [
      "+--------------------+------------------------------+\n",
      "|    Customer_subtype|collect_list(Number_of_houses)|\n",
      "+--------------------+------------------------------+\n",
      "|Large family, emp...|          [2, 1, 2, 1, 2, 1...|\n",
      "|Religious elderly...|          [1, 1, 1, 1, 1, 1...|\n",
      "|Large religious f...|          [2, 1, 1, 2, 1, 1...|\n",
      "|Modern, complete ...|          [1, 1, 2, 1, 1, 1...|\n",
      "|    Village families|          [1, 1, 1, 1, 1, 1...|\n",
      "|Young all america...|          [1, 1, 2, 2, 1, 1...|\n",
      "|Young urban have-...|                  [1, 2, 1, 1]|\n",
      "|Young seniors in ...|          [1, 1, 1, 1, 1, 2...|\n",
      "|Fresh masters in ...|                        [1, 1]|\n",
      "|High Income, expe...|          [1, 1, 1, 1, 1, 1...|\n",
      "|Lower class large...|          [1, 1, 1, 1, 1, 1...|\n",
      "| Residential elderly|            [3, 1, 1, 3, 2, 1]|\n",
      "|Senior cosmopolitans|                           [3]|\n",
      "|        Mixed rurals|          [1, 1, 1, 1, 1, 1...|\n",
      "|Career and childcare|          [2, 1, 1, 1, 1, 1...|\n",
      "|Low income catholics|          [1, 1, 1, 1, 1, 1...|\n",
      "|Mixed apartment d...|          [2, 3, 1, 1, 1, 1...|\n",
      "|Seniors in apartm...|          [2, 2, 2, 2, 1, 2...|\n",
      "|Middle class fami...|          [1, 1, 2, 1, 1, 1...|\n",
      "|Traditional families|          [1, 1, 1, 1, 1, 1...|\n",
      "+--------------------+------------------------------+\n",
      "only showing top 20 rows\n",
      "\n"
     ]
    }
   ],
   "source": [
    "df_csv.groupBy(\"Customer_subtype\").agg(F.collect_list(\"Number_of_houses\")).show()"
   ]
  },
  {
   "cell_type": "code",
   "execution_count": 49,
   "id": "dc2a87db-b856-4422-a4e7-7c477b0a4b24",
   "metadata": {},
   "outputs": [
    {
     "name": "stdout",
     "output_type": "stream",
     "text": [
      "+--------------------+--------+\n",
      "|    Customer_subtype|Constant|\n",
      "+--------------------+--------+\n",
      "|Lower class large...| Finance|\n",
      "|Mixed small town ...| Finance|\n",
      "|Mixed small town ...| Finance|\n",
      "|Modern, complete ...| Finance|\n",
      "|  Large family farms| Finance|\n",
      "|    Young and rising| Finance|\n",
      "|Large religious f...| Finance|\n",
      "|Lower class large...| Finance|\n",
      "|Lower class large...| Finance|\n",
      "|     Family starters| Finance|\n",
      "|       Stable family| Finance|\n",
      "|Modern, complete ...| Finance|\n",
      "|Lower class large...| Finance|\n",
      "|        Mixed rurals| Finance|\n",
      "|    Young and rising| Finance|\n",
      "|Lower class large...| Finance|\n",
      "|Traditional families| Finance|\n",
      "|Mixed apartment d...| Finance|\n",
      "|Young all america...| Finance|\n",
      "|Low income catholics| Finance|\n",
      "+--------------------+--------+\n",
      "only showing top 20 rows\n",
      "\n"
     ]
    }
   ],
   "source": [
    "df_csv = df_csv.withColumn('Constant', F.lit('Finance'))\n",
    "df_csv.select('Customer_subtype', 'Constant').show()"
   ]
  },
  {
   "cell_type": "code",
   "execution_count": 50,
   "id": "0beaf66c-632e-4c32-b936-a374c1795cad",
   "metadata": {},
   "outputs": [
    {
     "name": "stdout",
     "output_type": "stream",
     "text": [
      "+-----------+-----+\n",
      "|    Avg_age|count|\n",
      "+-----------+-----+\n",
      "|70-80 years|    8|\n",
      "|50-60 years|  373|\n",
      "|30-40 years|  496|\n",
      "|20-30 years|   31|\n",
      "|60-70 years|   64|\n",
      "|40-50 years| 1028|\n",
      "+-----------+-----+\n",
      "\n"
     ]
    }
   ],
   "source": [
    "from pyspark.sql.functions import udf\n",
    "df_csv.groupBy(\"Avg_age\").count().show()"
   ]
  },
  {
   "cell_type": "code",
   "execution_count": 53,
   "id": "827dd263-bc83-4f0e-87f2-10a025bef6f9",
   "metadata": {},
   "outputs": [
    {
     "name": "stdout",
     "output_type": "stream",
     "text": [
      "+-----------+------------+\n",
      "|    Avg_age|age_category|\n",
      "+-----------+------------+\n",
      "|30-40 years|    Mid aged|\n",
      "|30-40 years|    Mid aged|\n",
      "|30-40 years|    Mid aged|\n",
      "|40-50 years|         Old|\n",
      "|30-40 years|    Mid aged|\n",
      "|20-30 years|       Young|\n",
      "|30-40 years|    Mid aged|\n",
      "|40-50 years|         Old|\n",
      "|50-60 years|         Old|\n",
      "|40-50 years|         Old|\n",
      "|40-50 years|         Old|\n",
      "|40-50 years|         Old|\n",
      "|40-50 years|         Old|\n",
      "|40-50 years|         Old|\n",
      "|30-40 years|    Mid aged|\n",
      "|40-50 years|         Old|\n",
      "|40-50 years|         Old|\n",
      "|40-50 years|         Old|\n",
      "|30-40 years|    Mid aged|\n",
      "|50-60 years|         Old|\n",
      "+-----------+------------+\n",
      "only showing top 20 rows\n",
      "\n"
     ]
    }
   ],
   "source": [
    "def age_category(age):\n",
    "    if age == \"20-30 years\":\n",
    "        return \"Young\"\n",
    "    elif age == \"30-40 years\":\n",
    "        return \"Mid aged\"\n",
    "    elif ((age == \"40-50 years\") or (age == \"50-60 years\")):\n",
    "        return \"Old\"\n",
    "    else:\n",
    "        return \"Very old\"\n",
    "age_udf = udf(age_category,StringType())\n",
    "df_csv = df_csv.withColumn('age_category',age_udf(df_csv['Avg_age']))\n",
    "df_csv.select('Avg_age','age_category').show()"
   ]
  },
  {
   "cell_type": "code",
   "execution_count": 54,
   "id": "d44c0e36-1629-4196-927b-f480ca97556e",
   "metadata": {},
   "outputs": [
    {
     "name": "stdout",
     "output_type": "stream",
     "text": [
      "+------------+-----+\n",
      "|age_category|count|\n",
      "+------------+-----+\n",
      "|         Old| 1401|\n",
      "|       Young|   31|\n",
      "|    Mid aged|  496|\n",
      "|    Very old|   72|\n",
      "+------------+-----+\n",
      "\n"
     ]
    }
   ],
   "source": [
    "df_csv.groupBy('age_category').count().show()"
   ]
  },
  {
   "cell_type": "code",
   "execution_count": 55,
   "id": "6d056caa-9c41-4adc-9eb5-d78a4e20c910",
   "metadata": {},
   "outputs": [
    {
     "name": "stdout",
     "output_type": "stream",
     "text": [
      "+-------+-----------------+\n",
      "|summary|       Avg_Salary|\n",
      "+-------+-----------------+\n",
      "|  count|             2000|\n",
      "|   mean|     1616908.0835|\n",
      "| stddev|6822647.757312146|\n",
      "|    min|             1361|\n",
      "|    25%|            20315|\n",
      "|    50%|            31421|\n",
      "|    75%|            42949|\n",
      "|    max|         48919896|\n",
      "+-------+-----------------+\n",
      "\n"
     ]
    }
   ],
   "source": [
    "df_csv.select('Avg_Salary').summary().show()"
   ]
  },
  {
   "cell_type": "code",
   "execution_count": 58,
   "id": "5400b65f-60ae-481b-a56a-8b7349f04ee0",
   "metadata": {},
   "outputs": [
    {
     "name": "stdout",
     "output_type": "stream",
     "text": [
      "+--------------------------+----------------+------------------+-----------+---------------------+----------+-----+--------+------------+----------------------+\n",
      "|Customer_subtype          |Number_of_houses|Avg_size_household|Avg_age    |Customer_main_type   |Avg_Salary|label|Constant|age_category|scaled_salary         |\n",
      "+--------------------------+----------------+------------------+-----------+---------------------+----------+-----+--------+------------+----------------------+\n",
      "|Lower class large families|1               |3                 |30-40 years|Family with grown ups|44905     |0    |Finance |Mid aged    |-8.909259952600299E-4 |\n",
      "|Mixed small town dwellers |1               |2                 |30-40 years|Family with grown ups|37575     |0    |Finance |Mid aged    |-7.408404359522945E-4 |\n",
      "|Mixed small town dwellers |1               |2                 |30-40 years|Family with grown ups|27915     |0    |Finance |Mid aged    |-5.431156491695438E-4 |\n",
      "|Modern, complete families |1               |3                 |40-50 years|Average Family       |19504     |0    |Finance |Old         |-3.7101952066151124E-4|\n",
      "|Large family farms        |1               |4                 |30-40 years|Farmers              |34943     |0    |Finance |Mid aged    |-6.869598504063203E-4 |\n",
      "|Young and rising          |1               |2                 |20-30 years|Living well          |13064     |0    |Finance |Young       |-2.392917210421644E-4 |\n",
      "|Large religious families  |2               |3                 |30-40 years|Conservative families|29090     |0    |Finance |Mid aged    |-5.671618504305288E-4 |\n",
      "|Lower class large families|1               |2                 |40-50 years|Family with grown ups|6895      |0    |Finance |Old         |-1.1313965381105936E-4|\n",
      "|Lower class large families|1               |2                 |50-60 years|Family with grown ups|35497     |0    |Finance |Old         |-6.983004946015599E-4 |\n",
      "|Family starters           |2               |3                 |40-50 years|Average Family       |30800     |0    |Finance |Old         |-6.021588126726663E-4 |\n",
      "+--------------------------+----------------+------------------+-----------+---------------------+----------+-----+--------+------------+----------------------+\n",
      "only showing top 10 rows\n",
      "\n"
     ]
    }
   ],
   "source": [
    "min_sal = 1361\n",
    "max_sal = 48919896\n",
    "from pyspark.sql.functions import pandas_udf, PandasUDFType\n",
    "def scaled_salary(salary):\n",
    "    scaled_sal = (salary-min_sal) / (salary-max_sal)\n",
    "    return scaled_sal\n",
    "scaling_udf = pandas_udf(scaled_salary,DoubleType())\n",
    "df_csv = df_csv.withColumn('scaled_salary',scaling_udf(df_csv['Avg_Salary'])).show(10,False)"
   ]
  },
  {
   "cell_type": "code",
   "execution_count": 61,
   "id": "1f95253d-c845-42e7-9de9-4175120676a6",
   "metadata": {},
   "outputs": [
    {
     "name": "stdout",
     "output_type": "stream",
     "text": [
      "+--------------------+-----------+\n",
      "|  Customer_main_type|Region_code|\n",
      "+--------------------+-----------+\n",
      "|Family with grown...|         PN|\n",
      "|      Driven growers|         CJ|\n",
      "|Conservative fami...|         DD|\n",
      "|    Cruising Seniors|         DL|\n",
      "|      Average family|         ML|\n",
      "|         Living well|         KA|\n",
      "|Successful hedonists|         JH|\n",
      "|Retired and Relig...|         AX|\n",
      "|       Career Loners|         HY|\n",
      "|             Farmers|         JH|\n",
      "+--------------------+-----------+\n",
      "\n"
     ]
    }
   ],
   "source": [
    "region_data = spark.createDataFrame([\n",
    "    ('Family with grown ups','PN'),\n",
    "    ('Driven growers','CJ'),\n",
    "    ('Conservative families','DD'),\n",
    "    ('Cruising Seniors','DL'),\n",
    "    ('Average family','ML'),\n",
    "    ('Living well','KA'),\n",
    "    ('Successful hedonists','JH'),\n",
    "    ('Retired and Religious','AX'),\n",
    "    ('Career Loners','HY'),('Farmers','JH')],\n",
    "    schema=StructType().add('Customer_main_type','string').add('Region_code','string'))\n",
    "region_data.show()"
   ]
  },
  {
   "cell_type": "code",
   "execution_count": 64,
   "id": "f97f4520-e5e5-408d-95ec-877211337c40",
   "metadata": {},
   "outputs": [
    {
     "name": "stdout",
     "output_type": "stream",
     "text": [
      "+-----------+-----+\n",
      "|Region_code|count|\n",
      "+-----------+-----+\n",
      "|         PN|  542|\n",
      "|         DD|  236|\n",
      "|         DL|   60|\n",
      "|         KA|  178|\n",
      "|         JH|  287|\n",
      "|         HY|   15|\n",
      "|         AX|  202|\n",
      "+-----------+-----+\n",
      "\n"
     ]
    }
   ],
   "source": [
    "new_df = df_csv.join(region_data,on='Customer_main_type')\n",
    "new_df.groupBy('Region_code').count().show()"
   ]
  },
  {
   "cell_type": "code",
   "execution_count": 65,
   "id": "3be09cc0-79fe-47fe-a801-4faf05aa77bd",
   "metadata": {},
   "outputs": [
    {
     "name": "stdout",
     "output_type": "stream",
     "text": [
      "+--------------------+-----------+-----------+-----------+-----------+-----------+-----------+\n",
      "|  Customer_main_type|20-30 years|30-40 years|40-50 years|50-60 years|60-70 years|70-80 years|\n",
      "+--------------------+-----------+-----------+-----------+-----------+-----------+-----------+\n",
      "|             Farmers|          0|     462027|    2031235|     316206|          0|          0|\n",
      "|       Career Loners|     143998|     176639|      25701|     105193|      32558|          0|\n",
      "|Retired and Relig...|     126350|     336631|    2975266|    1687711|     335357|      61124|\n",
      "|Successful hedonists|      42261|  171278764| 1223362814| 1563071675|  200340129|      15518|\n",
      "|         Living well|     460528|    2965303|    1795405|     331304|          0|          0|\n",
      "|      Average Family|          0|   23682805|    7789464|     412490|     226281|          0|\n",
      "|    Cruising Seniors|          0|      43302|     303601|     529354|     716425|     139538|\n",
      "|Conservative fami...|      69390|    2381485|    3449782|     915954|     146432|          0|\n",
      "|      Driven Growers|          0|    1376260|    3407807|     424272|      83936|          0|\n",
      "|Family with grown...|      16406|    2620378|    9132414|    3295378|     162820|      10496|\n",
      "+--------------------+-----------+-----------+-----------+-----------+-----------+-----------+\n",
      "\n"
     ]
    }
   ],
   "source": [
    "df_csv.groupBy('Customer_main_type').pivot('Avg_age').sum('Avg_Salary').fillna(0).show()"
   ]
  },
  {
   "cell_type": "code",
   "execution_count": 67,
   "id": "1467e567-e94c-4d53-b52d-d9a0d8ccb9b5",
   "metadata": {},
   "outputs": [
    {
     "name": "stdout",
     "output_type": "stream",
     "text": [
      "+--------------------+----------+---------+\n",
      "|  Customer_main_type|         0|        1|\n",
      "+--------------------+----------+---------+\n",
      "|             Farmers|   2734832|    74636|\n",
      "|       Career Loners|    484089|        0|\n",
      "|Retired and Relig...|   5328410|   194029|\n",
      "|Successful hedonists|2720381462|437729699|\n",
      "|         Living well|   5453384|    99156|\n",
      "|      Average Family|  26036999|  6074041|\n",
      "|    Cruising Seniors|   1675841|    56379|\n",
      "|Conservative fami...|   6595027|   368016|\n",
      "|      Driven Growers|   4492465|   799810|\n",
      "|Family with grown...|  14394094|   843798|\n",
      "+--------------------+----------+---------+\n",
      "\n"
     ]
    }
   ],
   "source": [
    "df_csv.groupBy('Customer_main_type').pivot('label').sum('Avg_Salary').fillna(0).show()"
   ]
  },
  {
   "cell_type": "code",
   "execution_count": 68,
   "id": "85d8981c-1e13-4d78-a815-0686f4c393c8",
   "metadata": {},
   "outputs": [
    {
     "name": "stdout",
     "output_type": "stream",
     "text": [
      "+--------------------+----------------+------------------+-----------+--------------------+----------+-----+----+\n",
      "|    Customer_subtype|Number_of_houses|Avg_size_household|    Avg_age|  Customer_main_type|Avg_Salary|label|rank|\n",
      "+--------------------+----------------+------------------+-----------+--------------------+----------+-----+----+\n",
      "| High status seniors|               1|                 2|60-70 years|Successful hedonists|  48919896|    0|   1|\n",
      "|High Income, expe...|               1|                 2|50-60 years|Successful hedonists|  48177970|    0|   2|\n",
      "|High Income, expe...|               1|                 2|50-60 years|Successful hedonists|  48069548|    1|   3|\n",
      "|High Income, expe...|               1|                 3|40-50 years|Successful hedonists|  46911924|    0|   4|\n",
      "| High status seniors|               1|                 3|40-50 years|Successful hedonists|  46614009|    0|   5|\n",
      "|High Income, expe...|               1|                 3|30-40 years|Successful hedonists|  45952441|    0|   6|\n",
      "|High Income, expe...|               1|                 3|40-50 years|Successful hedonists|  45864609|    1|   7|\n",
      "| High status seniors|               1|                 1|50-60 years|Successful hedonists|  45592572|    0|   8|\n",
      "| High status seniors|               1|                 2|50-60 years|Successful hedonists|  45170899|    0|   9|\n",
      "|High Income, expe...|               1|                 3|50-60 years|Successful hedonists|  44843830|    0|  10|\n",
      "| High status seniors|               1|                 2|50-60 years|Successful hedonists|  43230349|    0|  11|\n",
      "| High status seniors|               1|                 5|40-50 years|Successful hedonists|  43181830|    0|  12|\n",
      "| High status seniors|               1|                 1|30-40 years|Successful hedonists|  42631926|    0|  13|\n",
      "| High status seniors|               1|                 2|50-60 years|Successful hedonists|  41919020|    0|  14|\n",
      "| High status seniors|               1|                 2|50-60 years|Successful hedonists|  41699271|    0|  15|\n",
      "| High status seniors|               1|                 2|40-50 years|Successful hedonists|  41398953|    0|  16|\n",
      "|High Income, expe...|               1|                 3|40-50 years|Successful hedonists|  41269615|    1|  17|\n",
      "| High status seniors|               1|                 2|50-60 years|Successful hedonists|  41192397|    1|  18|\n",
      "| High status seniors|               1|                 2|40-50 years|Successful hedonists|  40564335|    0|  19|\n",
      "| High status seniors|               1|                 2|50-60 years|Successful hedonists|  40453887|    0|  20|\n",
      "+--------------------+----------------+------------------+-----------+--------------------+----------+-----+----+\n",
      "only showing top 20 rows\n",
      "\n"
     ]
    }
   ],
   "source": [
    "from pyspark.sql.window import Window\n",
    "from pyspark.sql.functions import col,row_number\n",
    "\n",
    "win = Window.orderBy(df_csv['Avg_Salary'].desc())\n",
    "df_csv = df_csv.withColumn('rank',row_number().over(win).alias('rank'))\n",
    "df_csv.show()"
   ]
  },
  {
   "cell_type": "code",
   "execution_count": 69,
   "id": "93681ba7-c225-4381-ac6f-cd485efe21c5",
   "metadata": {},
   "outputs": [
    {
     "name": "stdout",
     "output_type": "stream",
     "text": [
      "+----+-----+\n",
      "|rank|count|\n",
      "+----+-----+\n",
      "|   1|   39|\n",
      "|   2|   37|\n",
      "|   3|   36|\n",
      "|   4|   36|\n",
      "|   5|   34|\n",
      "|   6|   34|\n",
      "|   7|   32|\n",
      "|   8|   31|\n",
      "|   9|   31|\n",
      "|  10|   31|\n",
      "|  11|   31|\n",
      "|  12|   31|\n",
      "|  13|   31|\n",
      "|  14|   31|\n",
      "|  15|   31|\n",
      "|  16|   30|\n",
      "|  17|   30|\n",
      "|  18|   27|\n",
      "|  19|   27|\n",
      "|  20|   27|\n",
      "+----+-----+\n",
      "only showing top 20 rows\n",
      "\n"
     ]
    }
   ],
   "source": [
    "win_1=Window.partitionBy('Customer_subtype').orderBy(df_csv['Avg_Salary'].desc())\n",
    "df_csv = df_csv.withColumn('rank',row_number().over(win_1).alias('rank'))\n",
    "df_csv.groupBy('rank').count().orderBy('rank').show()"
   ]
  },
  {
   "cell_type": "code",
   "execution_count": 70,
   "id": "a776886d-5168-4ec1-8013-d91866975da7",
   "metadata": {},
   "outputs": [
    {
     "name": "stdout",
     "output_type": "stream",
     "text": [
      "+--------------------+----------------+------------------+-----------+--------------------+----------+-----+----+\n",
      "|    Customer_subtype|Number_of_houses|Avg_size_household|    Avg_age|  Customer_main_type|Avg_Salary|label|rank|\n",
      "+--------------------+----------------+------------------+-----------+--------------------+----------+-----+----+\n",
      "|Affluent senior a...|               3|                 2|50-60 years|Successful hedonists|    994077|    0|   1|\n",
      "|Affluent senior a...|               1|                 2|50-60 years|Successful hedonists|    983051|    0|   2|\n",
      "|Affluent senior a...|               3|                 2|50-60 years|Successful hedonists|    944444|    0|   3|\n",
      "|Affluent young fa...|               1|                 3|30-40 years|      Average Family|    991838|    0|   1|\n",
      "|Affluent young fa...|               1|                 3|40-50 years|      Average Family|    988282|    0|   2|\n",
      "|Affluent young fa...|               1|                 3|30-40 years|      Average Family|    964596|    0|   3|\n",
      "|Career and childcare|               2|                 4|40-50 years|      Driven Growers|     47192|    0|   1|\n",
      "|Career and childcare|               1|                 3|40-50 years|      Driven Growers|     47068|    0|   2|\n",
      "|Career and childcare|               2|                 3|30-40 years|      Driven Growers|     44959|    0|   3|\n",
      "|Couples with teen...|               1|                 3|40-50 years|Family with grown...|     49211|    1|   1|\n",
      "|Couples with teen...|               1|                 2|40-50 years|Family with grown...|     49175|    0|   2|\n",
      "|Couples with teen...|               1|                 3|40-50 years|Family with grown...|     48926|    0|   3|\n",
      "|Dinki's (double i...|               2|                 1|60-70 years|      Driven Growers|     48812|    0|   1|\n",
      "|Dinki's (double i...|               1|                 3|30-40 years|      Driven Growers|     41192|    0|   2|\n",
      "|Dinki's (double i...|               1|                 3|40-50 years|      Driven Growers|     36505|    0|   3|\n",
      "|   Etnically diverse|               1|                 2|40-50 years|         Living well|     43764|    0|   1|\n",
      "|   Etnically diverse|               1|                 2|40-50 years|         Living well|     42475|    0|   2|\n",
      "|   Etnically diverse|               1|                 2|30-40 years|         Living well|     35545|    0|   3|\n",
      "|     Family starters|               1|                 3|40-50 years|      Average Family|     49602|    0|   1|\n",
      "|     Family starters|               1|                 2|40-50 years|      Average Family|     49363|    0|   2|\n",
      "+--------------------+----------------+------------------+-----------+--------------------+----------+-----+----+\n",
      "only showing top 20 rows\n",
      "\n"
     ]
    }
   ],
   "source": [
    "df_csv.filter(col('rank') < 4).show()"
   ]
  },
  {
   "cell_type": "code",
   "execution_count": null,
   "id": "cf40a81a-9b4c-4547-8379-96393e2d141f",
   "metadata": {},
   "outputs": [],
   "source": []
  }
 ],
 "metadata": {
  "kernelspec": {
   "display_name": "Python 3 (ipykernel)",
   "language": "python",
   "name": "python3"
  },
  "language_info": {
   "codemirror_mode": {
    "name": "ipython",
    "version": 3
   },
   "file_extension": ".py",
   "mimetype": "text/x-python",
   "name": "python",
   "nbconvert_exporter": "python",
   "pygments_lexer": "ipython3",
   "version": "3.10.6"
  }
 },
 "nbformat": 4,
 "nbformat_minor": 5
}
