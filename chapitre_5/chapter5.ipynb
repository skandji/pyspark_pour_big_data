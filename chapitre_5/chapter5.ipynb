{
 "cells": [
  {
   "cell_type": "code",
   "execution_count": 1,
   "id": "4b29d944-b476-4c4b-87bd-f33fac27f26c",
   "metadata": {},
   "outputs": [],
   "source": [
    "# Step 1: Load the Dataset\n",
    "from pyspark.sql import SparkSession\n",
    "spark = SparkSession.builder.appName('binary_class').getOrCreate()\n",
    "df = spark.read.csv('classification_data.csv', inferSchema=True, header=True)"
   ]
  },
  {
   "cell_type": "code",
   "execution_count": 2,
   "id": "f3e656e5-24a2-4771-a0ca-759fa6b86256",
   "metadata": {},
   "outputs": [
    {
     "name": "stdout",
     "output_type": "stream",
     "text": [
      "(46751, 12)\n"
     ]
    }
   ],
   "source": [
    "# Step 2: Explore the Dataframe\n",
    "print((df.count(),len(df.columns)))"
   ]
  },
  {
   "cell_type": "code",
   "execution_count": 3,
   "id": "f8d6b634-72ad-4677-8e04-322fe81eab7a",
   "metadata": {},
   "outputs": [
    {
     "name": "stdout",
     "output_type": "stream",
     "text": [
      "root\n",
      " |-- loan_id: string (nullable = true)\n",
      " |-- loan_purpose: string (nullable = true)\n",
      " |-- is_first_loan: integer (nullable = true)\n",
      " |-- total_credit_card_limit: integer (nullable = true)\n",
      " |-- avg_percentage_credit_card_limit_used_last_year: double (nullable = true)\n",
      " |-- saving_amount: integer (nullable = true)\n",
      " |-- checking_amount: integer (nullable = true)\n",
      " |-- is_employed: integer (nullable = true)\n",
      " |-- yearly_salary: integer (nullable = true)\n",
      " |-- age: integer (nullable = true)\n",
      " |-- dependent_number: integer (nullable = true)\n",
      " |-- label: integer (nullable = true)\n",
      "\n"
     ]
    }
   ],
   "source": [
    "df.printSchema()"
   ]
  },
  {
   "cell_type": "code",
   "execution_count": 4,
   "id": "440a4bd0-28a5-4b05-8784-0c6d516cd380",
   "metadata": {},
   "outputs": [
    {
     "name": "stdout",
     "output_type": "stream",
     "text": [
      "+-------+------------+-------------+-----------------------+-----------------------------------------------+-------------+---------------+-----------+-------------+---+----------------+-----+\n",
      "|loan_id|loan_purpose|is_first_loan|total_credit_card_limit|avg_percentage_credit_card_limit_used_last_year|saving_amount|checking_amount|is_employed|yearly_salary|age|dependent_number|label|\n",
      "+-------+------------+-------------+-----------------------+-----------------------------------------------+-------------+---------------+-----------+-------------+---+----------------+-----+\n",
      "|    A_1|    personal|            1|                   7900|                                            0.8|         1103|           6393|          1|        16400| 42|               4|    0|\n",
      "|    A_2|    personal|            0|                   3300|                                           0.29|         2588|            832|          1|        75500| 56|               1|    0|\n",
      "|    A_3|    personal|            0|                   7600|                                            0.9|         1651|           8868|          1|        59000| 46|               1|    0|\n",
      "|    A_4|    personal|            1|                   3400|                                           0.38|         1269|           6863|          1|        26000| 55|               8|    0|\n",
      "|    A_5|   emergency|            0|                   2600|                                           0.89|         1310|           3423|          1|         9700| 41|               4|    1|\n",
      "+-------+------------+-------------+-----------------------+-----------------------------------------------+-------------+---------------+-----------+-------------+---+----------------+-----+\n",
      "only showing top 5 rows\n",
      "\n"
     ]
    }
   ],
   "source": [
    "df.show(5)"
   ]
  },
  {
   "cell_type": "code",
   "execution_count": 5,
   "id": "2ed71a33-c5f2-40f2-ad8c-bbb38a44e467",
   "metadata": {},
   "outputs": [
    {
     "name": "stdout",
     "output_type": "stream",
     "text": [
      "+-----+-----+\n",
      "|label|count|\n",
      "+-----+-----+\n",
      "|    1|16201|\n",
      "|    0|30550|\n",
      "+-----+-----+\n",
      "\n"
     ]
    }
   ],
   "source": [
    "df.groupBy('label').count().show()"
   ]
  },
  {
   "cell_type": "code",
   "execution_count": 6,
   "id": "e7430819-229e-4b56-aeca-fa0ea747de05",
   "metadata": {},
   "outputs": [
    {
     "name": "stdout",
     "output_type": "stream",
     "text": [
      "+------------+-----+\n",
      "|loan_purpose|count|\n",
      "+------------+-----+\n",
      "|      others| 6763|\n",
      "|   emergency| 7562|\n",
      "|    property|11388|\n",
      "|  operations|10580|\n",
      "|    personal|10458|\n",
      "+------------+-----+\n",
      "\n"
     ]
    }
   ],
   "source": [
    "df.groupBy('loan_purpose').count().show()"
   ]
  },
  {
   "cell_type": "code",
   "execution_count": 7,
   "id": "dbcdf026-1654-4978-9052-31bbdce6acd5",
   "metadata": {},
   "outputs": [
    {
     "name": "stdout",
     "output_type": "stream",
     "text": [
      "+------------+------------+-----------------+\n",
      "|loan_purpose|loan_index_1|loan_purpose_vect|\n",
      "+------------+------------+-----------------+\n",
      "|personal    |2.0         |(4,[2],[1.0])    |\n",
      "|personal    |2.0         |(4,[2],[1.0])    |\n",
      "|personal    |2.0         |(4,[2],[1.0])    |\n",
      "+------------+------------+-----------------+\n",
      "only showing top 3 rows\n",
      "\n"
     ]
    }
   ],
   "source": [
    "# Data Transformation\n",
    "from pyspark.ml.feature import OneHotEncoder, StringIndexer, VectorAssembler\n",
    "loan_purpose_indexer = StringIndexer(inputCol='loan_purpose',outputCol='loan_index_1').fit(df)\n",
    "df = loan_purpose_indexer.transform(df)\n",
    "loan_encoder = OneHotEncoder(inputCol='loan_index_1',outputCol='loan_purpose_vect').fit(df)\n",
    "df = loan_encoder.transform(df)\n",
    "df.select(['loan_purpose','loan_index_1','loan_purpose_vect']).show(3,False)"
   ]
  },
  {
   "cell_type": "code",
   "execution_count": 8,
   "id": "00118f61-f980-46b5-87c0-426793b1e134",
   "metadata": {},
   "outputs": [
    {
     "name": "stdout",
     "output_type": "stream",
     "text": [
      "+--------------------------------------------------------------------+-----+\n",
      "|features                                                            |label|\n",
      "+--------------------------------------------------------------------+-----+\n",
      "|[1.0,7900.0,0.8,1103.0,6393.0,1.0,16400.0,42.0,4.0,0.0,0.0,1.0,0.0] |0    |\n",
      "|[0.0,3300.0,0.29,2588.0,832.0,1.0,75500.0,56.0,1.0,0.0,0.0,1.0,0.0] |0    |\n",
      "|[0.0,7600.0,0.9,1651.0,8868.0,1.0,59000.0,46.0,1.0,0.0,0.0,1.0,0.0] |0    |\n",
      "|[1.0,3400.0,0.38,1269.0,6863.0,1.0,26000.0,55.0,8.0,0.0,0.0,1.0,0.0]|0    |\n",
      "|[0.0,2600.0,0.89,1310.0,3423.0,1.0,9700.0,41.0,4.0,0.0,0.0,0.0,1.0] |1    |\n",
      "|[0.0,7600.0,0.51,1040.0,2406.0,1.0,22900.0,52.0,0.0,0.0,1.0,0.0,0.0]|0    |\n",
      "|[1.0,6900.0,0.82,2408.0,5556.0,1.0,34800.0,48.0,4.0,0.0,1.0,0.0,0.0]|0    |\n",
      "|[0.0,5700.0,0.56,1933.0,4139.0,1.0,32500.0,64.0,2.0,0.0,0.0,1.0,0.0]|0    |\n",
      "|[1.0,3400.0,0.95,3866.0,4131.0,1.0,13300.0,23.0,3.0,0.0,0.0,1.0,0.0]|0    |\n",
      "|[0.0,2900.0,0.91,88.0,2725.0,1.0,21100.0,52.0,1.0,0.0,0.0,1.0,0.0]  |1    |\n",
      "+--------------------------------------------------------------------+-----+\n",
      "only showing top 10 rows\n",
      "\n"
     ]
    }
   ],
   "source": [
    "from pyspark.ml.feature import VectorAssembler\n",
    "df_assembler = VectorAssembler(inputCols= ['is_first_loan','total_credit_card_limit','avg_percentage_credit_card_limit_used_last_year',\n",
    "                                          'saving_amount','checking_amount','is_employed','yearly_salary','age','dependent_number',\n",
    "                                           'loan_purpose_vect'], outputCol='features')\n",
    "df = df_assembler.transform(df)\n",
    "df.select(['features','label']).show(10,False)"
   ]
  },
  {
   "cell_type": "code",
   "execution_count": 9,
   "id": "b6a2afa8-d007-4fe7-a393-327b7924ddea",
   "metadata": {},
   "outputs": [],
   "source": [
    "model_df = df.select(['features','label'])"
   ]
  },
  {
   "cell_type": "code",
   "execution_count": 10,
   "id": "bad70185-468e-4c57-b429-b2edce1d0436",
   "metadata": {},
   "outputs": [],
   "source": [
    "# Splittting into Train and Test Data\n",
    "training_df,test_df=model_df.randomSplit([0.75,0.25])"
   ]
  },
  {
   "cell_type": "code",
   "execution_count": 11,
   "id": "7e243eb3-bd8c-4ef3-ad75-da78b5899de4",
   "metadata": {},
   "outputs": [
    {
     "data": {
      "text/plain": [
       "0.8945759030635574"
      ]
     },
     "execution_count": 11,
     "metadata": {},
     "output_type": "execute_result"
    }
   ],
   "source": [
    "# Model Training\n",
    "from pyspark.ml.classification import LogisticRegression\n",
    "log_reg = LogisticRegression().fit(training_df)\n",
    "lr_summary = log_reg.summary\n",
    "lr_summary.accuracy"
   ]
  },
  {
   "cell_type": "code",
   "execution_count": 12,
   "id": "6a6c7e1d-ca8c-4c01-92b2-7ad10e5cd252",
   "metadata": {},
   "outputs": [
    {
     "data": {
      "text/plain": [
       "0.9592862324650032"
      ]
     },
     "execution_count": 12,
     "metadata": {},
     "output_type": "execute_result"
    }
   ],
   "source": [
    "lr_summary.areaUnderROC"
   ]
  },
  {
   "cell_type": "code",
   "execution_count": 13,
   "id": "4f192efb-18bd-47a9-84a8-c7adfff5613d",
   "metadata": {},
   "outputs": [
    {
     "name": "stdout",
     "output_type": "stream",
     "text": [
      "[0.9237842617152962, 0.8411736178467507]\n"
     ]
    }
   ],
   "source": [
    "print(lr_summary.precisionByLabel)"
   ]
  },
  {
   "cell_type": "code",
   "execution_count": 14,
   "id": "43279cd0-7322-4e95-afa7-cfe2a6ab32f4",
   "metadata": {},
   "outputs": [
    {
     "name": "stdout",
     "output_type": "stream",
     "text": [
      "+--------------------+-----+--------------------+--------------------+----------+\n",
      "|            features|label|       rawPrediction|         probability|prediction|\n",
      "+--------------------+-----+--------------------+--------------------+----------+\n",
      "|(13,[0,1,2,3,4,7]...|    1|[-6.9043316031559...|[0.00100242368176...|       1.0|\n",
      "|(13,[0,1,2,3,4,7]...|    1|[-1.5292647391532...|[0.17810128869350...|       1.0|\n",
      "|(13,[0,1,2,3,4,7,...|    1|[-6.0680728009845...|[0.00231028183444...|       1.0|\n",
      "|(13,[0,1,2,3,4,7,...|    1|[-7.0359293413707...|[8.78927050751620...|       1.0|\n",
      "|(13,[0,1,2,3,4,7,...|    1|[-6.6783219287199...|[0.00125630673464...|       1.0|\n",
      "|(13,[0,1,2,3,4,7,...|    1|[-6.3616011657617...|[0.00172362391579...|       1.0|\n",
      "|(13,[0,1,2,3,4,7,...|    1|[-5.0415327912804...|[0.00642232020890...|       1.0|\n",
      "|(13,[0,1,2,3,4,7,...|    1|[-4.8881091666718...|[0.00747929626883...|       1.0|\n",
      "|(13,[0,1,2,3,4,7,...|    1|[-6.0056400757136...|[0.00245875082130...|       1.0|\n",
      "|(13,[0,1,2,3,4,7,...|    1|[-4.2619214827229...|[0.01389927967832...|       1.0|\n",
      "+--------------------+-----+--------------------+--------------------+----------+\n",
      "only showing top 10 rows\n",
      "\n"
     ]
    }
   ],
   "source": [
    "predictions = log_reg.transform(test_df)\n",
    "predictions.show(10)"
   ]
  },
  {
   "cell_type": "code",
   "execution_count": 15,
   "id": "cdcf3248-2598-409d-995e-97016704c6be",
   "metadata": {},
   "outputs": [
    {
     "data": {
      "text/plain": [
       "0.891402330130113"
      ]
     },
     "execution_count": 15,
     "metadata": {},
     "output_type": "execute_result"
    }
   ],
   "source": [
    "model_predictions = log_reg.transform(test_df)\n",
    "model_predictions = log_reg.evaluate(test_df)\n",
    "model_predictions.accuracy"
   ]
  },
  {
   "cell_type": "code",
   "execution_count": 16,
   "id": "d437d9f6-4d6a-4f5c-ac54-dc42321b5742",
   "metadata": {},
   "outputs": [
    {
     "data": {
      "text/plain": [
       "0.9577655689243675"
      ]
     },
     "execution_count": 16,
     "metadata": {},
     "output_type": "execute_result"
    }
   ],
   "source": [
    "model_predictions.areaUnderROC"
   ]
  },
  {
   "cell_type": "code",
   "execution_count": 17,
   "id": "edb962d3-a61a-4198-bdeb-13148a07c199",
   "metadata": {},
   "outputs": [
    {
     "name": "stdout",
     "output_type": "stream",
     "text": [
      "[0.9106515801794772, 0.855036855036855]\n"
     ]
    }
   ],
   "source": [
    "print(model_predictions.recallByLabel)"
   ]
  },
  {
   "cell_type": "code",
   "execution_count": 18,
   "id": "87b77387-61c0-4e83-b612-525be1d01127",
   "metadata": {},
   "outputs": [
    {
     "name": "stdout",
     "output_type": "stream",
     "text": [
      "[0.922286617492097, 0.8351331893448524]\n"
     ]
    }
   ],
   "source": [
    "print(model_predictions.precisionByLabel)"
   ]
  },
  {
   "cell_type": "code",
   "execution_count": null,
   "id": "55f1c74a-232e-49eb-939f-db57ee00f410",
   "metadata": {},
   "outputs": [],
   "source": [
    "# Hyperparameter Tuning\n",
    "from pyspark.ml.classification import RandomForestClassifier\n",
    "rf = RandomForestClassifier()\n",
    "rf_model = rf.fit(training_df)\n",
    "model_predictions = rf_model.transform(test_df)"
   ]
  },
  {
   "cell_type": "code",
   "execution_count": null,
   "id": "528adcb5-08ed-48a3-a68d-5d7c141a7785",
   "metadata": {},
   "outputs": [],
   "source": [
    "from pyspark.ml.tuning import ParamGridBuilder, CrossValidator\n",
    "from pyspark.ml.evaluation import BinaryClassificationEvaluator\n",
    "evaluator = BinaryClassificationEvaluator()\n",
    "rf = RandomForestClassifier()\n",
    "paramGrid = (ParamGridBuilder().addGrid(rf.maxDepth,[5,10,20,25,30]).addGrid(rf.maxBins,[20,30,40]).addGrid(rf.numTrees,[5,20,50])\n",
    "            .build())"
   ]
  },
  {
   "cell_type": "code",
   "execution_count": null,
   "id": "3b9b76cb-5250-4638-9ab5-16762f9fe596",
   "metadata": {},
   "outputs": [],
   "source": [
    "cv = CrossValidator(estimator=rf,estimatorParamMaps=paramGrid,evaluator=evaluator,numFolds=5)\n",
    "cv_model = cv.fit(training_df)"
   ]
  },
  {
   "cell_type": "code",
   "execution_count": null,
   "id": "c29202d0-7162-499e-95b0-709381d59ba3",
   "metadata": {},
   "outputs": [],
   "source": [
    "# Best Model\n",
    "best_rf_model = cv_model.bestModel\n",
    "model_predictions = best_rf_model.transform(test_df)\n",
    "true_pos = model_predictions.filter(model_predictions['label'] == 1).filter(model_predictions['prediction'] == 1).count()\n",
    "actual_pos = model_predictions.filter((model_predictions['label'] == 1)).count()\n",
    "pred_pos = model_predictions.filter([model_predictions['prediction'] == 1]).count()\n",
    "recall_rate = float(true_pos)/(actual_pos)\n",
    "print(recall_rate)"
   ]
  },
  {
   "cell_type": "code",
   "execution_count": null,
   "id": "5f90ea92-49d1-4d77-b9ba-994707ed514b",
   "metadata": {},
   "outputs": [],
   "source": []
  }
 ],
 "metadata": {
  "kernelspec": {
   "display_name": "Python 3 (ipykernel)",
   "language": "python",
   "name": "python3"
  },
  "language_info": {
   "codemirror_mode": {
    "name": "ipython",
    "version": 3
   },
   "file_extension": ".py",
   "mimetype": "text/x-python",
   "name": "python",
   "nbconvert_exporter": "python",
   "pygments_lexer": "ipython3",
   "version": "3.10.6"
  }
 },
 "nbformat": 4,
 "nbformat_minor": 5
}
