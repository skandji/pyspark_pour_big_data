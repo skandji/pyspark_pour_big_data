{
 "cells": [
  {
   "cell_type": "code",
   "execution_count": 1,
   "id": "ae3c33ce-e88e-472c-88d1-9f1ff1cb4f65",
   "metadata": {},
   "outputs": [],
   "source": [
    "# Create a Spark Session Object\n",
    "from pyspark.sql import SparkSession\n",
    "spark = SparkSession.builder.appName('supervised_ml').getOrCreate()"
   ]
  },
  {
   "cell_type": "code",
   "execution_count": 2,
   "id": "d523028b-5dc5-479d-ac8e-56d81c2517f9",
   "metadata": {},
   "outputs": [
    {
     "name": "stdout",
     "output_type": "stream",
     "text": [
      "(1232, 6)\n"
     ]
    }
   ],
   "source": [
    "# Read the Dataset\n",
    "df = spark.read.csv('Linear_regression_dataset.csv',inferSchema=True,header=True)\n",
    "print((df.count(),len(df.columns)))"
   ]
  },
  {
   "cell_type": "code",
   "execution_count": 3,
   "id": "104ff255-b2ef-4633-9fdc-b2d8e19240a1",
   "metadata": {},
   "outputs": [
    {
     "name": "stdout",
     "output_type": "stream",
     "text": [
      "root\n",
      " |-- var_1: integer (nullable = true)\n",
      " |-- var_2: integer (nullable = true)\n",
      " |-- var_3: integer (nullable = true)\n",
      " |-- var_4: double (nullable = true)\n",
      " |-- var_5: double (nullable = true)\n",
      " |-- label: double (nullable = true)\n",
      "\n"
     ]
    }
   ],
   "source": [
    "df.printSchema()"
   ]
  },
  {
   "cell_type": "code",
   "execution_count": 4,
   "id": "e00d7f1c-04d8-40cf-b6a9-1cdff4eb6e6e",
   "metadata": {},
   "outputs": [
    {
     "name": "stdout",
     "output_type": "stream",
     "text": [
      "+-----+-----+-----+-----+-----+-----+\n",
      "|var_1|var_2|var_3|var_4|var_5|label|\n",
      "+-----+-----+-----+-----+-----+-----+\n",
      "|  734|  688|   81|0.328|0.259|0.418|\n",
      "|  700|  600|   94| 0.32|0.247|0.389|\n",
      "|  712|  705|   93|0.311|0.247|0.417|\n",
      "|  734|  806|   69|0.315| 0.26|0.415|\n",
      "|  613|  759|   61|0.302| 0.24|0.378|\n",
      "|  748|  676|   85|0.318|0.255|0.422|\n",
      "|  669|  588|   97|0.315|0.251|0.411|\n",
      "|  667|  845|   68|0.324|0.251|0.381|\n",
      "|  758|  890|   64| 0.33|0.274|0.436|\n",
      "|  726|  670|   88|0.335|0.268|0.422|\n",
      "+-----+-----+-----+-----+-----+-----+\n",
      "only showing top 10 rows\n",
      "\n"
     ]
    }
   ],
   "source": [
    "df.show(10)"
   ]
  },
  {
   "cell_type": "code",
   "execution_count": 5,
   "id": "4c79d9f5-55d0-41b2-9031-f888c3c216ae",
   "metadata": {},
   "outputs": [
    {
     "data": {
      "text/plain": [
       "['var_1', 'var_2', 'var_3', 'var_4', 'var_5', 'label']"
      ]
     },
     "execution_count": 5,
     "metadata": {},
     "output_type": "execute_result"
    }
   ],
   "source": [
    "# Feature Engineering\n",
    "from pyspark.ml.linalg import Vector\n",
    "from pyspark.ml.feature import VectorAssembler\n",
    "df.columns"
   ]
  },
  {
   "cell_type": "code",
   "execution_count": 6,
   "id": "1da852e9-029c-419f-99f7-9b74a8104be9",
   "metadata": {},
   "outputs": [
    {
     "name": "stdout",
     "output_type": "stream",
     "text": [
      "root\n",
      " |-- var_1: integer (nullable = true)\n",
      " |-- var_2: integer (nullable = true)\n",
      " |-- var_3: integer (nullable = true)\n",
      " |-- var_4: double (nullable = true)\n",
      " |-- var_5: double (nullable = true)\n",
      " |-- label: double (nullable = true)\n",
      " |-- features: vector (nullable = true)\n",
      "\n"
     ]
    }
   ],
   "source": [
    "vec_assembler = VectorAssembler(inputCols=['var_1','var_2','var_3','var_4','var_5'],outputCol='features')\n",
    "features_df = vec_assembler.transform(df)\n",
    "features_df.printSchema()"
   ]
  },
  {
   "cell_type": "code",
   "execution_count": 7,
   "id": "9c55cf09-88b1-4cc3-85ed-b7f0162b6547",
   "metadata": {},
   "outputs": [
    {
     "name": "stdout",
     "output_type": "stream",
     "text": [
      "+--------------------+-----+\n",
      "|            features|label|\n",
      "+--------------------+-----+\n",
      "|[734.0,688.0,81.0...|0.418|\n",
      "|[700.0,600.0,94.0...|0.389|\n",
      "|[712.0,705.0,93.0...|0.417|\n",
      "|[734.0,806.0,69.0...|0.415|\n",
      "|[613.0,759.0,61.0...|0.378|\n",
      "|[748.0,676.0,85.0...|0.422|\n",
      "|[669.0,588.0,97.0...|0.411|\n",
      "|[667.0,845.0,68.0...|0.381|\n",
      "|[758.0,890.0,64.0...|0.436|\n",
      "|[726.0,670.0,88.0...|0.422|\n",
      "|[583.0,794.0,55.0...|0.371|\n",
      "|[676.0,746.0,72.0...|  0.4|\n",
      "|[767.0,699.0,89.0...|0.433|\n",
      "|[637.0,597.0,86.0...|0.374|\n",
      "|[609.0,724.0,69.0...|0.382|\n",
      "|[776.0,733.0,83.0...|0.437|\n",
      "|[701.0,832.0,66.0...| 0.39|\n",
      "|[650.0,709.0,74.0...|0.386|\n",
      "|[804.0,668.0,95.0...|0.453|\n",
      "|[713.0,614.0,94.0...|0.404|\n",
      "+--------------------+-----+\n",
      "only showing top 20 rows\n",
      "\n"
     ]
    }
   ],
   "source": [
    "features_df.select(['features','label']).show()"
   ]
  },
  {
   "cell_type": "code",
   "execution_count": 8,
   "id": "0e4ddf8d-56ba-4c99-8167-334d7af884a7",
   "metadata": {},
   "outputs": [
    {
     "name": "stdout",
     "output_type": "stream",
     "text": [
      "Size of train dataset: 957\n"
     ]
    }
   ],
   "source": [
    "# Split the Dataset\n",
    "train, test = features_df.randomSplit([0.75,0.25])\n",
    "print(f\"Size of train dataset: {train.count()}\")"
   ]
  },
  {
   "cell_type": "code",
   "execution_count": 9,
   "id": "666a3683-8edd-4148-86f7-62a3fdd34a1b",
   "metadata": {},
   "outputs": [
    {
     "name": "stdout",
     "output_type": "stream",
     "text": [
      "Size of test dataset: 275\n"
     ]
    }
   ],
   "source": [
    "print(f\"Size of test dataset: {test.count()}\")"
   ]
  },
  {
   "cell_type": "code",
   "execution_count": 10,
   "id": "2b7837f7-8ef7-4493-a386-5b307a6054c4",
   "metadata": {},
   "outputs": [
    {
     "name": "stdout",
     "output_type": "stream",
     "text": [
      "+-----+-----+-----+-----+-----+-----+--------------------+-------------------+\n",
      "|var_1|var_2|var_3|var_4|var_5|label|            features|         prediction|\n",
      "+-----+-----+-----+-----+-----+-----+--------------------+-------------------+\n",
      "|  464|  640|   66|0.283| 0.22|0.301|[464.0,640.0,66.0...|0.31470481617220386|\n",
      "|  470|  509|   76|0.289| 0.23|0.319|[470.0,509.0,76.0...|0.31280138011519926|\n",
      "|  473|  499|   73|0.281|0.228|0.315|[473.0,499.0,73.0...|0.31754655205434246|\n",
      "|  513|  698|   61|0.298|0.236|0.339|[513.0,698.0,61.0...|0.33084277117254834|\n",
      "|  524|  665|   65|0.287|0.224|0.336|[524.0,665.0,65.0...| 0.3359456374887837|\n",
      "|  528|  652|   71|  0.3| 0.23|0.319|[528.0,652.0,71.0...| 0.3314590465273831|\n",
      "|  543|  615|   76|0.294|0.233|0.333|[543.0,615.0,76.0...|0.34147070532239615|\n",
      "|  550|  631|   76|0.306|0.235|0.318|[550.0,631.0,76.0...|0.33721349956428487|\n",
      "|  564|  648|   74|0.294|0.236|0.337|[564.0,648.0,74.0...|0.35150291627544694|\n",
      "|  567|  587|   84|0.301|0.238|0.349|[567.0,587.0,84.0...|0.34741306329094185|\n",
      "|  567|  595|   74|0.309| 0.25|0.359|[567.0,595.0,74.0...|0.34607682354077784|\n",
      "|  569|  544|   82|0.304| 0.24|0.343|[569.0,544.0,82.0...|0.34456612664886255|\n",
      "|  569|  776|   53|0.296|0.246|0.348|[569.0,776.0,53.0...| 0.3590023125527631|\n",
      "|  572|  646|   71|0.311|0.235|0.329|[572.0,646.0,71.0...|0.34131455040257874|\n",
      "|  573|  634|   75|0.308|0.244|0.342|[573.0,634.0,75.0...| 0.3481066417922509|\n",
      "|  581|  724|   64|0.314|0.248|0.346|[581.0,724.0,64.0...|0.35096591686379985|\n",
      "|  583|  532|   80|0.306|0.252|0.343|[583.0,532.0,80.0...| 0.3528065050114531|\n",
      "|  583|  794|   55|0.302|0.236|0.371|[583.0,794.0,55.0...|0.35624402350611817|\n",
      "|  584|  680|   63|0.298|0.234| 0.35|[584.0,680.0,63.0...| 0.3544374107863798|\n",
      "|  586|  688|   69|0.309| 0.24|0.338|[586.0,688.0,69.0...| 0.3516449856553102|\n",
      "+-----+-----+-----+-----+-----+-----+--------------------+-------------------+\n",
      "only showing top 20 rows\n",
      "\n"
     ]
    }
   ],
   "source": [
    "# Build and Train Linear Regression Model\n",
    "from pyspark.ml.regression import LinearRegression\n",
    "lr = LinearRegression()\n",
    "lr_model = lr.fit(train)\n",
    "predictions_df = lr_model.transform(test)\n",
    "predictions_df.show()"
   ]
  },
  {
   "cell_type": "code",
   "execution_count": 11,
   "id": "73a76fc3-05f3-4712-9f36-75dede75ce74",
   "metadata": {},
   "outputs": [
    {
     "data": {
      "text/plain": [
       "0.894175919423698"
      ]
     },
     "execution_count": 11,
     "metadata": {},
     "output_type": "execute_result"
    }
   ],
   "source": [
    "# Evaluate Linear Regression Model on Test Data\n",
    "model_predictions = lr_model.evaluate(test)\n",
    "model_predictions.r2"
   ]
  },
  {
   "cell_type": "code",
   "execution_count": 12,
   "id": "d3f14897-f504-4f5f-8547-4cf089efaff8",
   "metadata": {},
   "outputs": [
    {
     "name": "stdout",
     "output_type": "stream",
     "text": [
      "0.00012626480950094274\n"
     ]
    }
   ],
   "source": [
    "print(model_predictions.meanSquaredError)"
   ]
  },
  {
   "cell_type": "code",
   "execution_count": 13,
   "id": "435b63db-62a7-420e-8b7c-888dc8d4f90d",
   "metadata": {},
   "outputs": [],
   "source": [
    "# GLM\n",
    "from pyspark.ml.regression import GeneralizedLinearRegression"
   ]
  },
  {
   "cell_type": "code",
   "execution_count": 14,
   "id": "df9e0df1-e2a2-48c6-854a-9fc52aec12bc",
   "metadata": {},
   "outputs": [
    {
     "data": {
      "text/plain": [
       "DenseVector([0.0004, 0.0, 0.0002, -0.7018, 0.4683])"
      ]
     },
     "execution_count": 14,
     "metadata": {},
     "output_type": "execute_result"
    }
   ],
   "source": [
    "glr = GeneralizedLinearRegression()\n",
    "grl_model = glr.fit(train)\n",
    "grl_model.coefficients"
   ]
  },
  {
   "cell_type": "code",
   "execution_count": 15,
   "id": "606e9ec6-7d31-4cf1-a863-c01cb05ce8b7",
   "metadata": {},
   "outputs": [
    {
     "data": {
      "text/plain": [
       "Coefficients:\n",
       "    Feature Estimate Std Error  T Value P Value\n",
       "(Intercept)   0.2049    0.0162  12.6433  0.0000\n",
       "      var_1   0.0004    0.0000  24.5135  0.0000\n",
       "      var_2   0.0000    0.0000   4.1691  0.0000\n",
       "      var_3   0.0002    0.0001   1.7301  0.0839\n",
       "      var_4  -0.7018    0.0681 -10.3070  0.0000\n",
       "      var_5   0.4683    0.0618   7.5817  0.0000\n",
       "\n",
       "(Dispersion parameter for gaussian family taken to be 0.0002)\n",
       "    Null deviance: 1.0342 on 951 degrees of freedom\n",
       "Residual deviance: 0.1437 on 951 degrees of freedom\n",
       "AIC: -5695.1271"
      ]
     },
     "execution_count": 15,
     "metadata": {},
     "output_type": "execute_result"
    }
   ],
   "source": [
    "grl_model.summary"
   ]
  },
  {
   "cell_type": "code",
   "execution_count": 16,
   "id": "58a444b5-4bc6-4b96-b9d3-0994f036e584",
   "metadata": {},
   "outputs": [
    {
     "name": "stdout",
     "output_type": "stream",
     "text": [
      "+-----+-----+-----+-----+-----+-----+--------------------+-------------------+\n",
      "|var_1|var_2|var_3|var_4|var_5|label|            features|         prediction|\n",
      "+-----+-----+-----+-----+-----+-----+--------------------+-------------------+\n",
      "|  464|  640|   66|0.283| 0.22|0.301|[464.0,640.0,66.0...|0.31470481617220386|\n",
      "|  470|  509|   76|0.289| 0.23|0.319|[470.0,509.0,76.0...|0.31280138011519926|\n",
      "|  473|  499|   73|0.281|0.228|0.315|[473.0,499.0,73.0...|0.31754655205434246|\n",
      "|  513|  698|   61|0.298|0.236|0.339|[513.0,698.0,61.0...|0.33084277117254834|\n",
      "|  524|  665|   65|0.287|0.224|0.336|[524.0,665.0,65.0...| 0.3359456374887837|\n",
      "|  528|  652|   71|  0.3| 0.23|0.319|[528.0,652.0,71.0...| 0.3314590465273831|\n",
      "|  543|  615|   76|0.294|0.233|0.333|[543.0,615.0,76.0...|0.34147070532239615|\n",
      "|  550|  631|   76|0.306|0.235|0.318|[550.0,631.0,76.0...|0.33721349956428487|\n",
      "|  564|  648|   74|0.294|0.236|0.337|[564.0,648.0,74.0...|0.35150291627544694|\n",
      "|  567|  587|   84|0.301|0.238|0.349|[567.0,587.0,84.0...|0.34741306329094185|\n",
      "|  567|  595|   74|0.309| 0.25|0.359|[567.0,595.0,74.0...|0.34607682354077784|\n",
      "|  569|  544|   82|0.304| 0.24|0.343|[569.0,544.0,82.0...|0.34456612664886255|\n",
      "|  569|  776|   53|0.296|0.246|0.348|[569.0,776.0,53.0...| 0.3590023125527631|\n",
      "|  572|  646|   71|0.311|0.235|0.329|[572.0,646.0,71.0...|0.34131455040257874|\n",
      "|  573|  634|   75|0.308|0.244|0.342|[573.0,634.0,75.0...| 0.3481066417922509|\n",
      "|  581|  724|   64|0.314|0.248|0.346|[581.0,724.0,64.0...|0.35096591686379985|\n",
      "|  583|  532|   80|0.306|0.252|0.343|[583.0,532.0,80.0...| 0.3528065050114531|\n",
      "|  583|  794|   55|0.302|0.236|0.371|[583.0,794.0,55.0...|0.35624402350611817|\n",
      "|  584|  680|   63|0.298|0.234| 0.35|[584.0,680.0,63.0...| 0.3544374107863798|\n",
      "|  586|  688|   69|0.309| 0.24|0.338|[586.0,688.0,69.0...| 0.3516449856553102|\n",
      "+-----+-----+-----+-----+-----+-----+--------------------+-------------------+\n",
      "only showing top 20 rows\n",
      "\n"
     ]
    }
   ],
   "source": [
    "# Evaluate the Model Performance on Test Data\n",
    "model_predictions = grl_model.evaluate(test)\n",
    "model_predictions.predictions.show()"
   ]
  },
  {
   "cell_type": "code",
   "execution_count": 17,
   "id": "5b00fd1a-29dd-408f-b6a1-bc7ede8c8705",
   "metadata": {},
   "outputs": [
    {
     "data": {
      "text/plain": [
       "-1674.2943350078167"
      ]
     },
     "execution_count": 17,
     "metadata": {},
     "output_type": "execute_result"
    }
   ],
   "source": [
    "model_predictions.aic"
   ]
  },
  {
   "cell_type": "code",
   "execution_count": 18,
   "id": "c5840d36-9b46-4e25-b7f4-5ec0081a8d82",
   "metadata": {},
   "outputs": [
    {
     "data": {
      "text/plain": [
       "291.64672106066456"
      ]
     },
     "execution_count": 18,
     "metadata": {},
     "output_type": "execute_result"
    }
   ],
   "source": [
    "# GLM Binomial\n",
    "glr = GeneralizedLinearRegression(family=\"Binomial\")\n",
    "glr_model = glr.fit(train)\n",
    "model_predictions = glr_model.evaluate(test)\n",
    "model_predictions.aic"
   ]
  },
  {
   "cell_type": "code",
   "execution_count": 19,
   "id": "2bf6e5c4-2331-453b-9eac-0389d9688cb2",
   "metadata": {},
   "outputs": [
    {
     "data": {
      "text/plain": [
       "230.78768967062442"
      ]
     },
     "execution_count": 19,
     "metadata": {},
     "output_type": "execute_result"
    }
   ],
   "source": [
    "# GLM Poisson\n",
    "glr = GeneralizedLinearRegression(family=\"Poisson\")\n",
    "glr_model = glr.fit(train)\n",
    "model_predictions = glr_model.evaluate(test)\n",
    "model_predictions.aic"
   ]
  },
  {
   "cell_type": "code",
   "execution_count": 20,
   "id": "550ded96-5da4-4411-a285-d5d8ab914405",
   "metadata": {},
   "outputs": [
    {
     "data": {
      "text/plain": [
       "-1635.0246682483435"
      ]
     },
     "execution_count": 20,
     "metadata": {},
     "output_type": "execute_result"
    }
   ],
   "source": [
    "# GLM Gamma\n",
    "glr = GeneralizedLinearRegression(family=\"Gamma\")\n",
    "glr_model = glr.fit(train)\n",
    "model_predictions = glr_model.evaluate(test)\n",
    "model_predictions.aic"
   ]
  },
  {
   "cell_type": "code",
   "execution_count": 21,
   "id": "d4a3115c-e75c-44bb-928a-2b7e2eda2675",
   "metadata": {},
   "outputs": [
    {
     "data": {
      "text/plain": [
       "SparseVector(5, {0: 0.9691, 1: 0.0159, 2: 0.0014, 3: 0.004, 4: 0.0095})"
      ]
     },
     "execution_count": 21,
     "metadata": {},
     "output_type": "execute_result"
    }
   ],
   "source": [
    "# Build and Train Decision Tree Regressor Model\n",
    "from pyspark.ml.regression import DecisionTreeRegressor\n",
    "dec_tree = DecisionTreeRegressor()\n",
    "dec_tree_model = dec_tree.fit(train)\n",
    "dec_tree_model.featureImportances"
   ]
  },
  {
   "cell_type": "code",
   "execution_count": 22,
   "id": "ba781a4d-af6d-41aa-96e7-e813c75a8a90",
   "metadata": {},
   "outputs": [
    {
     "name": "stdout",
     "output_type": "stream",
     "text": [
      "+-----+-----+-----+-----+-----+-----+--------------------+-------------------+\n",
      "|var_1|var_2|var_3|var_4|var_5|label|            features|         prediction|\n",
      "+-----+-----+-----+-----+-----+-----+--------------------+-------------------+\n",
      "|  464|  640|   66|0.283| 0.22|0.301|[464.0,640.0,66.0...|0.32063636363636366|\n",
      "|  470|  509|   76|0.289| 0.23|0.319|[470.0,509.0,76.0...|0.32063636363636366|\n",
      "|  473|  499|   73|0.281|0.228|0.315|[473.0,499.0,73.0...|0.32063636363636366|\n",
      "|  513|  698|   61|0.298|0.236|0.339|[513.0,698.0,61.0...|             0.3403|\n",
      "|  524|  665|   65|0.287|0.224|0.336|[524.0,665.0,65.0...|              0.327|\n",
      "|  528|  652|   71|  0.3| 0.23|0.319|[528.0,652.0,71.0...|0.32063636363636366|\n",
      "|  543|  615|   76|0.294|0.233|0.333|[543.0,615.0,76.0...|0.32063636363636366|\n",
      "|  550|  631|   76|0.306|0.235|0.318|[550.0,631.0,76.0...|             0.3403|\n",
      "|  564|  648|   74|0.294|0.236|0.337|[564.0,648.0,74.0...| 0.3519770114942529|\n",
      "|  567|  587|   84|0.301|0.238|0.349|[567.0,587.0,84.0...| 0.3519770114942529|\n",
      "|  567|  595|   74|0.309| 0.25|0.359|[567.0,595.0,74.0...| 0.3519770114942529|\n",
      "|  569|  544|   82|0.304| 0.24|0.343|[569.0,544.0,82.0...| 0.3519770114942529|\n",
      "|  569|  776|   53|0.296|0.246|0.348|[569.0,776.0,53.0...| 0.3519770114942529|\n",
      "|  572|  646|   71|0.311|0.235|0.329|[572.0,646.0,71.0...| 0.3519770114942529|\n",
      "|  573|  634|   75|0.308|0.244|0.342|[573.0,634.0,75.0...| 0.3519770114942529|\n",
      "|  581|  724|   64|0.314|0.248|0.346|[581.0,724.0,64.0...| 0.3519770114942529|\n",
      "|  583|  532|   80|0.306|0.252|0.343|[583.0,532.0,80.0...| 0.3519770114942529|\n",
      "|  583|  794|   55|0.302|0.236|0.371|[583.0,794.0,55.0...| 0.3519770114942529|\n",
      "|  584|  680|   63|0.298|0.234| 0.35|[584.0,680.0,63.0...| 0.3519770114942529|\n",
      "|  586|  688|   69|0.309| 0.24|0.338|[586.0,688.0,69.0...| 0.3519770114942529|\n",
      "+-----+-----+-----+-----+-----+-----+--------------------+-------------------+\n",
      "only showing top 20 rows\n",
      "\n"
     ]
    }
   ],
   "source": [
    "# Evaluate the Model Performance on Test Data\n",
    "model_predictions = dec_tree_model.transform(test)\n",
    "model_predictions.show()"
   ]
  },
  {
   "cell_type": "code",
   "execution_count": 23,
   "id": "2d607fc9-3d85-451a-9e31-a06bb6c83ab3",
   "metadata": {},
   "outputs": [
    {
     "name": "stdout",
     "output_type": "stream",
     "text": [
      "The r-square value of DecisionTreeRegressor is 0.8579748961141658\n"
     ]
    }
   ],
   "source": [
    "from pyspark.ml.evaluation import RegressionEvaluator\n",
    "dt_evaluator = RegressionEvaluator(metricName='r2')\n",
    "dt_r2 = dt_evaluator.evaluate(model_predictions)\n",
    "print(f'The r-square value of DecisionTreeRegressor is {dt_r2}')"
   ]
  },
  {
   "cell_type": "code",
   "execution_count": 24,
   "id": "a81f714a-1164-4697-80ad-e00253d4e885",
   "metadata": {},
   "outputs": [
    {
     "name": "stdout",
     "output_type": "stream",
     "text": [
      "The rmse value of DecisionTreeRegressor is 0.013017616401907685\n"
     ]
    }
   ],
   "source": [
    "dt_evaluator = RegressionEvaluator(metricName='rmse')\n",
    "dt_rmse = dt_evaluator.evaluate(model_predictions)\n",
    "print(f'The rmse value of DecisionTreeRegressor is {dt_rmse}')"
   ]
  },
  {
   "cell_type": "code",
   "execution_count": 25,
   "id": "ca6262dd-c4fb-4e24-81fc-cfdc347e2bc3",
   "metadata": {},
   "outputs": [
    {
     "data": {
      "text/plain": [
       "SparseVector(5, {0: 0.4763, 1: 0.0425, 2: 0.0252, 3: 0.2029, 4: 0.2531})"
      ]
     },
     "execution_count": 25,
     "metadata": {},
     "output_type": "execute_result"
    }
   ],
   "source": [
    "# Build and Train Random Forest Regressor Model\n",
    "from pyspark.ml.regression import RandomForestRegressor\n",
    "rf = RandomForestRegressor()\n",
    "rf_model = rf.fit(train)\n",
    "rf_model.featureImportances"
   ]
  },
  {
   "cell_type": "code",
   "execution_count": 26,
   "id": "2d55a877-e797-4955-b510-f95d06c4f2a2",
   "metadata": {},
   "outputs": [
    {
     "data": {
      "text/plain": [
       "20"
      ]
     },
     "execution_count": 26,
     "metadata": {},
     "output_type": "execute_result"
    }
   ],
   "source": [
    "rf_model.getNumTrees"
   ]
  },
  {
   "cell_type": "code",
   "execution_count": 27,
   "id": "bf591d0f-70be-4ff9-949c-dc6f75397ee7",
   "metadata": {},
   "outputs": [
    {
     "name": "stdout",
     "output_type": "stream",
     "text": [
      "+-----+-----+-----+-----+-----+-----+--------------------+-------------------+\n",
      "|var_1|var_2|var_3|var_4|var_5|label|            features|         prediction|\n",
      "+-----+-----+-----+-----+-----+-----+--------------------+-------------------+\n",
      "|  464|  640|   66|0.283| 0.22|0.301|[464.0,640.0,66.0...| 0.3305856141503277|\n",
      "|  470|  509|   76|0.289| 0.23|0.319|[470.0,509.0,76.0...|0.32575887381108737|\n",
      "|  473|  499|   73|0.281|0.228|0.315|[473.0,499.0,73.0...|   0.32514797637519|\n",
      "|  513|  698|   61|0.298|0.236|0.339|[513.0,698.0,61.0...| 0.3433444808195728|\n",
      "|  524|  665|   65|0.287|0.224|0.336|[524.0,665.0,65.0...|0.33359836231846396|\n",
      "|  528|  652|   71|  0.3| 0.23|0.319|[528.0,652.0,71.0...| 0.3332565522283787|\n",
      "|  543|  615|   76|0.294|0.233|0.333|[543.0,615.0,76.0...| 0.3277685960333096|\n",
      "|  550|  631|   76|0.306|0.235|0.318|[550.0,631.0,76.0...| 0.3485841714565344|\n",
      "|  564|  648|   74|0.294|0.236|0.337|[564.0,648.0,74.0...| 0.3518305757418549|\n",
      "|  567|  587|   84|0.301|0.238|0.349|[567.0,587.0,84.0...|0.35422030798981685|\n",
      "|  567|  595|   74|0.309| 0.25|0.359|[567.0,595.0,74.0...| 0.3551384720599669|\n",
      "|  569|  544|   82|0.304| 0.24|0.343|[569.0,544.0,82.0...|0.35391195533281194|\n",
      "|  569|  776|   53|0.296|0.246|0.348|[569.0,776.0,53.0...| 0.3504393989600165|\n",
      "|  572|  646|   71|0.311|0.235|0.329|[572.0,646.0,71.0...|0.35078821530631327|\n",
      "|  573|  634|   75|0.308|0.244|0.342|[573.0,634.0,75.0...| 0.3517392171058518|\n",
      "|  581|  724|   64|0.314|0.248|0.346|[581.0,724.0,64.0...| 0.3603022576064059|\n",
      "|  583|  532|   80|0.306|0.252|0.343|[583.0,532.0,80.0...|0.35693673323244035|\n",
      "|  583|  794|   55|0.302|0.236|0.371|[583.0,794.0,55.0...|0.35620293965538397|\n",
      "|  584|  680|   63|0.298|0.234| 0.35|[584.0,680.0,63.0...| 0.3448814553065341|\n",
      "|  586|  688|   69|0.309| 0.24|0.338|[586.0,688.0,69.0...|  0.352253920468956|\n",
      "+-----+-----+-----+-----+-----+-----+--------------------+-------------------+\n",
      "only showing top 20 rows\n",
      "\n"
     ]
    }
   ],
   "source": [
    "model_predictions = rf_model.transform(test)\n",
    "model_predictions.show()"
   ]
  },
  {
   "cell_type": "code",
   "execution_count": 28,
   "id": "c1d395d2-9ce4-4492-97c7-399f7784392b",
   "metadata": {},
   "outputs": [
    {
     "name": "stdout",
     "output_type": "stream",
     "text": [
      "The r-square value of RandomForestRegressor is 0.8686152430464547\n"
     ]
    }
   ],
   "source": [
    "# Evaluate the Model Performance on Test Data\n",
    "rf_evaluator = RegressionEvaluator(metricName='r2')\n",
    "rf_r2 = rf_evaluator.evaluate(model_predictions)\n",
    "print(f'The r-square value of RandomForestRegressor is {rf_r2}')"
   ]
  },
  {
   "cell_type": "code",
   "execution_count": 29,
   "id": "8fa19243-6431-4005-a086-e6f4b11384ca",
   "metadata": {},
   "outputs": [
    {
     "name": "stdout",
     "output_type": "stream",
     "text": [
      "The rmse value of RandomForestRegressor is 0.012520492227806858\n"
     ]
    }
   ],
   "source": [
    "rf_evaluator = RegressionEvaluator(metricName='rmse')\n",
    "rf_rmse = rf_evaluator.evaluate(model_predictions)\n",
    "print(f'The rmse value of RandomForestRegressor is {rf_rmse}')"
   ]
  },
  {
   "cell_type": "code",
   "execution_count": 30,
   "id": "ab2fa4e9-de32-4076-9656-0972eb225f14",
   "metadata": {},
   "outputs": [
    {
     "data": {
      "text/plain": [
       "SparseVector(5, {0: 0.636, 1: 0.1079, 2: 0.0845, 3: 0.0826, 4: 0.089})"
      ]
     },
     "execution_count": 30,
     "metadata": {},
     "output_type": "execute_result"
    }
   ],
   "source": [
    "# Build and Train a GBT Regressor Model\n",
    "from pyspark.ml.regression import GBTRegressor\n",
    "gbt = GBTRegressor()\n",
    "gbt_model = gbt.fit(train)\n",
    "gbt_model.featureImportances"
   ]
  },
  {
   "cell_type": "code",
   "execution_count": 31,
   "id": "06913379-c68b-4eea-b2c6-0677ad114883",
   "metadata": {},
   "outputs": [
    {
     "name": "stdout",
     "output_type": "stream",
     "text": [
      "+-----+-----+-----+-----+-----+-----+--------------------+-------------------+\n",
      "|var_1|var_2|var_3|var_4|var_5|label|            features|         prediction|\n",
      "+-----+-----+-----+-----+-----+-----+--------------------+-------------------+\n",
      "|  464|  640|   66|0.283| 0.22|0.301|[464.0,640.0,66.0...|0.31843832127019095|\n",
      "|  470|  509|   76|0.289| 0.23|0.319|[470.0,509.0,76.0...|0.31620392522954444|\n",
      "|  473|  499|   73|0.281|0.228|0.315|[473.0,499.0,73.0...|0.31705322387073964|\n",
      "|  513|  698|   61|0.298|0.236|0.339|[513.0,698.0,61.0...|0.33877562674319683|\n",
      "|  524|  665|   65|0.287|0.224|0.336|[524.0,665.0,65.0...|0.32261735073282405|\n",
      "|  528|  652|   71|  0.3| 0.23|0.319|[528.0,652.0,71.0...|0.31903917637757384|\n",
      "|  543|  615|   76|0.294|0.233|0.333|[543.0,615.0,76.0...|0.32123471341196946|\n",
      "|  550|  631|   76|0.306|0.235|0.318|[550.0,631.0,76.0...|0.33779005747499546|\n",
      "|  564|  648|   74|0.294|0.236|0.337|[564.0,648.0,74.0...|0.35301969082307955|\n",
      "|  567|  587|   84|0.301|0.238|0.349|[567.0,587.0,84.0...| 0.3604064623336346|\n",
      "|  567|  595|   74|0.309| 0.25|0.359|[567.0,595.0,74.0...| 0.3516928113073267|\n",
      "|  569|  544|   82|0.304| 0.24|0.343|[569.0,544.0,82.0...|0.35092472876099623|\n",
      "|  569|  776|   53|0.296|0.246|0.348|[569.0,776.0,53.0...|0.35641546330421897|\n",
      "|  572|  646|   71|0.311|0.235|0.329|[572.0,646.0,71.0...| 0.3482563108551102|\n",
      "|  573|  634|   75|0.308|0.244|0.342|[573.0,634.0,75.0...| 0.3494670689692484|\n",
      "|  581|  724|   64|0.314|0.248|0.346|[581.0,724.0,64.0...| 0.3514288088537863|\n",
      "|  583|  532|   80|0.306|0.252|0.343|[583.0,532.0,80.0...|0.35327979955044314|\n",
      "|  583|  794|   55|0.302|0.236|0.371|[583.0,794.0,55.0...|0.34941573626670913|\n",
      "|  584|  680|   63|0.298|0.234| 0.35|[584.0,680.0,63.0...| 0.3462181275666228|\n",
      "|  586|  688|   69|0.309| 0.24|0.338|[586.0,688.0,69.0...| 0.3517470720258926|\n",
      "+-----+-----+-----+-----+-----+-----+--------------------+-------------------+\n",
      "only showing top 20 rows\n",
      "\n"
     ]
    }
   ],
   "source": [
    "model_predictions = gbt_model.transform(test)\n",
    "model_predictions.show()"
   ]
  },
  {
   "cell_type": "code",
   "execution_count": 32,
   "id": "0b8cd3d1-bee1-4c60-9477-d44f1c76f8eb",
   "metadata": {},
   "outputs": [
    {
     "name": "stdout",
     "output_type": "stream",
     "text": [
      "The r-square value of GradientBoostedRegressor is 0.8631390831694722\n"
     ]
    }
   ],
   "source": [
    "# Evaluate the Model Performance on Test Data\n",
    "gbt_evaluator = RegressionEvaluator(metricName='r2')\n",
    "gbt_r2 = gbt_evaluator.evaluate(model_predictions)\n",
    "print(f\"The r-square value of GradientBoostedRegressor is {gbt_r2}\")"
   ]
  },
  {
   "cell_type": "code",
   "execution_count": 33,
   "id": "1e57fd52-8a65-4e1e-a274-f126f376fa37",
   "metadata": {},
   "outputs": [
    {
     "name": "stdout",
     "output_type": "stream",
     "text": [
      "The rmse value of GradientBoostedRegressor is 0.01277875766980651\n"
     ]
    }
   ],
   "source": [
    "gbt_evaluator = RegressionEvaluator(metricName='rmse')\n",
    "gbt_rmse = gbt_evaluator.evaluate(model_predictions)\n",
    "print(f\"The rmse value of GradientBoostedRegressor is {gbt_rmse}\")"
   ]
  },
  {
   "cell_type": "code",
   "execution_count": 34,
   "id": "1918987e-285a-4230-9862-1a8538e5ff93",
   "metadata": {},
   "outputs": [
    {
     "data": {
      "text/plain": [
       "41188"
      ]
     },
     "execution_count": 34,
     "metadata": {},
     "output_type": "execute_result"
    }
   ],
   "source": [
    "# Reas the Dataset Bank\n",
    "df = spark.read.csv('bank_data.csv',inferSchema=True,header=True)\n",
    "df.count()"
   ]
  },
  {
   "cell_type": "code",
   "execution_count": 35,
   "id": "f16824cb-ac18-41ea-9ee6-7abe982c9bd9",
   "metadata": {},
   "outputs": [
    {
     "data": {
      "text/plain": [
       "['age',\n",
       " 'job',\n",
       " 'marital',\n",
       " 'education',\n",
       " 'default',\n",
       " 'housing',\n",
       " 'loan',\n",
       " 'contact',\n",
       " 'month',\n",
       " 'day_of_week',\n",
       " 'duration',\n",
       " 'campaign',\n",
       " 'pdays',\n",
       " 'previous',\n",
       " 'poutcome',\n",
       " 'emp.var.rate',\n",
       " 'cons.price.idx',\n",
       " 'cons.conf.idx',\n",
       " 'euribor3m',\n",
       " 'nr.employed',\n",
       " 'target_class']"
      ]
     },
     "execution_count": 35,
     "metadata": {},
     "output_type": "execute_result"
    }
   ],
   "source": [
    "df.columns"
   ]
  },
  {
   "cell_type": "code",
   "execution_count": 36,
   "id": "0d60c2c8-2416-4f06-b377-6efef2ecde24",
   "metadata": {},
   "outputs": [
    {
     "name": "stdout",
     "output_type": "stream",
     "text": [
      "root\n",
      " |-- age: integer (nullable = true)\n",
      " |-- job: string (nullable = true)\n",
      " |-- marital: string (nullable = true)\n",
      " |-- education: string (nullable = true)\n",
      " |-- default: string (nullable = true)\n",
      " |-- housing: string (nullable = true)\n",
      " |-- loan: string (nullable = true)\n",
      " |-- contact: string (nullable = true)\n",
      " |-- month: string (nullable = true)\n",
      " |-- day_of_week: string (nullable = true)\n",
      " |-- duration: integer (nullable = true)\n",
      " |-- campaign: integer (nullable = true)\n",
      " |-- pdays: integer (nullable = true)\n",
      " |-- previous: integer (nullable = true)\n",
      " |-- poutcome: string (nullable = true)\n",
      " |-- emp.var.rate: double (nullable = true)\n",
      " |-- cons.price.idx: double (nullable = true)\n",
      " |-- cons.conf.idx: double (nullable = true)\n",
      " |-- euribor3m: double (nullable = true)\n",
      " |-- nr.employed: double (nullable = true)\n",
      " |-- target_class: string (nullable = true)\n",
      "\n"
     ]
    }
   ],
   "source": [
    "df.printSchema()"
   ]
  },
  {
   "cell_type": "code",
   "execution_count": 37,
   "id": "c8bc30f9-7561-4b92-8b32-9ca79f290bf9",
   "metadata": {},
   "outputs": [
    {
     "name": "stdout",
     "output_type": "stream",
     "text": [
      "+------------+-----+\n",
      "|target_class|count|\n",
      "+------------+-----+\n",
      "|          no|36548|\n",
      "|         yes| 4640|\n",
      "+------------+-----+\n",
      "\n"
     ]
    }
   ],
   "source": [
    "df.groupBy('target_class').count().show()"
   ]
  },
  {
   "cell_type": "code",
   "execution_count": 38,
   "id": "bac0d505-8f94-4794-9d59-d22dbd50c612",
   "metadata": {},
   "outputs": [
    {
     "name": "stdout",
     "output_type": "stream",
     "text": [
      "+-----+-----+\n",
      "|label|count|\n",
      "+-----+-----+\n",
      "|    1| 4640|\n",
      "|    0|36548|\n",
      "+-----+-----+\n",
      "\n"
     ]
    }
   ],
   "source": [
    "# Feature Engineering for Model\n",
    "from pyspark.sql import functions as F\n",
    "from pyspark.sql import *\n",
    "df = df.withColumn(\"label\",F.when(df.target_class=='no',F.lit(0)).otherwise(F.lit(1)))\n",
    "df.groupBy('label').count().show()"
   ]
  },
  {
   "cell_type": "code",
   "execution_count": 39,
   "id": "bbd47642-d2d8-4528-85dd-dc187d75c5e4",
   "metadata": {},
   "outputs": [
    {
     "name": "stdout",
     "output_type": "stream",
     "text": [
      "+--------------------+-----+\n",
      "|            features|label|\n",
      "+--------------------+-----+\n",
      "|(17,[0,1,8,11,14,...|    0|\n",
      "|(17,[0,1,5,12,14,...|    0|\n",
      "|(17,[0,1,5,11,13,...|    0|\n",
      "|(17,[0,1,9,11,14,...|    0|\n",
      "|(17,[0,1,5,11,14,...|    0|\n",
      "|(17,[0,1,6,12,14,...|    0|\n",
      "|(17,[0,1,7,11,14,...|    0|\n",
      "|(17,[0,1,10,12,14...|    0|\n",
      "|(17,[0,2,7,11,13,...|    0|\n",
      "|(17,[0,2,5,11,13,...|    0|\n",
      "|(17,[0,1,10,12,14...|    0|\n",
      "|(17,[0,2,5,11,13,...|    0|\n",
      "|(17,[0,2,5,11,14,...|    0|\n",
      "|(17,[0,3,8,11,13,...|    0|\n",
      "|(17,[0,1,9,11,13,...|    0|\n",
      "|(17,[0,1,6,12,13,...|    0|\n",
      "|(17,[0,1,9,11,13,...|    0|\n",
      "|(17,[0,1,9,12,13,...|    0|\n",
      "|(17,[0,1,6,11,13,...|    0|\n",
      "|(17,[0,2,6,12,14,...|    0|\n",
      "+--------------------+-----+\n",
      "only showing top 20 rows\n",
      "\n"
     ]
    }
   ],
   "source": [
    "from pyspark.ml.feature import OneHotEncoder,StringIndexer, VectorAssembler\n",
    "def cat_to_num(df):\n",
    "    for col in df.columns:\n",
    "        # print(col)\n",
    "        if (col != 'emp.var.rate' and col != 'cons.price.idx' and col != 'cons.conf.idx' and col != 'nr.employed'):\n",
    "            stringIndexer = StringIndexer(inputCol=col,outputCol=col + \"_index\")\n",
    "            model = stringIndexer.fit(df)\n",
    "            indexed = model.transform(df)\n",
    "            encoder = OneHotEncoder(inputCol=col + \"_index\",outputCol=col + \"_vec\").fit(indexed)\n",
    "            df = encoder.transform(indexed)\n",
    "    df_assembler = VectorAssembler(inputCols=['age','marital_vec','education_vec','default_vec','housing_vec','loan_vec'],outputCol='features')\n",
    "    df = df_assembler.transform(df)\n",
    "    return df.select(['features','label'])\n",
    "df_new = cat_to_num(df)\n",
    "df_new.show()"
   ]
  },
  {
   "cell_type": "code",
   "execution_count": 40,
   "id": "78dee3ab-ebd8-446c-b04a-2c0a3bbd3a1b",
   "metadata": {},
   "outputs": [
    {
     "name": "stdout",
     "output_type": "stream",
     "text": [
      "Size of train dataset: 30887\n"
     ]
    }
   ],
   "source": [
    "# Split the Data into Train and Test Datasets\n",
    "train,test = df_new.randomSplit([0.75,0.25])\n",
    "print(f\"Size of train dataset: {train.count()}\")"
   ]
  },
  {
   "cell_type": "code",
   "execution_count": 41,
   "id": "4b29a891-71e7-41a7-bf82-eaff284c6c9b",
   "metadata": {},
   "outputs": [
    {
     "name": "stdout",
     "output_type": "stream",
     "text": [
      "Size of test dataset: 10301\n"
     ]
    }
   ],
   "source": [
    "print(f\"Size of test dataset: {test.count()}\")"
   ]
  },
  {
   "cell_type": "code",
   "execution_count": 42,
   "id": "1f6b99e9-2ffd-4b5b-8a5d-a60dcd44b89a",
   "metadata": {},
   "outputs": [
    {
     "name": "stdout",
     "output_type": "stream",
     "text": [
      "[0.021969224929965316,-0.3211286097539499,0.12547294125201688,-0.4963978392897877,-0.3304028108696147,-0.527120025446747,-0.8150666209586042,-0.47371416721417997,-0.5295415287515769,-0.6399138184009561,-0.14415512245618622,1.0117559777777694,0.018863021626325336,0.03420872270238865,-0.01925771103285988,0.056344728387398825,-0.03433008885419535]\n"
     ]
    }
   ],
   "source": [
    "# Build and Train the Logistic Regression Model\n",
    "from pyspark.ml.classification import LogisticRegression\n",
    "lr = LogisticRegression()\n",
    "lr_model = lr.fit(train)\n",
    "print(lr_model.coefficients)"
   ]
  },
  {
   "cell_type": "code",
   "execution_count": 43,
   "id": "c6d86262-1543-4723-b1f4-237c62019eb4",
   "metadata": {},
   "outputs": [
    {
     "name": "stdout",
     "output_type": "stream",
     "text": [
      "Accuracy: 0.8864894615857805\n"
     ]
    }
   ],
   "source": [
    "# Evaluate Performance on Training Data\n",
    "lr_summary = lr_model.summary\n",
    "print(f\"Accuracy: {lr_summary.accuracy}\")"
   ]
  },
  {
   "cell_type": "code",
   "execution_count": 44,
   "id": "5ee0235a-a1c1-4e86-b073-84f5302b9738",
   "metadata": {},
   "outputs": [
    {
     "name": "stdout",
     "output_type": "stream",
     "text": [
      "Area Under ROC: 0.6279086061422297\n"
     ]
    }
   ],
   "source": [
    "print(f\"Area Under ROC: {lr_summary.areaUnderROC}\")"
   ]
  },
  {
   "cell_type": "code",
   "execution_count": 45,
   "id": "7f5706ec-5683-4278-9c37-6fd14c5955a9",
   "metadata": {},
   "outputs": [
    {
     "name": "stdout",
     "output_type": "stream",
     "text": [
      "Recall: 0.8864894615857805\n"
     ]
    }
   ],
   "source": [
    "print(f\"Recall: {lr_summary.weightedRecall}\")"
   ]
  },
  {
   "cell_type": "code",
   "execution_count": 46,
   "id": "412f6038-40ca-44b2-b2bf-c8d7d6d9ac9b",
   "metadata": {},
   "outputs": [
    {
     "name": "stdout",
     "output_type": "stream",
     "text": [
      "Precision: 0.7858635655026469\n"
     ]
    }
   ],
   "source": [
    "print(f\"Precision: {lr_summary.weightedPrecision}\")"
   ]
  },
  {
   "cell_type": "code",
   "execution_count": 47,
   "id": "dad8b39c-8b45-407d-b146-9190044a236a",
   "metadata": {},
   "outputs": [
    {
     "name": "stdout",
     "output_type": "stream",
     "text": [
      "+-------------------+-------------------+\n",
      "|          threshold|          precision|\n",
      "+-------------------+-------------------+\n",
      "|0.33747925831104286| 0.6666666666666666|\n",
      "|0.31636295294391115|                0.5|\n",
      "|0.30683403913477036|             0.3125|\n",
      "| 0.3018735488966755| 0.2727272727272727|\n",
      "| 0.2937777849370645|0.38461538461538464|\n",
      "|0.28924051593720757| 0.3333333333333333|\n",
      "| 0.2845483882837043| 0.3611111111111111|\n",
      "| 0.2773256738134998|0.36585365853658536|\n",
      "|0.27275265862114284|0.34782608695652173|\n",
      "|0.26841669438331783|0.39215686274509803|\n",
      "|0.26476201251216336|0.36363636363636365|\n",
      "|0.26272428861254626|              0.375|\n",
      "| 0.2606100069019035|0.38235294117647056|\n",
      "| 0.2588907539043346|0.38666666666666666|\n",
      "| 0.2584910815096143| 0.3902439024390244|\n",
      "|0.25767572140279715| 0.3723404255319149|\n",
      "| 0.2543025563314383|0.37755102040816324|\n",
      "| 0.2521325985541839|0.37383177570093457|\n",
      "|0.25034772076714373| 0.3508771929824561|\n",
      "|0.24811181262720183|0.34959349593495936|\n",
      "+-------------------+-------------------+\n",
      "only showing top 20 rows\n",
      "\n"
     ]
    }
   ],
   "source": [
    "lr_summary.precisionByThreshold.show()"
   ]
  },
  {
   "cell_type": "code",
   "execution_count": 48,
   "id": "a4359c73-75cc-4ecc-9559-7a79a70a6734",
   "metadata": {},
   "outputs": [
    {
     "name": "stdout",
     "output_type": "stream",
     "text": [
      "+--------------------+--------------------+\n",
      "|                 FPR|                 TPR|\n",
      "+--------------------+--------------------+\n",
      "|                 0.0|                 0.0|\n",
      "|7.304335122895438E-5|0.001140901312036...|\n",
      "|1.826083780723859...|0.001426126640045636|\n",
      "|4.017384317592491...|0.001426126640045636|\n",
      "| 5.84346809831635E-4|0.001711351968054...|\n",
      "| 5.84346809831635E-4|0.002852253280091272|\n",
      "|7.304335122895439E-4|0.002852253280091272|\n",
      "|8.399985391329755E-4|0.003707929264118...|\n",
      "| 9.49563565976407E-4|0.004278379920136908|\n",
      "|0.001095650268434...|0.004563605248146035|\n",
      "|0.001132171944048...|0.005704506560182544|\n",
      "|0.001278258646506...|0.005704506560182544|\n",
      "|0.001460867024579...|0.006845407872219...|\n",
      "|0.001533910375808...|0.007415858528237307|\n",
      "|0.001679997078265951| 0.00827153451226469|\n",
      "|0.001826083780723...| 0.00912721049629207|\n",
      "|0.002154778861254...|0.009982886480319452|\n",
      "|0.002227822212483...|0.010553337136337706|\n",
      "|0.002446952266169972|0.011409013120365089|\n",
      "|0.002702603995471312|0.011409013120365089|\n",
      "+--------------------+--------------------+\n",
      "only showing top 20 rows\n",
      "\n"
     ]
    }
   ],
   "source": [
    "lr_summary.roc.show()"
   ]
  },
  {
   "cell_type": "code",
   "execution_count": 49,
   "id": "a6986a91-25d7-4fc0-a5ff-9b402669f45d",
   "metadata": {},
   "outputs": [
    {
     "name": "stdout",
     "output_type": "stream",
     "text": [
      "+-------------------+--------------------+\n",
      "|          threshold|              recall|\n",
      "+-------------------+--------------------+\n",
      "|0.33747925831104286|0.001140901312036...|\n",
      "|0.31636295294391115|0.001426126640045636|\n",
      "|0.30683403913477036|0.001426126640045636|\n",
      "| 0.3018735488966755|0.001711351968054...|\n",
      "| 0.2937777849370645|0.002852253280091272|\n",
      "|0.28924051593720757|0.002852253280091272|\n",
      "| 0.2845483882837043|0.003707929264118...|\n",
      "| 0.2773256738134998|0.004278379920136908|\n",
      "|0.27275265862114284|0.004563605248146035|\n",
      "|0.26841669438331783|0.005704506560182544|\n",
      "|0.26476201251216336|0.005704506560182544|\n",
      "|0.26272428861254626|0.006845407872219...|\n",
      "| 0.2606100069019035|0.007415858528237307|\n",
      "| 0.2588907539043346| 0.00827153451226469|\n",
      "| 0.2584910815096143| 0.00912721049629207|\n",
      "|0.25767572140279715|0.009982886480319452|\n",
      "| 0.2543025563314383|0.010553337136337706|\n",
      "| 0.2521325985541839|0.011409013120365089|\n",
      "|0.25034772076714373|0.011409013120365089|\n",
      "|0.24811181262720183| 0.01226468910439247|\n",
      "+-------------------+--------------------+\n",
      "only showing top 20 rows\n",
      "\n"
     ]
    }
   ],
   "source": [
    "lr_summary.recallByThreshold.show()"
   ]
  },
  {
   "cell_type": "code",
   "execution_count": 50,
   "id": "6248a9f6-4502-4e27-a212-67fe8e37e194",
   "metadata": {},
   "outputs": [
    {
     "name": "stdout",
     "output_type": "stream",
     "text": [
      "+--------------------+-------------------+\n",
      "|              recall|          precision|\n",
      "+--------------------+-------------------+\n",
      "|                 0.0| 0.6666666666666666|\n",
      "|0.001140901312036...| 0.6666666666666666|\n",
      "|0.001426126640045636|                0.5|\n",
      "|0.001426126640045636|             0.3125|\n",
      "|0.001711351968054...| 0.2727272727272727|\n",
      "|0.002852253280091272|0.38461538461538464|\n",
      "|0.002852253280091272| 0.3333333333333333|\n",
      "|0.003707929264118...| 0.3611111111111111|\n",
      "|0.004278379920136908|0.36585365853658536|\n",
      "|0.004563605248146035|0.34782608695652173|\n",
      "|0.005704506560182544|0.39215686274509803|\n",
      "|0.005704506560182544|0.36363636363636365|\n",
      "|0.006845407872219...|              0.375|\n",
      "|0.007415858528237307|0.38235294117647056|\n",
      "| 0.00827153451226469|0.38666666666666666|\n",
      "| 0.00912721049629207| 0.3902439024390244|\n",
      "|0.009982886480319452| 0.3723404255319149|\n",
      "|0.010553337136337706|0.37755102040816324|\n",
      "|0.011409013120365089|0.37383177570093457|\n",
      "|0.011409013120365089| 0.3508771929824561|\n",
      "+--------------------+-------------------+\n",
      "only showing top 20 rows\n",
      "\n"
     ]
    }
   ],
   "source": [
    "lr_summary.pr.show()"
   ]
  },
  {
   "cell_type": "code",
   "execution_count": 51,
   "id": "7227ae16-e79e-4480-a4ad-17bc7891ebea",
   "metadata": {},
   "outputs": [
    {
     "data": {
      "text/plain": [
       "['features', 'label', 'rawPrediction', 'probability', 'prediction']"
      ]
     },
     "execution_count": 51,
     "metadata": {},
     "output_type": "execute_result"
    }
   ],
   "source": [
    "# Evaluate Performance for Test Data \n",
    "model_predictions = lr_model.transform(test)\n",
    "model_predictions.columns"
   ]
  },
  {
   "cell_type": "code",
   "execution_count": 52,
   "id": "954d1cc4-c9aa-4aed-8b9d-76f618bd33cc",
   "metadata": {},
   "outputs": [
    {
     "name": "stdout",
     "output_type": "stream",
     "text": [
      "+-----+----------------------------------------+----------+\n",
      "|label|probability                             |prediction|\n",
      "+-----+----------------------------------------+----------+\n",
      "|0    |[0.9021081812733895,0.09789181872661046]|0.0       |\n",
      "|0    |[0.9001508887478817,0.09984911125211826]|0.0       |\n",
      "|0    |[0.8961317145480946,0.1038682854519054] |0.0       |\n",
      "|0    |[0.8940689578552654,0.10593104214473459]|0.0       |\n",
      "|0    |[0.8898349323043317,0.11016506769566825]|0.0       |\n",
      "|0    |[0.8898349323043317,0.11016506769566825]|0.0       |\n",
      "|0    |[0.8876628016128597,0.11233719838714029]|0.0       |\n",
      "|0    |[0.8854533560652911,0.11454664393470892]|0.0       |\n",
      "|1    |[0.8854533560652911,0.11454664393470892]|0.0       |\n",
      "|0    |[0.8832061728059836,0.11679382719401643]|0.0       |\n",
      "+-----+----------------------------------------+----------+\n",
      "only showing top 10 rows\n",
      "\n"
     ]
    }
   ],
   "source": [
    "model_predictions.select(['label','probability','prediction']).show(10,False)"
   ]
  },
  {
   "cell_type": "code",
   "execution_count": 53,
   "id": "f7411294-b2ac-4278-80a7-04ea1d910703",
   "metadata": {},
   "outputs": [
    {
     "name": "stdout",
     "output_type": "stream",
     "text": [
      "The auroc value of Logistic Regression Model is 0.6217478094591657\n"
     ]
    }
   ],
   "source": [
    "from pyspark.ml.evaluation import BinaryClassificationEvaluator\n",
    "lr_evaluator = BinaryClassificationEvaluator(metricName='areaUnderROC')\n",
    "lr_auroc = lr_evaluator.evaluate(model_predictions)\n",
    "print(f'The auroc value of Logistic Regression Model is {lr_auroc}')"
   ]
  },
  {
   "cell_type": "code",
   "execution_count": 54,
   "id": "ef2bf870-74bd-4c06-93e5-792c8a1a2755",
   "metadata": {},
   "outputs": [
    {
     "name": "stdout",
     "output_type": "stream",
     "text": [
      "The aupr value of Logistic Regression Model is 0.1728623284873477\n"
     ]
    }
   ],
   "source": [
    "lr_evaluator = BinaryClassificationEvaluator(metricName='areaUnderPR')\n",
    "lr_aupr = lr_evaluator.evaluate(model_predictions)\n",
    "print(f'The aupr value of Logistic Regression Model is {lr_aupr}')"
   ]
  },
  {
   "cell_type": "code",
   "execution_count": 55,
   "id": "512b1f18-5b2a-4f8e-af65-185012de965c",
   "metadata": {},
   "outputs": [
    {
     "name": "stdout",
     "output_type": "stream",
     "text": [
      "Recall\n",
      "Precision\n"
     ]
    }
   ],
   "source": [
    "true_pos = model_predictions.filter(model_predictions['label'] == 1).filter(model_predictions['prediction'] == 1).count()\n",
    "actual_pos = model_predictions.filter(model_predictions['label'] == 1).count()\n",
    "pred_pos = model_predictions.filter(model_predictions['prediction'] == 1).count()\n",
    "print('Recall')\n",
    "if (actual_pos != 0):\n",
    "    float(true_pos)/(actual_pos)\n",
    "print('Precision')\n",
    "if (pred_pos != 0):\n",
    "    float(true_pos)/(pred_pos)"
   ]
  },
  {
   "cell_type": "code",
   "execution_count": 56,
   "id": "a7f926ab-c0f5-41ab-bdbf-6576ff23a655",
   "metadata": {},
   "outputs": [
    {
     "name": "stdout",
     "output_type": "stream",
     "text": [
      "+-----+---------------------------------------+----------+\n",
      "|label|probability                            |prediction|\n",
      "+-----+---------------------------------------+----------+\n",
      "|0    |[0.895271524519896,0.10472847548010396]|0.0       |\n",
      "|0    |[0.895271524519896,0.10472847548010396]|0.0       |\n",
      "|0    |[0.895271524519896,0.10472847548010396]|0.0       |\n",
      "|0    |[0.895271524519896,0.10472847548010396]|0.0       |\n",
      "|0    |[0.895271524519896,0.10472847548010396]|0.0       |\n",
      "|0    |[0.895271524519896,0.10472847548010396]|0.0       |\n",
      "|0    |[0.895271524519896,0.10472847548010396]|0.0       |\n",
      "|0    |[0.895271524519896,0.10472847548010396]|0.0       |\n",
      "|1    |[0.895271524519896,0.10472847548010396]|0.0       |\n",
      "|0    |[0.895271524519896,0.10472847548010396]|0.0       |\n",
      "+-----+---------------------------------------+----------+\n",
      "only showing top 10 rows\n",
      "\n"
     ]
    }
   ],
   "source": [
    "# Build and Train Decision Tree Classifier Model\n",
    "from pyspark.ml.classification import DecisionTreeClassifier\n",
    "dt = DecisionTreeClassifier()\n",
    "dt_model = dt.fit(train)\n",
    "model_predictions = dt_model.transform(test)\n",
    "model_predictions.select(['label','probability','prediction']).show(10,False)"
   ]
  },
  {
   "cell_type": "code",
   "execution_count": 57,
   "id": "d410eaac-e39b-4984-9d3c-e21409248c87",
   "metadata": {},
   "outputs": [
    {
     "name": "stdout",
     "output_type": "stream",
     "text": [
      "The auc value of Decision Tree Classifier Model is 0.45296650107384256\n"
     ]
    }
   ],
   "source": [
    "# Evaluate Performance of Test Data\n",
    "dt_evaluator = BinaryClassificationEvaluator(metricName='areaUnderROC')\n",
    "dt_auroc = dt_evaluator.evaluate(model_predictions)\n",
    "print(f'The auc value of Decision Tree Classifier Model is {dt_auroc}')"
   ]
  },
  {
   "cell_type": "code",
   "execution_count": 58,
   "id": "ab3c2acb-441d-460f-9680-fa6f8b1ae576",
   "metadata": {},
   "outputs": [
    {
     "name": "stdout",
     "output_type": "stream",
     "text": [
      "The aupr value of Decision Tree Classifier Model is 0.10112460095978193\n"
     ]
    }
   ],
   "source": [
    "dt_evaluator = BinaryClassificationEvaluator(metricName='areaUnderPR')\n",
    "dt_aupr = dt_evaluator.evaluate(model_predictions)\n",
    "print(f'The aupr value of Decision Tree Classifier Model is {dt_aupr}')"
   ]
  },
  {
   "cell_type": "code",
   "execution_count": 59,
   "id": "c4b82780-1b4d-40bb-aba7-c59fef408e99",
   "metadata": {},
   "outputs": [
    {
     "name": "stdout",
     "output_type": "stream",
     "text": [
      "Recall\n",
      "Precision\n"
     ]
    }
   ],
   "source": [
    "true_pos = model_predictions.filter(model_predictions['label'] == 1).filter(model_predictions['prediction'] == 1).count()\n",
    "actual_pos = model_predictions.filter(model_predictions['label'] == 1).count()\n",
    "pred_pos = model_predictions.filter(model_predictions['prediction'] == 1).count()\n",
    "print('Recall')\n",
    "if (actual_pos != 0):\n",
    "    float(true_pos)/(actual_pos)\n",
    "print('Precision')\n",
    "if (pred_pos != 0):\n",
    "    float(true_pos)/(pred_pos)"
   ]
  },
  {
   "cell_type": "code",
   "execution_count": 60,
   "id": "99f6174e-3a0c-4d48-bf66-b9c994f30703",
   "metadata": {},
   "outputs": [
    {
     "data": {
      "text/plain": [
       "['features', 'label', 'rawPrediction', 'prediction']"
      ]
     },
     "execution_count": 60,
     "metadata": {},
     "output_type": "execute_result"
    }
   ],
   "source": [
    "from pyspark.ml.classification import LinearSVC\n",
    "lsvc = LinearSVC()\n",
    "lsvc_model = lsvc.fit(train)\n",
    "model_predictions = lsvc_model.transform(test)\n",
    "model_predictions.columns"
   ]
  },
  {
   "cell_type": "code",
   "execution_count": 61,
   "id": "331309ce-204e-4549-ba88-aa55b11c9ed4",
   "metadata": {},
   "outputs": [
    {
     "name": "stdout",
     "output_type": "stream",
     "text": [
      "+-----+----------+\n",
      "|label|prediction|\n",
      "+-----+----------+\n",
      "|0    |0.0       |\n",
      "|0    |0.0       |\n",
      "|0    |0.0       |\n",
      "|0    |0.0       |\n",
      "|0    |0.0       |\n",
      "|0    |0.0       |\n",
      "|0    |0.0       |\n",
      "|0    |0.0       |\n",
      "|1    |0.0       |\n",
      "|0    |0.0       |\n",
      "+-----+----------+\n",
      "only showing top 10 rows\n",
      "\n"
     ]
    }
   ],
   "source": [
    "model_predictions.select(['label','prediction']).show(10,False)"
   ]
  },
  {
   "cell_type": "code",
   "execution_count": 62,
   "id": "5311563e-7a66-4ced-9aae-58ce00191065",
   "metadata": {},
   "outputs": [
    {
     "name": "stdout",
     "output_type": "stream",
     "text": [
      "The auc value of SupportVectorClassifier is 0.5968848848016877\n"
     ]
    }
   ],
   "source": [
    "# Evaluate Performance on Test Data\n",
    "svc_evaluator = BinaryClassificationEvaluator(metricName='areaUnderROC')\n",
    "svc_auroc = svc_evaluator.evaluate(model_predictions)\n",
    "print(f'The auc value of SupportVectorClassifier is {svc_auroc}')"
   ]
  },
  {
   "cell_type": "code",
   "execution_count": 63,
   "id": "be96d25a-f047-44f7-9961-2809eee0975c",
   "metadata": {},
   "outputs": [
    {
     "name": "stdout",
     "output_type": "stream",
     "text": [
      "The aupr value of SupportVectorClassifier is 0.14725813117965697\n"
     ]
    }
   ],
   "source": [
    "svc_evaluator = BinaryClassificationEvaluator(metricName='areaUnderPR')\n",
    "svc_aupr = svc_evaluator.evaluate(model_predictions)\n",
    "print(f'The aupr value of SupportVectorClassifier is {svc_aupr}')"
   ]
  },
  {
   "cell_type": "code",
   "execution_count": 64,
   "id": "bec0ce0f-4e13-4094-9959-52b13a5b1730",
   "metadata": {},
   "outputs": [
    {
     "name": "stdout",
     "output_type": "stream",
     "text": [
      "Recall\n",
      "Precision\n"
     ]
    }
   ],
   "source": [
    "true_pos = model_predictions.filter(model_predictions['label'] == 1).filter(model_predictions['prediction'] == 1).count()\n",
    "actual_pos = model_predictions.filter(model_predictions['label'] == 1).count()\n",
    "pred_pos = model_predictions.filter(model_predictions['prediction'] == 1).count()\n",
    "print('Recall')\n",
    "if (actual_pos != 0):\n",
    "    float(true_pos)/(actual_pos)\n",
    "print('Precision')\n",
    "if (pred_pos != 0):\n",
    "    float(true_pos)/(pred_pos)"
   ]
  },
  {
   "cell_type": "code",
   "execution_count": 65,
   "id": "e6a8227b-3bcb-4d7e-b813-1737da4a3e27",
   "metadata": {},
   "outputs": [
    {
     "name": "stdout",
     "output_type": "stream",
     "text": [
      "+-----+----------------------------------------+----------+\n",
      "|label|probability                             |prediction|\n",
      "+-----+----------------------------------------+----------+\n",
      "|0    |[0.8562370871568835,0.14376291284311649]|0.0       |\n",
      "|0    |[0.8559284221619687,0.14407157783803126]|0.0       |\n",
      "|0    |[0.8553094387653087,0.14469056123469135]|0.0       |\n",
      "|0    |[0.8549991193581558,0.1450008806418442] |0.0       |\n",
      "|0    |[0.8543768226252731,0.14562317737472683]|0.0       |\n",
      "|0    |[0.8543768226252731,0.14562317737472683]|0.0       |\n",
      "|0    |[0.8540648443042509,0.14593515569574905]|0.0       |\n",
      "|0    |[0.8537523120194936,0.14624768798050644]|0.0       |\n",
      "|1    |[0.8537523120194936,0.14624768798050644]|0.0       |\n",
      "|0    |[0.8534392252776417,0.14656077472235818]|0.0       |\n",
      "+-----+----------------------------------------+----------+\n",
      "only showing top 10 rows\n",
      "\n"
     ]
    }
   ],
   "source": [
    "# Build and Train SVM Train\n",
    "from pyspark.ml.classification import NaiveBayes\n",
    "nb = NaiveBayes()\n",
    "nb_model = nb.fit(train)\n",
    "model_predictions = nb_model.transform(test)\n",
    "model_predictions.select(['label','probability','prediction']).show(10,False)"
   ]
  },
  {
   "cell_type": "code",
   "execution_count": 66,
   "id": "885476a2-20aa-4bd1-a457-186e5de76087",
   "metadata": {},
   "outputs": [
    {
     "name": "stdout",
     "output_type": "stream",
     "text": [
      "The auc value of NB Classifier is 0.5385761345090099\n"
     ]
    }
   ],
   "source": [
    "# Evaluate the Performance on Test Data\n",
    "nb_evaluator = BinaryClassificationEvaluator(metricName='areaUnderROC')\n",
    "nb_auroc = nb_evaluator.evaluate(model_predictions)\n",
    "print(f'The auc value of NB Classifier is {nb_auroc}')"
   ]
  },
  {
   "cell_type": "code",
   "execution_count": 67,
   "id": "27050acf-f6c9-4893-8ae4-a370f2a88aed",
   "metadata": {},
   "outputs": [
    {
     "name": "stdout",
     "output_type": "stream",
     "text": [
      "The aupr value of NB Classifier is 0.12686823143109424\n"
     ]
    }
   ],
   "source": [
    "nb_evaluator = BinaryClassificationEvaluator(metricName='areaUnderPR')\n",
    "nb_aupr = nb_evaluator.evaluate(model_predictions)\n",
    "print(f'The aupr value of NB Classifier is {nb_aupr}')"
   ]
  },
  {
   "cell_type": "code",
   "execution_count": 68,
   "id": "380df6af-b688-487a-a966-c7d5eb71825d",
   "metadata": {},
   "outputs": [
    {
     "name": "stdout",
     "output_type": "stream",
     "text": [
      "Recall\n",
      "Precision\n"
     ]
    }
   ],
   "source": [
    "true_pos = model_predictions.filter(model_predictions['label'] == 1).filter(model_predictions['prediction'] == 1).count()\n",
    "actual_pos = model_predictions.filter(model_predictions['label'] == 1).count()\n",
    "pred_pos = model_predictions.filter(model_predictions['prediction'] == 1).count()\n",
    "print('Recall')\n",
    "if (actual_pos != 0):\n",
    "    float(true_pos)/(actual_pos)\n",
    "print('Precision')\n",
    "if (pred_pos != 0):\n",
    "    float(true_pos)/(pred_pos)"
   ]
  },
  {
   "cell_type": "code",
   "execution_count": 69,
   "id": "396f21e9-f5cf-406e-91d8-b403183cba3a",
   "metadata": {},
   "outputs": [
    {
     "name": "stdout",
     "output_type": "stream",
     "text": [
      "+-----+----------------------------------------+----------+\n",
      "|label|probability                             |prediction|\n",
      "+-----+----------------------------------------+----------+\n",
      "|0    |[0.85012614422865,0.14987385577135004]  |0.0       |\n",
      "|0    |[0.85012614422865,0.14987385577135004]  |0.0       |\n",
      "|0    |[0.8406966539959689,0.15930334600403107]|0.0       |\n",
      "|0    |[0.8667593815300664,0.13324061846993362]|0.0       |\n",
      "|0    |[0.8667593815300664,0.13324061846993362]|0.0       |\n",
      "|0    |[0.8667593815300664,0.13324061846993362]|0.0       |\n",
      "|0    |[0.8673628690517133,0.13263713094828666]|0.0       |\n",
      "|0    |[0.8699471400084235,0.13005285999157645]|0.0       |\n",
      "|1    |[0.8699471400084235,0.13005285999157645]|0.0       |\n",
      "|0    |[0.8699471400084235,0.13005285999157645]|0.0       |\n",
      "+-----+----------------------------------------+----------+\n",
      "only showing top 10 rows\n",
      "\n"
     ]
    }
   ],
   "source": [
    "# Build and Train the GBT Model\n",
    "from pyspark.ml.classification import GBTClassifier\n",
    "gbt = GBTClassifier()\n",
    "gbt_model = gbt.fit(train)\n",
    "model_predictions = gbt_model.transform(test)\n",
    "model_predictions.select(['label','probability','prediction']).show(10,False)"
   ]
  },
  {
   "cell_type": "code",
   "execution_count": 70,
   "id": "60f44c3d-657a-4ffd-ad4d-1c6d22ccb001",
   "metadata": {},
   "outputs": [
    {
     "name": "stdout",
     "output_type": "stream",
     "text": [
      "The auc value of GradientBoostedTreesClassifier 0.6594454285356434\n"
     ]
    }
   ],
   "source": [
    "# Evaluate Performance on Test Data\n",
    "gbt_evaluator = BinaryClassificationEvaluator(metricName='areaUnderROC')\n",
    "gbt_auroc = gbt_evaluator.evaluate(model_predictions)\n",
    "print(f'The auc value of GradientBoostedTreesClassifier {gbt_auroc}')"
   ]
  },
  {
   "cell_type": "code",
   "execution_count": 71,
   "id": "9c33bab5-3886-4c25-a02c-d6eedd65693c",
   "metadata": {},
   "outputs": [
    {
     "name": "stdout",
     "output_type": "stream",
     "text": [
      "The aupr value of GradientBoostedTreesClassifier 0.22409626829491014\n"
     ]
    }
   ],
   "source": [
    "gbt_evaluator = BinaryClassificationEvaluator(metricName='areaUnderPR')\n",
    "gbt_aupr = gbt_evaluator.evaluate(model_predictions)\n",
    "print(f'The aupr value of GradientBoostedTreesClassifier {gbt_aupr}')"
   ]
  },
  {
   "cell_type": "code",
   "execution_count": 72,
   "id": "44c9685a-5dbb-4487-aea0-5922a0f9edb8",
   "metadata": {},
   "outputs": [
    {
     "name": "stdout",
     "output_type": "stream",
     "text": [
      "Recall\n",
      "Precision\n"
     ]
    }
   ],
   "source": [
    "true_pos = model_predictions.filter(model_predictions['label'] == 1).filter(model_predictions['prediction'] == 1).count()\n",
    "actual_pos = model_predictions.filter(model_predictions['label'] == 1).count()\n",
    "pred_pos = model_predictions.filter(model_predictions['prediction'] == 1).count()\n",
    "print('Recall')\n",
    "if (actual_pos != 0):\n",
    "    float(true_pos)/(actual_pos)\n",
    "print('Precision')\n",
    "if (pred_pos != 0):\n",
    "    float(true_pos)/(pred_pos)"
   ]
  },
  {
   "cell_type": "code",
   "execution_count": 73,
   "id": "d70ef882-3ea4-4ac2-9a9b-d20f2d691a8e",
   "metadata": {},
   "outputs": [
    {
     "name": "stdout",
     "output_type": "stream",
     "text": [
      "+-----+----------------------------------------+----------+\n",
      "|label|probability                             |prediction|\n",
      "+-----+----------------------------------------+----------+\n",
      "|0    |[0.8578064570054239,0.14219354299457604]|0.0       |\n",
      "|0    |[0.8727855867596094,0.1272144132403907] |0.0       |\n",
      "|0    |[0.8717816939817045,0.12821830601829556]|0.0       |\n",
      "|0    |[0.855876336582516,0.144123663417484]   |0.0       |\n",
      "|0    |[0.8801341435027843,0.11986585649721569]|0.0       |\n",
      "|0    |[0.8801341435027843,0.11986585649721569]|0.0       |\n",
      "|0    |[0.8755445242781492,0.12445547572185087]|0.0       |\n",
      "|0    |[0.8721588419744968,0.12784115802550314]|0.0       |\n",
      "|1    |[0.8721588419744968,0.12784115802550314]|0.0       |\n",
      "|0    |[0.8721588419744968,0.12784115802550314]|0.0       |\n",
      "+-----+----------------------------------------+----------+\n",
      "only showing top 10 rows\n",
      "\n"
     ]
    }
   ],
   "source": [
    "# Build and Train the Random Forest Model\n",
    "from pyspark.ml.classification import RandomForestClassifier\n",
    "rf = RandomForestClassifier(numTrees=50,maxDepth=30)\n",
    "rf_model = rf.fit(train)\n",
    "model_predictions = rf_model.transform(test)\n",
    "model_predictions.select(['label','probability','prediction']).show(10,False)"
   ]
  },
  {
   "cell_type": "code",
   "execution_count": 74,
   "id": "5f007d7a-6789-4f60-bd1a-b6dffd91426d",
   "metadata": {},
   "outputs": [
    {
     "name": "stdout",
     "output_type": "stream",
     "text": [
      "The auc value of RandomForestClassifier model is 0.6542310919333579\n"
     ]
    }
   ],
   "source": [
    "# Evaluate Performance on Test Data\n",
    "rf_evaluator = BinaryClassificationEvaluator(metricName='areaUnderROC')\n",
    "rf_auroc = rf_evaluator.evaluate(model_predictions)\n",
    "print(f'The auc value of RandomForestClassifier model is {rf_auroc}')"
   ]
  },
  {
   "cell_type": "code",
   "execution_count": 75,
   "id": "6a237e4a-e388-478f-beb0-4736cc3a53c9",
   "metadata": {},
   "outputs": [
    {
     "name": "stdout",
     "output_type": "stream",
     "text": [
      "The aupr value of RandomForestClassifier model is 0.21757247145983355\n"
     ]
    }
   ],
   "source": [
    "rf_evaluator = BinaryClassificationEvaluator(metricName='areaUnderPR')\n",
    "rf_aupr = rf_evaluator.evaluate(model_predictions)\n",
    "print(f'The aupr value of RandomForestClassifier model is {rf_aupr}')"
   ]
  },
  {
   "cell_type": "code",
   "execution_count": 76,
   "id": "951ee692-bd60-4e7e-8f77-3aa86c6985ce",
   "metadata": {},
   "outputs": [
    {
     "name": "stdout",
     "output_type": "stream",
     "text": [
      "Recall\n",
      "Precision\n"
     ]
    }
   ],
   "source": [
    "true_pos = model_predictions.filter(model_predictions['label'] == 1).filter(model_predictions['prediction'] == 1).count()\n",
    "actual_pos = model_predictions.filter(model_predictions['label'] == 1).count()\n",
    "pred_pos = model_predictions.filter(model_predictions['prediction'] == 1).count()\n",
    "print('Recall')\n",
    "if (actual_pos != 0):\n",
    "    float(true_pos)/(actual_pos)\n",
    "print('Precision')\n",
    "if (pred_pos != 0):\n",
    "    float(true_pos)/(pred_pos)"
   ]
  },
  {
   "cell_type": "code",
   "execution_count": null,
   "id": "2d92bc17-0d3e-49da-9ebd-f6cc89424854",
   "metadata": {},
   "outputs": [],
   "source": [
    "from pyspark.ml.tuning import ParamGridBuilder, CrossValidator\n",
    "rf = RandomForestClassifier()\n",
    "paramGrid = (ParamGridBuilder()\n",
    "            .addGrid(rf.maxDepth,[5,10,20,25,30])\n",
    "            .addGrid(rf.maxBins,[20,60])\n",
    "            .addGrid(rf.numTrees,[5,20,50,100])).build()\n",
    "cv = CrossValidator(estimator=rf,estimatorParamMaps=paramGrid,evaluator=rf_evaluator,numFolds=5)\n",
    "cv_model = cv.fit(train)\n",
    "best_rf_model = cv_model.bestModel\n",
    "model_predictions = best_rf_model.transform(test)\n",
    "rf_evaluator = BinaryClassificationEvaluator(metricName='areaUnderROC')\n",
    "rf_auroc = rf_evaluator.evaluate(model_predictions)\n",
    "print(rf_auroc)"
   ]
  },
  {
   "cell_type": "code",
   "execution_count": null,
   "id": "90fcd8ed-f505-4b08-b836-9e902fb05ac4",
   "metadata": {},
   "outputs": [],
   "source": []
  }
 ],
 "metadata": {
  "kernelspec": {
   "display_name": "Python 3 (ipykernel)",
   "language": "python",
   "name": "python3"
  },
  "language_info": {
   "codemirror_mode": {
    "name": "ipython",
    "version": 3
   },
   "file_extension": ".py",
   "mimetype": "text/x-python",
   "name": "python",
   "nbconvert_exporter": "python",
   "pygments_lexer": "ipython3",
   "version": "3.10.6"
  }
 },
 "nbformat": 4,
 "nbformat_minor": 5
}
